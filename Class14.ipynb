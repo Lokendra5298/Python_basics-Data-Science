{
 "cells": [
  {
   "cell_type": "code",
   "execution_count": 21,
   "id": "e4ba4a74-3040-4da8-afa1-05a153890aa7",
   "metadata": {},
   "outputs": [
    {
     "name": "stdout",
     "output_type": "stream",
     "text": [
      "5.3 + 6.7 j\n",
      "4.8 + 3.1 j\n",
      "10.1 + 9.8 j\n",
      "0.5 + 3.6 j\n"
     ]
    },
    {
     "data": {
      "text/plain": [
       "<__main__.Complex at 0x2a3baa9b490>"
      ]
     },
     "execution_count": 21,
     "metadata": {},
     "output_type": "execute_result"
    }
   ],
   "source": [
    "# Private Data using underscore\n",
    "class Complex:\n",
    "    def __init__(self, r=0, im=0):\n",
    "        self.real = r\n",
    "        self.imag = im\n",
    "        print(self.real,\"+\",self.imag,'j')\n",
    "        \n",
    "    def add(self, other):\n",
    "        new_real = self.real + other.real\n",
    "        new_imag = self.imag + other.imag\n",
    "        return Complex(new_real,new_imag)\n",
    "\n",
    "#    def add_comp(self, other):\n",
    "#        c= Complex()\n",
    "#        c._real = self._real + other._real\n",
    "#        c._imag = self._imag + other._imag\n",
    "#        return c\n",
    "\n",
    "    def substract(self, other):\n",
    "        new_real = self.real - other.real\n",
    "        new_imag = self.imag - other.imag\n",
    "        return Complex(new_real,new_imag)\n",
    "\n",
    "a= Complex(5.3,6.7)\n",
    "b= Complex(4.8,3.1)\n",
    "# print(a+b)\n",
    "a.add(b) # operator overloading\n",
    "# a.add_comp(b) # operator overloading\n",
    "a.substract(b) # operator overloading"
   ]
  },
  {
   "cell_type": "code",
   "execution_count": 1,
   "id": "79126422-77b6-42f0-a3b6-8534f7edf799",
   "metadata": {},
   "outputs": [
    {
     "name": "stdout",
     "output_type": "stream",
     "text": [
      "Buddy is a Labrador dog.\n",
      "Woof!\n"
     ]
    }
   ],
   "source": [
    "# Classes Container and Inheritance\n",
    "class Base:\n",
    "    def __init__(self, name):\n",
    "        self.name = name\n",
    "\n",
    "    def make_sound(self):\n",
    "        pass  # This method will be overridden by derived classes\n",
    "\n",
    "\n",
    "class Derived(Base):\n",
    "    def __init__(self, name, breed):\n",
    "        # Call the constructor of the base class using super()\n",
    "        super().__init__(name)\n",
    "        self.breed = breed\n",
    "\n",
    "    def make_sound(self):\n",
    "        return \"Woof!\"\n",
    "\n",
    "\n",
    "my_dog = Derived(name=\"Buddy\", breed=\"Labrador\")\n",
    "\n",
    "# Access attributes from the base class\n",
    "print(f\"{my_dog.name} is a {my_dog.breed} dog.\")\n",
    "\n",
    "# Call a method from the base class\n",
    "print(my_dog.make_sound())     "
   ]
  },
  {
   "cell_type": "code",
   "execution_count": null,
   "id": "b0e1a651-a2d4-4d66-9f05-3798d0da2ef9",
   "metadata": {},
   "outputs": [],
   "source": []
  }
 ],
 "metadata": {
  "kernelspec": {
   "display_name": "Python 3 (ipykernel)",
   "language": "python",
   "name": "python3"
  },
  "language_info": {
   "codemirror_mode": {
    "name": "ipython",
    "version": 3
   },
   "file_extension": ".py",
   "mimetype": "text/x-python",
   "name": "python",
   "nbconvert_exporter": "python",
   "pygments_lexer": "ipython3",
   "version": "3.11.4"
  }
 },
 "nbformat": 4,
 "nbformat_minor": 5
}
