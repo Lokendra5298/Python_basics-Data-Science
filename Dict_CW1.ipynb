{
 "cells": [
  {
   "cell_type": "code",
   "execution_count": 8,
   "id": "25d602a7-e5a9-4150-84f2-87abbfc69c80",
   "metadata": {},
   "outputs": [
    {
     "name": "stdout",
     "output_type": "stream",
     "text": [
      "{'Ram': 23, 'Anu': 19, 'Charlie': 26, 'David': 25}\n",
      "Charlie\n",
      "Anu\n",
      "\n",
      "\n",
      "{'Anu': 19, 'Charlie': 26, 'David': 25, 'Ram': 23}\n",
      "\n",
      "Modified Dictionary:\n",
      "{'Ram': 23, 'Anu': 19, 'David': 30, 'Shyam': 27}\n"
     ]
    }
   ],
   "source": [
    "student = {'Ram': 23, 'Anu': 19, 'Charlie': 26, 'David': 25 }\n",
    "\n",
    "# Finding the max and min values\n",
    "max_age = max(student, key=student.get)\n",
    "min_age = min(student, key=student.get)\n",
    "\n",
    "# Sorting the dictionary by values\n",
    "sorting = dict(sorted(student.items()))\n",
    "\n",
    "print(student)\n",
    "print(max_age)\n",
    "print(min_age)\n",
    "print(\"\\n\")\n",
    "print(sorting)\n",
    "\n",
    "# Performing addition, deletion, and modification\n",
    "student['Shyam'] = 27  # Addition\n",
    "del student['Charlie']  # Deletion\n",
    "student['David'] = 30  # Modification\n",
    "\n",
    "# modified dictionary\n",
    "print(\"\\nModified Dictionary:\")\n",
    "print(student)"
   ]
  },
  {
   "cell_type": "code",
   "execution_count": 9,
   "id": "3e53fc6f-27e5-4634-963c-cc472e03e6d9",
   "metadata": {},
   "outputs": [
    {
     "name": "stdout",
     "output_type": "stream",
     "text": [
      "{1: 1, 2: 4, 3: 9, 4: 16, 5: 25, 6: 36, 7: 49, 8: 64, 9: 81}\n"
     ]
    }
   ],
   "source": [
    "# Create a dictionary consisting of squares of integers from 1 to 9 using dictionary comprehension\n",
    "dict1 = {num: num**2 for num in range(1, 10)}\n",
    "\n",
    "print(dict1)"
   ]
  },
  {
   "cell_type": "code",
   "execution_count": null,
   "id": "817ab854-103c-4020-bd29-afd806fdf539",
   "metadata": {},
   "outputs": [],
   "source": []
  }
 ],
 "metadata": {
  "kernelspec": {
   "display_name": "Python 3 (ipykernel)",
   "language": "python",
   "name": "python3"
  },
  "language_info": {
   "codemirror_mode": {
    "name": "ipython",
    "version": 3
   },
   "file_extension": ".py",
   "mimetype": "text/x-python",
   "name": "python",
   "nbconvert_exporter": "python",
   "pygments_lexer": "ipython3",
   "version": "3.11.4"
  }
 },
 "nbformat": 4,
 "nbformat_minor": 5
}
