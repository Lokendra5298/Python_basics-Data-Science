{
 "cells": [
  {
   "cell_type": "code",
   "execution_count": 1,
   "id": "e8a93de5-7103-4ad1-b9ed-8820303747fb",
   "metadata": {},
   "outputs": [
    {
     "name": "stdout",
     "output_type": "stream",
     "text": [
      "{10: 100, 20: 200, 'ED1': 'name1', 'ED2': 'name2'}\n",
      "\n",
      "\n",
      "10 100\n",
      "20 200\n",
      "ED1 name1\n",
      "ED2 name2\n",
      "\n",
      "\n",
      "10\n",
      "20\n",
      "ED1\n",
      "ED2\n",
      "\n",
      "\n",
      "10\n",
      "20\n",
      "ED1\n",
      "ED2\n",
      "\n",
      "\n",
      "100\n",
      "200\n",
      "name1\n",
      "name2\n",
      "\n",
      "\n",
      "10\n",
      "20\n",
      "ED1\n",
      "ED2\n",
      "\n",
      "\n",
      "10 100\n",
      "20 200\n",
      "ED1 name1\n",
      "ED2 name2\n"
     ]
    }
   ],
   "source": [
    "dct1 = {10 : 100, 20 : 200, 'ED1' : 'name1', 'ED2' : 'name2'}\n",
    "print(dct1)\n",
    "print('\\n')\n",
    "\n",
    "for k, v in dct1.items():\n",
    "    print(k, v)\n",
    "\n",
    "print('\\n')\n",
    "for k in dct1.keys():\n",
    "    print(k)\n",
    "    \n",
    "print('\\n')\n",
    "for k in dct1:\n",
    "    print(k)\n",
    "\n",
    "print('\\n')\n",
    "for v in dct1.values():\n",
    "    print(v)\n",
    "\n",
    "print('\\n')\n",
    "for v in dct1:\n",
    "    print(v)\n",
    "\n",
    "print('\\n')\n",
    "for k in dct1.keys():\n",
    "    print(k,dct1[k])\n"
   ]
  },
  {
   "cell_type": "code",
   "execution_count": 2,
   "id": "2b6513cd-7300-4829-9038-30504355c39a",
   "metadata": {},
   "outputs": [
    {
     "name": "stdout",
     "output_type": "stream",
     "text": [
      "Concatenated Dictionary: {'a': 1, 'b': 2, 'c': 3, 'd': 4, 'e': 5, 'f': 6}\n",
      "{}\n",
      "{}\n",
      "{}\n"
     ]
    }
   ],
   "source": [
    "# Define three dictionaries\n",
    "dict1 = {'a': 1, 'b': 2}\n",
    "dict2 = {'c': 3, 'd': 4}\n",
    "dict3 = {'e': 5, 'f': 6}\n",
    "\n",
    "# Concatenate all dictionaries into another dictionary\n",
    "concatenated_dict = {}\n",
    "concatenated_dict.update(dict1)\n",
    "concatenated_dict.update(dict2)\n",
    "concatenated_dict.update(dict3)\n",
    "\n",
    "# Clear the contents of all dictionaries\n",
    "dict1.clear()\n",
    "dict2.clear()\n",
    "dict3.clear()\n",
    "\n",
    "print(\"Concatenated Dictionary:\", concatenated_dict)\n",
    "print(dict1)\n",
    "print(dict2)\n",
    "print(dict3)"
   ]
  },
  {
   "cell_type": "code",
   "execution_count": null,
   "id": "b2772c25-769e-47e9-b477-671795a3331a",
   "metadata": {},
   "outputs": [],
   "source": []
  }
 ],
 "metadata": {
  "kernelspec": {
   "display_name": "Python 3 (ipykernel)",
   "language": "python",
   "name": "python3"
  },
  "language_info": {
   "codemirror_mode": {
    "name": "ipython",
    "version": 3
   },
   "file_extension": ".py",
   "mimetype": "text/x-python",
   "name": "python",
   "nbconvert_exporter": "python",
   "pygments_lexer": "ipython3",
   "version": "3.11.4"
  }
 },
 "nbformat": 4,
 "nbformat_minor": 5
}
