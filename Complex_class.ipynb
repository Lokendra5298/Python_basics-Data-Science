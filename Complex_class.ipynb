{
 "cells": [
  {
   "cell_type": "code",
   "execution_count": 1,
   "id": "74e8b9e7-7f21-44ff-9c21-0438b6b0030b",
   "metadata": {},
   "outputs": [
    {
     "name": "stdout",
     "output_type": "stream",
     "text": [
      "Sum: 3 + 1i\n",
      "Difference: 1 + 5i\n",
      "Product: 8 - 1i\n"
     ]
    }
   ],
   "source": [
    "class ComplexNumber:\n",
    "    def __init__(self, real, imaginary):\n",
    "        self.real = real\n",
    "        self.imaginary = imaginary\n",
    "\n",
    "    def __str__(self):\n",
    "        if self.imaginary >= 0:\n",
    "            return f\"{self.real} + {self.imaginary}i\"\n",
    "        else:\n",
    "            return f\"{self.real} - {abs(self.imaginary)}i\"\n",
    "\n",
    "    def add(self, other):\n",
    "        new_real = self.real + other.real\n",
    "        new_imaginary = self.imaginary + other.imaginary\n",
    "        return ComplexNumber(new_real, new_imaginary)\n",
    "\n",
    "    def subtract(self, other):\n",
    "        new_real = self.real - other.real\n",
    "        new_imaginary = self.imaginary - other.imaginary\n",
    "        return ComplexNumber(new_real, new_imaginary)\n",
    "\n",
    "    def multiply(self, other):\n",
    "        new_real = self.real * other.real - self.imaginary * other.imaginary\n",
    "        new_imaginary = self.real * other.imaginary + self.imaginary * other.real\n",
    "        return ComplexNumber(new_real, new_imaginary)\n",
    "\n",
    "# Example usage:\n",
    "complex1 = ComplexNumber(2, 3)\n",
    "complex2 = ComplexNumber(1, -2)\n",
    "\n",
    "sum_result = complex1.add(complex2)\n",
    "print(\"Sum:\", sum_result)\n",
    "\n",
    "difference_result = complex1.subtract(complex2)\n",
    "print(\"Difference:\", difference_result)\n",
    "\n",
    "product_result = complex1.multiply(complex2)\n",
    "print(\"Product:\", product_result)\n"
   ]
  },
  {
   "cell_type": "code",
   "execution_count": null,
   "id": "b0fe69fb-e91e-44dc-9346-edf5da3ffd14",
   "metadata": {},
   "outputs": [],
   "source": []
  }
 ],
 "metadata": {
  "kernelspec": {
   "display_name": "Python 3 (ipykernel)",
   "language": "python",
   "name": "python3"
  },
  "language_info": {
   "codemirror_mode": {
    "name": "ipython",
    "version": 3
   },
   "file_extension": ".py",
   "mimetype": "text/x-python",
   "name": "python",
   "nbconvert_exporter": "python",
   "pygments_lexer": "ipython3",
   "version": "3.11.4"
  }
 },
 "nbformat": 4,
 "nbformat_minor": 5
}
