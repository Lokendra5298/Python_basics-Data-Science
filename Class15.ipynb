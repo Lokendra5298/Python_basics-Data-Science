{
 "cells": [
  {
   "cell_type": "markdown",
   "id": "7104469d-6b5b-46ac-8bd7-e6adaf91ecbb",
   "metadata": {},
   "source": [
    "## Classes - Inheritance"
   ]
  },
  {
   "cell_type": "code",
   "execution_count": 5,
   "id": "b411b989-8ae3-4bd8-8e09-26ae8c0149f8",
   "metadata": {},
   "outputs": [
    {
     "name": "stdout",
     "output_type": "stream",
     "text": [
      "name =   ,  roll no =  0 ,  sem =  0\n",
      "Additional value =  None\n",
      "name =  Ram ,  roll no =  0 ,  sem =  0\n",
      "Additional value =  None\n",
      "name =  Raman ,  roll no =  23 ,  sem =  0\n",
      "Additional value =  None\n",
      "name =  Ramana ,  roll no =  23 ,  sem =  5\n",
      "Additional value =  Lokendra\n"
     ]
    }
   ],
   "source": [
    "class StudentDetailBase:\n",
    "    # Constructor\n",
    "    def __init__(self, n='', r=0, s=0):\n",
    "        self._name = n\n",
    "        self._rollno = r\n",
    "        self._sem = s\n",
    "\n",
    "    # Printing the data\n",
    "    def printout(self):\n",
    "        print('name = ', self._name, \", \", 'roll no = ', self._rollno, \", \", 'sem = ', self._sem)\n",
    "\n",
    "\n",
    "class Derived(StudentDetailBase):\n",
    "    # Constructor with additional parameters if needed\n",
    "    def __init__(self, n1='', r1=0, s1=0, additional_value=None):\n",
    "        # Calling the base class constructor\n",
    "        super().__init__(n1, r1, s1)\n",
    "        self._name1 = n1\n",
    "        self._rollno1 = r1\n",
    "        self._sem1 = s1\n",
    "        self.additional_value = additional_value\n",
    "\n",
    "    # Overriding the printout method if needed\n",
    "    def printout(self):\n",
    "        # Call the base class printout method\n",
    "        super().printout()\n",
    "        print('Additional value = ', self.additional_value)\n",
    "\n",
    "\n",
    "# Creating instances of the derived class\n",
    "s1 = Derived()\n",
    "s1.printout()\n",
    "\n",
    "s2 = Derived('Ram')\n",
    "s2.printout()\n",
    "\n",
    "s3 = Derived('Raman', 23)\n",
    "s3.printout()\n",
    "\n",
    "s4 = Derived('Ramana', 23, 5, 'Lokendra')\n",
    "s4.printout()\n"
   ]
  },
  {
   "cell_type": "markdown",
   "id": "734e1c07-27a9-43bd-be90-7cfb5f49b2f7",
   "metadata": {},
   "source": [
    "## Multilevel Class - Inheritance"
   ]
  },
  {
   "cell_type": "code",
   "execution_count": 15,
   "id": "c33ad67e-8b70-4dba-bcbc-9c307922b9cc",
   "metadata": {},
   "outputs": [
    {
     "name": "stdout",
     "output_type": "stream",
     "text": [
      "Inside base class constructor\n",
      "Inside Derived1 class constructor\n",
      "name =   ,  roll no =  0 \n",
      "\n",
      "You are in base class\n",
      "You are in Derived1 class\n",
      "Inside base class constructor\n",
      "Inside Derived1 class constructor\n",
      "name =  Ram ,  roll no =  0 \n",
      "\n",
      "You are in base class\n",
      "You are in Derived1 class\n",
      "Inside base class constructor\n",
      "Inside Derived2 class constructor\n",
      "name =  Raman ,  roll no =  23 \n",
      "\n",
      "You are in base class\n",
      "You are in Derived2 class\n",
      "Inside base class constructor\n",
      "Inside Derived2 class constructor\n",
      "name =  Lokendra ,  roll no =  30 \n",
      "\n",
      "You are in base class\n",
      "You are in Derived2 class\n"
     ]
    }
   ],
   "source": [
    "class Base:\n",
    "    def __init__(self, n='', r=0):\n",
    "        self._name = n\n",
    "        self._rollno = r\n",
    "        print('Inside base class constructor')\n",
    "\n",
    "    def printdata(self):\n",
    "        print('name = ', self._name, \", \", 'roll no = ', self._rollno,'\\n')\n",
    "        print('You are in base class')\n",
    "\n",
    "class Derived1(Base):\n",
    "    def __init__(self, n1='', r1=0):\n",
    "        # Calling the base class constructor\n",
    "        super().__init__(n1, r1)\n",
    "        self.name1 = n1\n",
    "        self.rollno1 = r1\n",
    "        print('Inside Derived1 class constructor')\n",
    "        \n",
    "    def printdata(self):\n",
    "            super().printdata()\n",
    "            print('You are in Derived1 class')\n",
    "\n",
    "class Derived2(Base):\n",
    "    def __init__(self, n2='', r2=0):\n",
    "        # Calling the base class constructor\n",
    "        super().__init__(n2, r2)\n",
    "        self.name1 = n2\n",
    "        self.rollno1 = r2\n",
    "        print('Inside Derived2 class constructor')\n",
    "        \n",
    "    def printdata(self):\n",
    "            super().printdata()\n",
    "            print('You are in Derived2 class')\n",
    "\n",
    "# Creating instances of the derived class\n",
    "s1 = Derived1()\n",
    "s1.printdata()\n",
    "\n",
    "s2 = Derived1('Ram')\n",
    "s2.printdata()\n",
    "\n",
    "s3 = Derived2('Raman', 23)\n",
    "s3.printdata()\n",
    "\n",
    "s4 = Derived2('Lokendra', 30)\n",
    "s4.printdata()"
   ]
  },
  {
   "cell_type": "markdown",
   "id": "7edc5419-3c2e-486c-8048-0578bcc8af01",
   "metadata": {},
   "source": [
    "## Two base class Inheritance"
   ]
  },
  {
   "cell_type": "code",
   "execution_count": 26,
   "id": "bd5cf58a-18aa-49db-b81e-d9b69cb902ee",
   "metadata": {},
   "outputs": [
    {
     "name": "stdout",
     "output_type": "stream",
     "text": [
      "Inside Base1 class constructor\n",
      "Inside Base2 class constructor\n",
      "name =  Raman ,  roll no =  23 \n",
      "\n",
      "You are in Base1 class\n",
      "name =  John ,  roll no =  456\n",
      "You are in Base2 class\n",
      "Additional info:  Data Science\n",
      "You are in Derived class\n",
      "Inside Base1 class constructor\n",
      "Inside Base2 class constructor\n",
      "name =  Lokendra ,  roll no =  30 \n",
      "\n",
      "You are in Base1 class\n",
      "name =  Alice ,  roll no =  789\n",
      "You are in Base2 class\n",
      "Additional info:  Machine learning\n",
      "You are in Derived class\n"
     ]
    }
   ],
   "source": [
    "class Base1:\n",
    "    def __init__(self, n='', r=0):\n",
    "        self.name = n\n",
    "        self.rollno = r\n",
    "        print('Inside Base1 class constructor')\n",
    "\n",
    "    def printdata1(self):\n",
    "        print('name = ', self.name, \", \", 'roll no = ', self.rollno, '\\n')\n",
    "        print('You are in Base1 class')\n",
    "\n",
    "class Base2:\n",
    "    def __init__(self, n1='', r1=0):\n",
    "        self.name1 = n1\n",
    "        self.rollno1 = r1\n",
    "        print('Inside Base2 class constructor')\n",
    "\n",
    "    def printdata2(self):\n",
    "        print('name = ', self.name1, \", \", 'roll no = ', self.rollno1)\n",
    "        print('You are in Base2 class')\n",
    "\n",
    "class Derived2(Base1, Base2):\n",
    "    def __init__(self, n='', r=0, n1='', r1=0, additional_info=''):\n",
    "        # Calling the constructors of both base classes\n",
    "        Base1.__init__(self, n, r)\n",
    "        Base2.__init__(self, n1, r1)\n",
    "        self.additional_info = additional_info\n",
    "\n",
    "    def printdata(self):\n",
    "        Base1.printdata1(self)\n",
    "        Base2.printdata2(self)\n",
    "        print('Additional info: ', self.additional_info)\n",
    "        print('You are in Derived class')\n",
    "\n",
    "st1 = Derived2('Raman', 23, 'John', 456, 'Data Science')\n",
    "st1.printdata()\n",
    "\n",
    "st2 = Derived2('Lokendra', 30, 'Alice', 789, 'Machine learning')\n",
    "st2.printdata()"
   ]
  },
  {
   "cell_type": "code",
   "execution_count": 27,
   "id": "04cc2d5e-1079-47a5-be34-45158291c62c",
   "metadata": {},
   "outputs": [],
   "source": [
    "# Library QT define\n"
   ]
  },
  {
   "cell_type": "markdown",
   "id": "0df946ec-7c72-4871-b894-afc92fcbeb4b",
   "metadata": {},
   "source": [
    "## Class containership"
   ]
  },
  {
   "cell_type": "code",
   "execution_count": 28,
   "id": "c3206cda-fd2d-4693-8537-36c1a84c7873",
   "metadata": {},
   "outputs": [],
   "source": [
    "# Abstract classes - What are they?\n"
   ]
  },
  {
   "cell_type": "code",
   "execution_count": 29,
   "id": "b406ade4-4ebc-4f3b-9e82-1f9276c17d72",
   "metadata": {},
   "outputs": [],
   "source": [
    "# classes variable and methods\n"
   ]
  },
  {
   "cell_type": "code",
   "execution_count": 30,
   "id": "d5ea904d-ccbf-4756-8b2a-e37ee3d513f7",
   "metadata": {},
   "outputs": [],
   "source": [
    "# Dynamic creation of Attributes"
   ]
  },
  {
   "cell_type": "code",
   "execution_count": null,
   "id": "57802b6b-1042-4c20-b0a3-8bcb52a994fa",
   "metadata": {},
   "outputs": [],
   "source": []
  },
  {
   "cell_type": "code",
   "execution_count": null,
   "id": "6706a328-6f6a-4e01-9512-3fb818225366",
   "metadata": {},
   "outputs": [],
   "source": []
  }
 ],
 "metadata": {
  "kernelspec": {
   "display_name": "Python 3 (ipykernel)",
   "language": "python",
   "name": "python3"
  },
  "language_info": {
   "codemirror_mode": {
    "name": "ipython",
    "version": 3
   },
   "file_extension": ".py",
   "mimetype": "text/x-python",
   "name": "python",
   "nbconvert_exporter": "python",
   "pygments_lexer": "ipython3",
   "version": "3.11.4"
  }
 },
 "nbformat": 4,
 "nbformat_minor": 5
}
