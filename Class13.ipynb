{
 "cells": [
  {
   "cell_type": "code",
   "execution_count": 1,
   "id": "f9e1474b-de4f-46b3-9bb7-bd779e24d569",
   "metadata": {},
   "outputs": [
    {
     "name": "stdout",
     "output_type": "stream",
     "text": [
      "120\n"
     ]
    }
   ],
   "source": [
    "def factorial(n):\n",
    "    f=1\n",
    "    if n==0:\n",
    "        return 1\n",
    "    else:\n",
    "        f=n*factorial(n-1)\n",
    "    return f\n",
    "\n",
    "a= factorial(5)\n",
    "print(a)"
   ]
  },
  {
   "cell_type": "code",
   "execution_count": 2,
   "id": "9bcd7c84-99b5-42ff-8a10-bc4524d6b527",
   "metadata": {},
   "outputs": [
    {
     "name": "stdout",
     "output_type": "stream",
     "text": [
      "20.0\n"
     ]
    }
   ],
   "source": [
    "# Lambda function\n",
    "# lambda arguments : expression\n",
    "avg = lambda a,b : (a+b)/2\n",
    "print(avg(10,30))"
   ]
  },
  {
   "cell_type": "code",
   "execution_count": 7,
   "id": "3a965c49-2b3c-43e5-90df-d3e108d2af32",
   "metadata": {},
   "outputs": [
    {
     "name": "stdout",
     "output_type": "stream",
     "text": [
      "<map object at 0x00000283035927A0>\n",
      "[100, 576, 900, 1681, 144, 1024]\n"
     ]
    }
   ],
   "source": [
    "# Map, filter and reduce functions\n",
    "lst1= [10, 24, 30, 41, 12, 32]\n",
    "lst2= map(lambda x :x**2, lst1)\n",
    "# lst3 = [lambda x :x**2 for x in lst1]\n",
    "print(lst2)\n",
    "lst3= list(lst2) #Returns a map, needs to be converted to a list\n",
    "print(lst3)"
   ]
  },
  {
   "cell_type": "markdown",
   "id": "c10ed21f-4895-4351-b694-ac3831dbf422",
   "metadata": {},
   "source": [
    "## Classes and objects\n",
    "Classes are similar to structures in C"
   ]
  },
  {
   "cell_type": "code",
   "execution_count": 7,
   "id": "0beece15-da67-4161-a8b6-b4e021dff47f",
   "metadata": {},
   "outputs": [
    {
     "name": "stdout",
     "output_type": "stream",
     "text": [
      "Ram \n",
      " 12 \n",
      " 3\n"
     ]
    }
   ],
   "source": [
    "# Class details \n",
    "class StudentDetail:\n",
    " \n",
    " def datainput(self, n, r, s):\n",
    "    self.name = n\n",
    "    self.rollno = r\n",
    "    self.sem = s\n",
    " def printout(self):\n",
    "     print(self.name ,'\\n', self.rollno ,'\\n', self.sem)\n",
    "     \n",
    "s1 = StudentDetail() #Object instantiation\n",
    "s1.datainput('Ram', 12, 3)\n",
    "s1.printout()\n"
   ]
  },
  {
   "cell_type": "code",
   "execution_count": 4,
   "id": "956c62f0-c08d-48fa-a7e8-14423254c200",
   "metadata": {},
   "outputs": [
    {
     "name": "stdout",
     "output_type": "stream",
     "text": [
      "Ram 23 5\n",
      "Lokendra 15 3\n",
      "Lokendra\n",
      "Lokendra 15 3\n",
      "Saurav 15 3\n"
     ]
    }
   ],
   "source": [
    "class StudentDetail:\n",
    "    def __init__(self, n='Nishant', r=1, s=1): # Constructor\n",
    "       self.name= n\n",
    "       self.rollno= r\n",
    "       self.sem= s\n",
    "\n",
    "    def change_data(self, new_n, new_r, new_s):\n",
    "        self.name= new_n\n",
    "        self.rollno= new_r\n",
    "        self.sem= new_s\n",
    "        \n",
    "    def printout(self):\n",
    "     print(self.name, self.rollno, self.sem)\n",
    "\n",
    "s2= StudentDetail('Ram', 23, 5) #Object instantiation\n",
    "s2.printout()\n",
    "s2.change_data('Lokendra', 15, 3) #calling change_data function\n",
    "s2.printout()\n",
    "\n",
    "print(s2.name)\n",
    "s2.printout() # we are able to call it out of class\n",
    "s2.name= 'Saurav'\n",
    "s2.printout() "
   ]
  },
  {
   "cell_type": "code",
   "execution_count": 6,
   "id": "b8ce5632-3951-4aa6-b988-9b5060ce3499",
   "metadata": {},
   "outputs": [
    {
     "name": "stdout",
     "output_type": "stream",
     "text": [
      "name =   ,  roll no =  1 ,  sem =  1\n",
      "name =  Ram ,  roll no =  1 ,  sem =  1\n",
      "name =  Raman ,  roll no =  23 ,  sem =  1\n",
      "name =  Ramana ,  roll no =  23 ,  sem =  5\n",
      "Lokendra\n",
      "Ramana\n",
      "Pravesh\n"
     ]
    }
   ],
   "source": [
    "class StudentDetail:\n",
    "    def __init__(self, n='', r=1, s=1): # Constructor\n",
    "       self._name= n # Notionally private data using '_'\n",
    "       self._rollno= r\n",
    "       self._sem= s \n",
    "        \n",
    "    def printout(self):\n",
    "        print('name = ', self._name, \", \" , 'roll no = ', self._rollno, \", \" , 'sem = ', self._sem)\n",
    "\n",
    "s1 = StudentDetail()\n",
    "s1.printout()\n",
    "s1 = StudentDetail('Ram')\n",
    "s1.printout()\n",
    "s1 = StudentDetail('Raman', 23)\n",
    "s1.printout()\n",
    "s1 = StudentDetail('Ramana', 23, 5)\n",
    "s1.printout()\n",
    "\n",
    "s1.name= 'Lokendra'\n",
    "s1.__name= 'Pravesh'\n",
    "\n",
    "print(s1.name)\n",
    "print(s1._name)\n",
    "print(s1.__name)"
   ]
  },
  {
   "cell_type": "code",
   "execution_count": 28,
   "id": "29beb6db-2665-4f10-9ad4-4302afb4918f",
   "metadata": {},
   "outputs": [
    {
     "name": "stdout",
     "output_type": "stream",
     "text": [
      "Help on class complex in module builtins:\n",
      "\n",
      "class complex(object)\n",
      " |  complex(real=0, imag=0)\n",
      " |  \n",
      " |  Create a complex number from a real part and an optional imaginary part.\n",
      " |  \n",
      " |  This is equivalent to (real + imag*1j) where imag defaults to 0.\n",
      " |  \n",
      " |  Methods defined here:\n",
      " |  \n",
      " |  __abs__(self, /)\n",
      " |      abs(self)\n",
      " |  \n",
      " |  __add__(self, value, /)\n",
      " |      Return self+value.\n",
      " |  \n",
      " |  __bool__(self, /)\n",
      " |      True if self else False\n",
      " |  \n",
      " |  __complex__(self, /)\n",
      " |      Convert this value to exact type complex.\n",
      " |  \n",
      " |  __eq__(self, value, /)\n",
      " |      Return self==value.\n",
      " |  \n",
      " |  __format__(self, format_spec, /)\n",
      " |      Convert to a string according to format_spec.\n",
      " |  \n",
      " |  __ge__(self, value, /)\n",
      " |      Return self>=value.\n",
      " |  \n",
      " |  __getattribute__(self, name, /)\n",
      " |      Return getattr(self, name).\n",
      " |  \n",
      " |  __getnewargs__(self, /)\n",
      " |  \n",
      " |  __gt__(self, value, /)\n",
      " |      Return self>value.\n",
      " |  \n",
      " |  __hash__(self, /)\n",
      " |      Return hash(self).\n",
      " |  \n",
      " |  __le__(self, value, /)\n",
      " |      Return self<=value.\n",
      " |  \n",
      " |  __lt__(self, value, /)\n",
      " |      Return self<value.\n",
      " |  \n",
      " |  __mul__(self, value, /)\n",
      " |      Return self*value.\n",
      " |  \n",
      " |  __ne__(self, value, /)\n",
      " |      Return self!=value.\n",
      " |  \n",
      " |  __neg__(self, /)\n",
      " |      -self\n",
      " |  \n",
      " |  __pos__(self, /)\n",
      " |      +self\n",
      " |  \n",
      " |  __pow__(self, value, mod=None, /)\n",
      " |      Return pow(self, value, mod).\n",
      " |  \n",
      " |  __radd__(self, value, /)\n",
      " |      Return value+self.\n",
      " |  \n",
      " |  __repr__(self, /)\n",
      " |      Return repr(self).\n",
      " |  \n",
      " |  __rmul__(self, value, /)\n",
      " |      Return value*self.\n",
      " |  \n",
      " |  __rpow__(self, value, mod=None, /)\n",
      " |      Return pow(value, self, mod).\n",
      " |  \n",
      " |  __rsub__(self, value, /)\n",
      " |      Return value-self.\n",
      " |  \n",
      " |  __rtruediv__(self, value, /)\n",
      " |      Return value/self.\n",
      " |  \n",
      " |  __sub__(self, value, /)\n",
      " |      Return self-value.\n",
      " |  \n",
      " |  __truediv__(self, value, /)\n",
      " |      Return self/value.\n",
      " |  \n",
      " |  conjugate(self, /)\n",
      " |      Return the complex conjugate of its argument. (3-4j).conjugate() == 3+4j.\n",
      " |  \n",
      " |  ----------------------------------------------------------------------\n",
      " |  Static methods defined here:\n",
      " |  \n",
      " |  __new__(*args, **kwargs) from builtins.type\n",
      " |      Create and return a new object.  See help(type) for accurate signature.\n",
      " |  \n",
      " |  ----------------------------------------------------------------------\n",
      " |  Data descriptors defined here:\n",
      " |  \n",
      " |  imag\n",
      " |      the imaginary part of a complex number\n",
      " |  \n",
      " |  real\n",
      " |      the real part of a complex number\n",
      "\n"
     ]
    }
   ],
   "source": [
    "# write your own complex class\n",
    "help(complex)"
   ]
  },
  {
   "cell_type": "code",
   "execution_count": null,
   "id": "ce0c34de-d4d8-4134-9b47-6456eac31287",
   "metadata": {},
   "outputs": [],
   "source": []
  }
 ],
 "metadata": {
  "kernelspec": {
   "display_name": "Python 3 (ipykernel)",
   "language": "python",
   "name": "python3"
  },
  "language_info": {
   "codemirror_mode": {
    "name": "ipython",
    "version": 3
   },
   "file_extension": ".py",
   "mimetype": "text/x-python",
   "name": "python",
   "nbconvert_exporter": "python",
   "pygments_lexer": "ipython3",
   "version": "3.11.4"
  }
 },
 "nbformat": 4,
 "nbformat_minor": 5
}
