{
 "cells": [
  {
   "cell_type": "markdown",
   "id": "a9b350a8-3c63-4b94-a2a5-86257b26ecdf",
   "metadata": {},
   "source": [
    "## Q.6. Store the employee IDs, names, salaries, and years of experience using nested dictionaries (the key of the highest level dictionary can be the employee ID). ve)."
   ]
  },
  {
   "cell_type": "markdown",
   "id": "b29f5d3f-ff5e-44a4-8b21-e63b957cdd2f",
   "metadata": {},
   "source": [
    "**(a)** Sort this dictionary using the salary value. "
   ]
  },
  {
   "cell_type": "code",
   "execution_count": 25,
   "id": "1f081677-8f8b-4774-ba43-b7e42f586175",
   "metadata": {},
   "outputs": [
    {
     "name": "stdout",
     "output_type": "stream",
     "text": [
      "MA23M001 {'Name': 'Anand', 'Salary': '40000', 'years_of_experience': '5'}\n",
      "MA23M008 {'Name': 'Ramesh', 'Salary': '45000', 'years_of_experience': '5.5'}\n",
      "MA23M007 {'Name': 'Kamesh', 'Salary': '35000', 'years_of_experience': '2'}\n"
     ]
    }
   ],
   "source": [
    "# Nested Dictionary\n",
    "nested_dict = {'MA23M001' : {'Name':'Anand', 'Salary' : '40000', 'years_of_experience' : '5' },\n",
    "               'MA23M008' : {'Name':'Ramesh', 'Salary' : '45000', 'years_of_experience' : '5.5' },\n",
    "               'MA23M007' : {'Name':'Kamesh', 'Salary' : '35000', 'years_of_experience' : '2' }\n",
    "              }\n",
    "# Sorting the dictionary based on salary values\n",
    "sorted_employees = dict(sorted(nested_dict.items(), key= lambda x: x[1]['Salary']))\n",
    "\n",
    "for i, j in nested_dict.items():\n",
    "    print(i, j)"
   ]
  },
  {
   "cell_type": "markdown",
   "id": "a3eaf54a-d685-4669-860f-7ce2f3a39d9f",
   "metadata": {},
   "source": [
    "**(b)** Add a new employee to the dictionary in the correct position (sorted as mentioned above)."
   ]
  },
  {
   "cell_type": "code",
   "execution_count": 26,
   "id": "22ec8734-d517-486e-8c81-db1a61064779",
   "metadata": {},
   "outputs": [
    {
     "name": "stdout",
     "output_type": "stream",
     "text": [
      "MA23M007 {'Name': 'Kamesh', 'Salary': '35000', 'years_of_experience': '2'}\n",
      "MA23M001 {'Name': 'Anand', 'Salary': '40000', 'years_of_experience': '5'}\n",
      "MA23M004 {'Name': 'Pravesh', 'Salary': '41000', 'years_of_experience': '4'}\n",
      "MA23M008 {'Name': 'Ramesh', 'Salary': '45000', 'years_of_experience': '5.5'}\n"
     ]
    }
   ],
   "source": [
    "new_emp= {'MA23M004' : {'Name':'Pravesh', 'Salary' : '41000', 'years_of_experience' : '4'}}\n",
    "nested_dict.update(new_emp)\n",
    "sorted_employees1 = dict(sorted(nested_dict.items(), key= lambda x: x[1]['Salary']))\n",
    "\n",
    "for i, j in sorted_employees1.items():\n",
    "    print(i, j)"
   ]
  },
  {
   "cell_type": "markdown",
   "id": "5fb08ae9-e562-4424-abce-305226b61e1f",
   "metadata": {},
   "source": [
    "## Q.7. You are given two Python dictionaries, A and B, with keys as alphabets and values as random integers. Write a Python function to create a third dictionary C, that combines A and B. For common keys, the value in C should be the sum of values from A and B. \n",
    "\n",
    "For example, if dictionary A is {\"a\": 3, \"b\": 5, \"c\": 7} and dictionary B is {\"b\": 2, \"c\": 4, \"d\": 6}, the function should return a dictionary C that looks like {\"a\": 3, \"b\": 7, \"c\": 11, \"d\": 6}."
   ]
  },
  {
   "cell_type": "code",
   "execution_count": 27,
   "id": "9d25fc54-7584-42c9-b81f-f3ca40af53e4",
   "metadata": {},
   "outputs": [
    {
     "name": "stdout",
     "output_type": "stream",
     "text": [
      "{'a': 3, 'b': 7, 'c': 11, 'd': 6}\n"
     ]
    }
   ],
   "source": [
    "def combine_dictionaries(dict_a, dict_b):\n",
    "    dict_c= dict_a.copy()\n",
    "    for k, v in dict_b.items():\n",
    "        if k in dict_c:\n",
    "            # If the key is present in both dictionaries, sum the values\n",
    "            dict_c[k] = dict_c[k]+ v\n",
    "        else:\n",
    "            # If the key is only present in B, add it to the combined dictionary\n",
    "            dict_c[k] = v\n",
    "\n",
    "    return dict_c \n",
    "\n",
    "A = {\"a\": 3, \"b\": 5, \"c\": 7}\n",
    "B = {\"b\": 2, \"c\": 4, \"d\": 6}\n",
    "C = combine_dictionaries(A, B)\n",
    "print(C)"
   ]
  },
  {
   "cell_type": "markdown",
   "id": "4cde3ccf-3900-4286-871b-40b1ad9bdd56",
   "metadata": {},
   "source": [
    "## Q. 8. Assume you have a list of lists, where each inner list contains two elements: a key and a value. Write a Python function that takes the list of lists as input and returns a list of dictionaries, where each dictionary contains a key-value pair from the original input list."
   ]
  },
  {
   "cell_type": "code",
   "execution_count": 28,
   "id": "c992a656-f3b3-4e2a-985f-05a884234341",
   "metadata": {},
   "outputs": [
    {
     "name": "stdout",
     "output_type": "stream",
     "text": [
      "[{'name': 'Lokendra'}, {'age': 24}, {'city': 'Chennai'}, {'ID': '884284'}]\n"
     ]
    }
   ],
   "source": [
    "def list_of_lists_to_dict(lst):\n",
    "    n = len(lst)\n",
    "    result = []\n",
    "    for i in range(n):\n",
    "        result.append({lst[i][0]: lst[i][1]})\n",
    "    return result\n",
    "\n",
    "\n",
    "list_of_lists = [['name', 'Lokendra'], ['age', 24], ['city', 'Chennai'], ['ID', '884284']]\n",
    "list_of_dicts = list_of_lists_to_dict(list_of_lists)\n",
    "print(list_of_dicts)\n"
   ]
  },
  {
   "cell_type": "markdown",
   "id": "cd969a0f-3795-415c-bad4-13c647e2e481",
   "metadata": {},
   "source": [
    "## Q.9. Illustrate the usage of positional and keyword arguments using suitable examples.\r\n",
    "**(i)** Positional Arguments:\n",
    "\n",
    "Positional arguments are passed in the order defined by the function parameters.\n",
    "The order of arguments matters, and they are assigned based on their position.\n",
    "\r\n"
   ]
  },
  {
   "cell_type": "code",
   "execution_count": 29,
   "id": "af577d30-b7d5-49fb-a979-5c3cb82bd469",
   "metadata": {},
   "outputs": [
    {
     "name": "stdout",
     "output_type": "stream",
     "text": [
      "Output1= 11.34 , Output2= RAM\n"
     ]
    }
   ],
   "source": [
    "# Positional arguments\n",
    "def pos_fun(i, f, st):\n",
    "    su1= i+f\n",
    "    str1= st.upper()\n",
    "    return su1, str1\n",
    "i1, f1, st1= 5, 6.34, 'Ram'\n",
    "out1, out2= pos_fun(i1, f1, st1)\n",
    "print('Output1=',out1,', Output2=', out2)"
   ]
  },
  {
   "cell_type": "markdown",
   "id": "448fec34-5942-4337-8e41-8e6e32dcfe55",
   "metadata": {},
   "source": [
    "**(ii)**  Keyword Arguments:\n",
    "\r\n",
    "Keyword arguments are passed using parameter names during the function call.\r\n",
    "The order of arguments doesn’t matter as long as the parameter names match."
   ]
  },
  {
   "cell_type": "code",
   "execution_count": 30,
   "id": "c840dea7-9743-4c9c-b5d4-bd3d743d7c32",
   "metadata": {},
   "outputs": [
    {
     "name": "stdout",
     "output_type": "stream",
     "text": [
      "Output_1: (30.6, 'RAM')\n",
      "Output_1: (30.6, 'RAM')\n",
      "\n"
     ]
    }
   ],
   "source": [
    "# Keyword arguments\n",
    "out_lst1 = pos_fun(i=10, f=20.6, st='Ram')\n",
    "print('Output_1:',out_lst1) # Tuple output\n",
    "\n",
    "out_lst2 = pos_fun(i=10, st='Ram', f=20.6) # We can change the order\n",
    "print('Output_1:',out_lst2) # Tuple output\n",
    "\n",
    "print()"
   ]
  },
  {
   "cell_type": "markdown",
   "id": "03a822b9-7c0c-4368-87e6-1a3f17a84840",
   "metadata": {},
   "source": [
    "## Q.10. Write a function to find the maximum of n numbers using variable length positional arguments.\n",
    "\n"
   ]
  },
  {
   "cell_type": "code",
   "execution_count": 1,
   "id": "59bd5cf7-0677-4b00-a861-b96a574627a3",
   "metadata": {},
   "outputs": [
    {
     "name": "stdout",
     "output_type": "stream",
     "text": [
      "Maximum: 54\n"
     ]
    }
   ],
   "source": [
    "def find_maximum(*args):\n",
    "    if not args:\n",
    "        return None  # Return None if no arguments are provided\n",
    "\n",
    "    max_number = args[0]\n",
    "    for num in args[1:]:\n",
    "        if num > max_number:\n",
    "            max_number = num\n",
    "\n",
    "    return max_number\n",
    "\n",
    "maximum_value = find_maximum(10, 5, 54, 8, 20, 15)\n",
    "print(\"Maximum:\", maximum_value)\n"
   ]
  },
  {
   "cell_type": "markdown",
   "id": "426c4595-fb2a-4dbc-9008-42c663e03f8b",
   "metadata": {},
   "source": [
    "## Q. 11. Write a function to concatenate n strings using variable length keyword arguments."
   ]
  },
  {
   "cell_type": "code",
   "execution_count": 2,
   "id": "e2eb7435-9463-45c3-be8b-e6155a3c6f95",
   "metadata": {},
   "outputs": [
    {
     "name": "stdout",
     "output_type": "stream",
     "text": [
      "Hello World\n"
     ]
    }
   ],
   "source": [
    "def concatenate_strings(**args):\n",
    "    result = \"\"\n",
    "    for key, value in args.items():\n",
    "        result = result + str(value)\n",
    "    return result\n",
    "\n",
    "result = concatenate_strings(str1=\"Hello\", str2=\" \", str3=\"World\")\n",
    "print(result)"
   ]
  },
  {
   "cell_type": "code",
   "execution_count": null,
   "id": "b15da57e-3c1c-4159-8eef-f8994abace78",
   "metadata": {},
   "outputs": [],
   "source": []
  }
 ],
 "metadata": {
  "kernelspec": {
   "display_name": "Python 3 (ipykernel)",
   "language": "python",
   "name": "python3"
  },
  "language_info": {
   "codemirror_mode": {
    "name": "ipython",
    "version": 3
   },
   "file_extension": ".py",
   "mimetype": "text/x-python",
   "name": "python",
   "nbconvert_exporter": "python",
   "pygments_lexer": "ipython3",
   "version": "3.11.4"
  }
 },
 "nbformat": 4,
 "nbformat_minor": 5
}
