{
 "cells": [
  {
   "cell_type": "code",
   "execution_count": 131,
   "id": "f95b2a06-7dd0-41ac-b0b1-6f03b5bf17aa",
   "metadata": {},
   "outputs": [
    {
     "name": "stdout",
     "output_type": "stream",
     "text": [
      "[56]\n",
      "[112]\n",
      "[168]\n",
      "[224]\n",
      "[280]\n",
      "[336]\n",
      "[392]\n",
      "[448]\n",
      "[504]\n",
      "[560]\n",
      "[616]\n",
      "[672]\n",
      "[728]\n",
      "[784]\n",
      "[840]\n",
      "[896]\n",
      "[952]\n",
      "56\n",
      "112\n",
      "168\n",
      "224\n",
      "280\n",
      "336\n",
      "392\n",
      "448\n",
      "504\n",
      "560\n",
      "616\n",
      "672\n",
      "728\n",
      "784\n",
      "840\n",
      "896\n",
      "952\n"
     ]
    }
   ],
   "source": [
    "#1. Write a program to print numbers divisible by both 7 and 8. Numbers between 1 and 1000.\n",
    "# Using continue statement\n",
    "for i in range(1,1001):\n",
    "    list=[]\n",
    "    if i %7 !=0 or i %8!=0:\n",
    "        continue\n",
    "    list.append(i)\n",
    "    print(list)\n",
    "# Using the pass statement\n",
    "for i in range(1,1001):\n",
    "    if i %7==0 and i %8==0:\n",
    "        print(i)\n",
    "    else:\n",
    "        pass"
   ]
  },
  {
   "cell_type": "code",
   "execution_count": 1,
   "id": "e54ac1ff-d778-4495-9248-45de29caf015",
   "metadata": {},
   "outputs": [
    {
     "name": "stdout",
     "output_type": "stream",
     "text": [
      "even sum = 24, odd sum= 29\n"
     ]
    }
   ],
   "source": [
    "#2.  Number 34567222541147 has been given. Print the addition of all even digits and the addition of all odd digits.\n",
    "num=34567222541147\n",
    "x=str(num)\n",
    "# print(x[1])\n",
    "even =0\n",
    "odd=0\n",
    "for digit in x:\n",
    "    i=int(digit)\n",
    "    if i%2==0:\n",
    "        even=even+i\n",
    "    else:\n",
    "        odd=odd+i\n",
    "\n",
    "print(f\"even sum = {even}, odd sum= {odd}\")"
   ]
  },
  {
   "cell_type": "code",
   "execution_count": 2,
   "id": "cb5e670a-2bab-496a-9878-a8b11305569f",
   "metadata": {},
   "outputs": [
    {
     "name": "stdout",
     "output_type": "stream",
     "text": [
      "maximum number using loop = 450\n",
      "maximum number using max() function = 450\n",
      "minimum number using loop = 10\n",
      "minimum number using min() function = 10\n"
     ]
    }
   ],
   "source": [
    "#3. Describe conditional expression. Write a program to print the maximum and minimum numbers from a list using conditional expression. Use the max () and min () functions to verify your output.\n",
    "lst= [10, 20, 300, 400, 50, 100, 52, 63, 450, 96, 47]\n",
    "max_num=lst[0]\n",
    "for i in lst:\n",
    "    if i>max_num:\n",
    "        max_num=i\n",
    "print(f\"maximum number using loop = {max_num}\")\n",
    "a=max(lst)\n",
    "print(f\"maximum number using max() function = {a}\")\n",
    "\n",
    "min_num=lst[0]\n",
    "for i in lst:\n",
    "    if i<min_num:\n",
    "        min_num=i\n",
    "print(f\"minimum number using loop = {min_num}\")\n",
    "b=min(lst)\n",
    "print(f\"minimum number using min() function = {b}\")"
   ]
  },
  {
   "cell_type": "code",
   "execution_count": 3,
   "id": "0cf9edee-adf0-4083-8126-3fcf70507e97",
   "metadata": {},
   "outputs": [
    {
     "name": "stdin",
     "output_type": "stream",
     "text": [
      "Enter the number of rows for Pascal's Triangle:  10\n"
     ]
    },
    {
     "name": "stdout",
     "output_type": "stream",
     "text": [
      "              1               \n",
      "             1 1              \n",
      "            1 2 1             \n",
      "           1 3 3 1            \n",
      "          1 4 6 4 1           \n",
      "        1 5 10 10 5 1         \n",
      "       1 6 15 20 15 6 1       \n",
      "     1 7 21 35 35 21 7 1      \n",
      "    1 8 28 56 70 56 28 8 1    \n",
      " 1 9 36 84 126 126 84 36 9 1  \n"
     ]
    }
   ],
   "source": [
    "#4. Pascal’s  Triangle : Print the following pattern for the given N number of rows.\n",
    "def pascals_triangle(N):\n",
    "    triangle= []\n",
    "    for i in range(N):\n",
    "        row= [1]*(i+1)\n",
    "        for j in range(1, i):\n",
    "            row[j]= triangle[i-1][j-1] + triangle[i-1][j]\n",
    "        triangle.append(row)\n",
    "    return triangle\n",
    "\n",
    "\n",
    "def print_triangle(triangle):\n",
    "    for row in triangle:\n",
    "        print(\" \".join(map(str, row)).center(len(triangle[-1])* 3))\n",
    "\n",
    "n_rows = int(input(\"Enter the number of rows for Pascal's Triangle: \"))\n",
    "P_tri = pascals_triangle(n_rows)\n",
    "print_triangle(P_tri)\n"
   ]
  },
  {
   "cell_type": "code",
   "execution_count": 4,
   "id": "1f0555e0-3e71-464f-a8a3-cf3907065fde",
   "metadata": {},
   "outputs": [
    {
     "name": "stdout",
     "output_type": "stream",
     "text": [
      "Given number is palindrome\n",
      "given number is not palindrome\n",
      "given string is not palindrome\n",
      "Given string is palindrome\n"
     ]
    }
   ],
   "source": [
    "#5. Take a number as input, determine if it is a palindrome, considering only numeric characters. Eg: 2442\n",
    "def is_num_palindrome(num):\n",
    "    a= str(num)\n",
    "    b= a[::-1]\n",
    "    if a==b :\n",
    "       print(\"Given number is palindrome\")\n",
    "    else :\n",
    "       print(\"given number is not palindrome\")\n",
    "        \n",
    "n= 2442\n",
    "m= 151616\n",
    "is_num_palindrome(n)\n",
    "is_num_palindrome(m)\n",
    "\n",
    "# Now, take a string as an input and check whether it is Palindrome or not.  eg: \"Was it a car or a cat I saw?\"\n",
    "def is_str_palindrome(str):\n",
    "    c= str\n",
    "    d= c[::-1]\n",
    "    if c==d :\n",
    "       print(\"Given string is palindrome\")\n",
    "    else :\n",
    "       print(\"given string is not palindrome\")\n",
    "        \n",
    "str1= \"Was it a car or a cat I saw?\"\n",
    "str2= \"was it pop ti saw\"\n",
    "is_str_palindrome(str1)\n",
    "is_str_palindrome(str2)"
   ]
  },
  {
   "cell_type": "code",
   "execution_count": 5,
   "id": "1c4e0de3-3be8-4673-9b34-365e96522246",
   "metadata": {},
   "outputs": [
    {
     "name": "stdout",
     "output_type": "stream",
     "text": [
      "A\n",
      "BB\n",
      "CCC\n",
      "DDDD\n"
     ]
    }
   ],
   "source": [
    "# Describe chr () and ord () functions. Write a small program to show its functionality.Using these functions,write a program to print:\n",
    "N=4\n",
    "for i in range(0,N):\n",
    "    x=(i+1)*chr(65+i)\n",
    "    print(x)\n"
   ]
  },
  {
   "cell_type": "code",
   "execution_count": 6,
   "id": "68a38949-c0d2-4a30-bb7b-113bb18ec0ce",
   "metadata": {},
   "outputs": [
    {
     "name": "stdout",
     "output_type": "stream",
     "text": [
      "['Mark', 'Mohan']\n",
      "['Antony', 'Raj']\n",
      "['Antony Mark', 'Raj Mohan']\n",
      "['Mark Antony', 'Mohan Raj']\n"
     ]
    }
   ],
   "source": [
    "# 7. \n",
    "list_of_names= ['Mark Antony', 'Mohan Raj']\n",
    "# (a) to print the first names.\n",
    "dict=[]\n",
    "for name in list_of_names:\n",
    "    name= name.split()\n",
    "    first_name = name[0]\n",
    "    dict.append(first_name)\n",
    "print(dict)\n",
    "\n",
    "# (b) to print the last names.\n",
    "dict1=[]\n",
    "for name in list_of_names:\n",
    "    name= name.split()\n",
    "    last_name = name[1]\n",
    "    dict1.append(last_name)\n",
    "print(dict1)\n",
    "    \n",
    "# (c) to print each name as 'last_name first_name.\n",
    "dict2=[]\n",
    "for name in list_of_names:\n",
    "    name = ' '.join(name.split()[::-1])\n",
    "    dict2.append(name)\n",
    "print(dict2)\n",
    "\n",
    "# (d) to print the names in the sorted order with respect to last name\n",
    "print(list_of_names)\n"
   ]
  },
  {
   "cell_type": "code",
   "execution_count": 7,
   "id": "e7a3ba8e-8808-4699-97aa-b1514c73d87a",
   "metadata": {},
   "outputs": [
    {
     "name": "stdout",
     "output_type": "stream",
     "text": [
      "Mininum number is = 3\n",
      "Minimum number is = 30\n",
      "Minimum number is = 14\n"
     ]
    }
   ],
   "source": [
    "# 8. WAP to find the minimum of 3 numbers using\n",
    "# a) with conditional expressions. (No loops should be used)\n",
    "a=3\n",
    "b=5\n",
    "c=10\n",
    "if a<b and b< c:\n",
    "    print('Mininum number is =',a)\n",
    "if b<a and a<c:\n",
    "    print('Mininum number is =',b)\n",
    "if c<a and a<c:\n",
    "    print('Mininum number is =',c)\n",
    "    \n",
    "\n",
    "# b) with nested conditional expression. (No loops should be used)\n",
    "a=30\n",
    "b=50\n",
    "c=100\n",
    "min_num=a if a<b and a<c else (\n",
    "        b if b<a and b<c else \n",
    "        c)\n",
    "print('Minimum number is =', min_num)\n",
    "\n",
    "    \n",
    "# c) similar to problem (b), find the minimum of 4 numbers\n",
    "a = 30\n",
    "b = 51\n",
    "c = 14\n",
    "d = 16\n",
    "\n",
    "min_num=a if a<b and a<c and a<d else (\n",
    "        b if b<a and b<c and b<d else (\n",
    "        c if c<a and c<b and c<d else (\n",
    "        d)\n",
    "    )\n",
    ")\n",
    "print('Minimum number is =', min_num)"
   ]
  },
  {
   "cell_type": "code",
   "execution_count": 8,
   "id": "c298f1f5-c7b4-4841-89c1-d3f32aacc200",
   "metadata": {},
   "outputs": [
    {
     "name": "stdout",
     "output_type": "stream",
     "text": [
      "List after using append: ['Mathematics', 'Physics', 'Chemistry', 'Electrical', 'Biotechnology', 'Civil']\n",
      "List after using remove: ['Mathematics', 'Physics', 'Chemistry', 'Electrical', 'Civil']\n",
      "List after using pop: ['Mathematics', 'Physics', 'Electrical', 'Civil']\n",
      "List after using insert: ['Biotechnology', 'Mathematics', 'Physics', 'Electrical', 'Civil']\n",
      "List after using reverse: ['Civil', 'Electrical', 'Physics', 'Mathematics', 'Biotechnology']\n",
      "List after using sort: ['Biotechnology', 'Civil', 'Electrical', 'Mathematics', 'Physics']\n",
      "List after using count: 1\n",
      "List after using index: 3\n",
      "List after using extend: ['Biotechnology', 'Civil', 'Electrical', 'Mathematics', 'Physics', 'M', 'a', 't', 'h', 's']\n",
      "List after using slice ['Civil', 'Electrical']\n",
      "List after using clear []\n"
     ]
    }
   ],
   "source": [
    "# Create a list of departments in IIT Madras (Minimum 5 ) and perform the following operations:\n",
    "iitm_d=['Mathematics', 'Physics', 'Chemistry', 'Electrical', 'Biotechnology']\n",
    "\n",
    "# append\n",
    "iitm_d.append('Civil')\n",
    "print('List after using append:', iitm_d)\n",
    "\n",
    "# remove\n",
    "iitm_d.remove('Biotechnology')\n",
    "print('List after using remove:', iitm_d)\n",
    "\n",
    "# pop\n",
    "iitm_d.pop(2)\n",
    "print('List after using pop:', iitm_d)\n",
    "\n",
    "# insert \n",
    "iitm_d.insert(0, 'Biotechnology')  \n",
    "print('List after using insert:', iitm_d)\n",
    "\n",
    "# reverse\n",
    "iitm_d.reverse()\n",
    "print('List after using reverse:', iitm_d)\n",
    "\n",
    "# sort\n",
    "iitm_d.sort()\n",
    "print('List after using sort:', iitm_d)\n",
    "\n",
    "# count\n",
    "c = iitm_d.count('Biotechnology')\n",
    "print('List after using count:', c)\n",
    "\n",
    "# index\n",
    "a=iitm_d.index('Mathematics')\n",
    "print('List after using index:', a)\n",
    "\n",
    "# extend\n",
    "iitm_d.extend('Maths')\n",
    "print('List after using extend:', iitm_d)\n",
    "\n",
    "# slice\n",
    "# Create a slice of the list from index 1 to 3 (exclusive)\n",
    "sliced_list=iitm_d[1:3]\n",
    "print('List after using slice', sliced_list)\n",
    "\n",
    "# clear\n",
    "iitm_d.clear()\n",
    "print('List after using clear', iitm_d)\n"
   ]
  },
  {
   "cell_type": "code",
   "execution_count": 9,
   "id": "ab37a56b-a1fd-4b8a-85b6-062b6df6fd05",
   "metadata": {},
   "outputs": [
    {
     "name": "stdout",
     "output_type": "stream",
     "text": [
      "old_list before modification: [[1, 2, 3], [4, 5, 6], [7, 8, 9]]\n",
      "old_list: [[0, 2, 3], [4, 5, 6], [7, 8, 9]]\n",
      "new_list: [[0, 2, 3], [4, 5, 6], [7, 8, 9]]\n",
      "another_list: [[-1, 2, 3], [4, 5, 6], [7, 8, 9]]\n"
     ]
    }
   ],
   "source": [
    "# 10. Differentiate deep copy and shallow copy.\n",
    "\n",
    "import copy\n",
    "\n",
    "# original list\n",
    "old_list = [[1, 2, 3], [4, 5, 6], [7, 8, 9]]\n",
    "print(\"old_list before modification:\", old_list)\n",
    "# shallow copy\n",
    "new_list = copy.copy(old_list)\n",
    "# deep copy\n",
    "another_list = copy.deepcopy(old_list)\n",
    "\n",
    "# modify the first element of the first nested list\n",
    "new_list[0][0] = 0\n",
    "another_list[0][0] = -1\n",
    "\n",
    "# print the lists\n",
    "print(\"old_list:\", old_list)\n",
    "print(\"new_list:\", new_list)\n",
    "print(\"another_list:\", another_list)\n"
   ]
  },
  {
   "cell_type": "code",
   "execution_count": null,
   "id": "3cb8e82a-feeb-4c77-a407-2f1cdae6d354",
   "metadata": {},
   "outputs": [],
   "source": []
  }
 ],
 "metadata": {
  "kernelspec": {
   "display_name": "Python 3 (ipykernel)",
   "language": "python",
   "name": "python3"
  },
  "language_info": {
   "codemirror_mode": {
    "name": "ipython",
    "version": 3
   },
   "file_extension": ".py",
   "mimetype": "text/x-python",
   "name": "python",
   "nbconvert_exporter": "python",
   "pygments_lexer": "ipython3",
   "version": "3.11.4"
  }
 },
 "nbformat": 4,
 "nbformat_minor": 5
}
