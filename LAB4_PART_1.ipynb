{
 "cells": [
  {
   "cell_type": "markdown",
   "metadata": {
    "id": "ekmhPuwCueDz"
   },
   "source": [
    "## Q.1. Explore the use and syntax of common built-in functions:\n",
    "\n",
    "range(),\n",
    "\n",
    "iter(),\n",
    "\n",
    "eval(),\n",
    "\n",
    "enumerate(),\n",
    "\n",
    "zip(),\n",
    "\n",
    "lambda,\n",
    "\n",
    "input(),\n",
    "\n",
    "map(),\n",
    "\n",
    "filter(),\n",
    "\n",
    "next()\n",
    "\n",
    "reduce()\n",
    "\n",
    "Include a short description and a practical code example for each, ensuring clarity through comments."
   ]
  },
  {
   "cell_type": "markdown",
   "metadata": {
    "id": "CK3NTOhpvl4K"
   },
   "source": [
    "**(i)** range()\n",
    "\n",
    "Syntax:\n",
    "\n",
    "range(stop)\n",
    "\n",
    "range(start, stop[, step])"
   ]
  },
  {
   "cell_type": "code",
   "execution_count": null,
   "metadata": {
    "colab": {
     "base_uri": "https://localhost:8080/"
    },
    "id": "qIdCZyM8uGNT",
    "outputId": "b8c951f9-d770-4a79-bbf8-e1a31a75425a"
   },
   "outputs": [
    {
     "name": "stdout",
     "output_type": "stream",
     "text": [
      "4\n",
      "5\n",
      "6\n",
      "7\n",
      "8\n",
      "[2]\n",
      "[4]\n",
      "[6]\n"
     ]
    }
   ],
   "source": [
    "# Range with start and stop:\n",
    "for r in range(4, 9):\n",
    "    print(r)\n",
    "\n",
    "# Range with positive step:\n",
    "for r in range(2, 8, 2):\n",
    "    print([r])"
   ]
  },
  {
   "cell_type": "markdown",
   "metadata": {
    "id": "HoLeDtgDvy7G"
   },
   "source": [
    "**(ii)**  iter()\n",
    "\n",
    "Syntax:\n",
    "\n",
    "iter(object, sentinel [optional])"
   ]
  },
  {
   "cell_type": "code",
   "execution_count": 3,
   "metadata": {
    "colab": {
     "base_uri": "https://localhost:8080/"
    },
    "id": "G9PPBRNkvWHv",
    "outputId": "a1322fa4-6cfa-4186-a6ab-472a341760c3"
   },
   "outputs": [
    {
     "name": "stdout",
     "output_type": "stream",
     "text": [
      "apple\n",
      "samsung\n",
      "oneplus\n"
     ]
    }
   ],
   "source": [
    "# The iter() function returns an iterator for the given argument(an iterable object).\n",
    "phones = ['apple', 'samsung', 'oneplus']\n",
    "phone_itr = iter(phones)\n",
    "print(next(phone_itr))\n",
    "print(next(phone_itr))\n",
    "print(next(phone_itr))"
   ]
  },
  {
   "cell_type": "markdown",
   "metadata": {
    "id": "3CHc_raSxBMJ"
   },
   "source": [
    "**(iii)**  eval()\n",
    "\n",
    "Syntex: eval(expression)"
   ]
  },
  {
   "cell_type": "code",
   "execution_count": null,
   "metadata": {
    "colab": {
     "base_uri": "https://localhost:8080/"
    },
    "id": "I2ioNJauwmjK",
    "outputId": "0a7e5c92-5235-4a04-ad60-71442da04a25"
   },
   "outputs": [
    {
     "name": "stdout",
     "output_type": "stream",
     "text": [
      "14\n"
     ]
    }
   ],
   "source": [
    "# The eval() function dynamically evaluates Python expressions from a string-based or compiled-code-based input.\n",
    "a = \"2+3*4\"\n",
    "result = eval(a)\n",
    "print(result)"
   ]
  },
  {
   "cell_type": "markdown",
   "metadata": {
    "id": "lfFlqQltxfdS"
   },
   "source": [
    "**(iv)** enumerate()\n",
    "\n",
    "Syntax: enumerate(iterable, start=0)"
   ]
  },
  {
   "cell_type": "code",
   "execution_count": null,
   "metadata": {
    "colab": {
     "base_uri": "https://localhost:8080/"
    },
    "id": "I5iYJYHuxLFw",
    "outputId": "7d4b5987-934f-4bfa-86ca-1adefcbd5e26"
   },
   "outputs": [
    {
     "name": "stdout",
     "output_type": "stream",
     "text": [
      "eat 0\n",
      "sleep 1\n",
      "repeat 2\n"
     ]
    }
   ],
   "source": [
    "# The enumerate() method adds a counter to an iterable and returns an enumerating object.\n",
    "# Index value from which the counter starts (default is 0).\n",
    "\n",
    "l1 = ['eat', 'sleep', 'repeat']\n",
    "for count, ele in enumerate(l1):\n",
    "    print(ele, count)"
   ]
  },
  {
   "cell_type": "markdown",
   "metadata": {
    "id": "_wVjPn-FzR-e"
   },
   "source": [
    "**(v)** zip()\n",
    "\n",
    "Syntax: zip(iterable1, iterable2, ...)\n"
   ]
  },
  {
   "cell_type": "code",
   "execution_count": 7,
   "metadata": {
    "colab": {
     "base_uri": "https://localhost:8080/"
    },
    "id": "9FAPm3wMxvIo",
    "outputId": "7a847518-5a66-49fd-8574-2b55064bd1f9"
   },
   "outputs": [
    {
     "name": "stdout",
     "output_type": "stream",
     "text": [
      "Alice: 25\n",
      "Bob: 32\n",
      "Charlie: 28\n",
      "X: 20\n"
     ]
    }
   ],
   "source": [
    "# The zip() function combines multiple iterables (e.g., lists, tuples) element-wise into tuples.\n",
    "\n",
    "names = ['Alice', 'Bob', 'Charlie','X']\n",
    "age = [25, 32, 28, 20]\n",
    "zipped_data = zip(names, age)\n",
    "# print(list(zipped_data))\n",
    "for name, age in zipped_data:\n",
    "    print(f\"{name}: {age}\")"
   ]
  },
  {
   "cell_type": "markdown",
   "metadata": {
    "id": "ozVOlKlH0RuM"
   },
   "source": [
    "**(vi)**  lambda ()\n",
    "\n",
    "Syntax: lambda arguments: expression\n"
   ]
  },
  {
   "cell_type": "code",
   "execution_count": null,
   "metadata": {
    "colab": {
     "base_uri": "https://localhost:8080/"
    },
    "id": "2F0e0n6cz9DN",
    "outputId": "8a1d5fd8-a4c7-449b-c40f-2caef03a562c"
   },
   "outputs": [
    {
     "name": "stdout",
     "output_type": "stream",
     "text": [
      "15\n"
     ]
    }
   ],
   "source": [
    "# Lambda functions are small, anonymous functions defined using the lambda keyword.\n",
    "\n",
    "add= lambda x, y: x + y\n",
    "print(add(5, 10))"
   ]
  },
  {
   "cell_type": "markdown",
   "metadata": {
    "id": "fzA7624Q00wj"
   },
   "source": [
    "**(vii)**  input()\n",
    "\n",
    "Syntax: input(statement)"
   ]
  },
  {
   "cell_type": "code",
   "execution_count": 1,
   "metadata": {
    "colab": {
     "base_uri": "https://localhost:8080/"
    },
    "id": "OQ_KZsKV0ljE",
    "outputId": "2214c868-a658-414b-efe1-24b70d60d83b"
   },
   "outputs": [
    {
     "name": "stdin",
     "output_type": "stream",
     "text": [
      "Enter your name:  Lokendra\n"
     ]
    },
    {
     "name": "stdout",
     "output_type": "stream",
     "text": [
      "Lokendra\n"
     ]
    }
   ],
   "source": [
    "# The input() function reads a line of text from the user via the console.\n",
    "\n",
    "name = input(\"Enter your name: \")\n",
    "print(name)"
   ]
  },
  {
   "cell_type": "markdown",
   "metadata": {
    "id": "qLMpCuWw1rO5"
   },
   "source": [
    "**(vii)**  map()\n",
    "\n",
    "Syntax: filter(function, iterable)"
   ]
  },
  {
   "cell_type": "code",
   "execution_count": null,
   "metadata": {
    "colab": {
     "base_uri": "https://localhost:8080/"
    },
    "id": "fLF27XCi1RCe",
    "outputId": "fb0c2520-347c-487b-b90e-f2bdfdaa6e81"
   },
   "outputs": [
    {
     "name": "stdout",
     "output_type": "stream",
     "text": [
      "<map object at 0x7e72220a21a0>\n",
      "[1, 4, 9, 16]\n"
     ]
    }
   ],
   "source": [
    "# The map() function applies a given function to each item in an iterable and returns an iterator.\n",
    "\n",
    "def square_num(x):\n",
    "    return x ** 2\n",
    "\n",
    "# implementing function usnig map\n",
    "num = [1, 2, 3, 4]\n",
    "num1 = map(square_num, num)\n",
    "num2 = list(map(square_num, num))\n",
    "print(num1)\n",
    "print(num2)"
   ]
  },
  {
   "cell_type": "markdown",
   "metadata": {
    "id": "CeYqiylx3D7Q"
   },
   "source": [
    "**(viii)**  filter()\n",
    "\n",
    "Syntax: filter(function, iterable)"
   ]
  },
  {
   "cell_type": "code",
   "execution_count": 8,
   "metadata": {
    "colab": {
     "base_uri": "https://localhost:8080/"
    },
    "id": "QE6te3rk14G2",
    "outputId": "6b0c802e-082a-47e7-bb36-26aa5b5bc32a"
   },
   "outputs": [
    {
     "name": "stdout",
     "output_type": "stream",
     "text": [
      "<filter object at 0x000002936D313A90>\n",
      "[2, 4]\n"
     ]
    }
   ],
   "source": [
    "# The filter() function filters elements from an iterable based on a given condition.\n",
    "# define function\n",
    "def is_even(x):\n",
    "    return x %2== 0\n",
    "\n",
    "# implementing function usnig filter\n",
    "nums = [1, 2, 3, 4, 5]\n",
    "even_nums1= filter(is_even, nums)\n",
    "even_nums2= list(filter(is_even, nums))\n",
    "print(even_nums1)\n",
    "print(even_nums2)"
   ]
  },
  {
   "cell_type": "markdown",
   "metadata": {
    "id": "waRqkqLt4XW6"
   },
   "source": [
    "**(ix)**  next()\n"
   ]
  },
  {
   "cell_type": "code",
   "execution_count": null,
   "metadata": {
    "colab": {
     "base_uri": "https://localhost:8080/"
    },
    "id": "DXp90hED3XBJ",
    "outputId": "b5ba73f2-7e25-4132-eee5-91bac40ad137"
   },
   "outputs": [
    {
     "name": "stdout",
     "output_type": "stream",
     "text": [
      "Ram\n",
      "12\n",
      "23\n"
     ]
    }
   ],
   "source": [
    "# The next() function retrieves the next item from an iterator.\n",
    "\n",
    "lst = iter(['Ram', 12, 23])\n",
    "print(next(lst))\n",
    "print(next(lst))\n",
    "print(next(lst))"
   ]
  },
  {
   "cell_type": "markdown",
   "metadata": {
    "id": "T5LvRb9h4xaC"
   },
   "source": [
    "**(x)**  reduce()\n",
    "\n"
   ]
  },
  {
   "cell_type": "code",
   "execution_count": null,
   "metadata": {
    "colab": {
     "base_uri": "https://localhost:8080/"
    },
    "id": "3z8h_AkI4nxm",
    "outputId": "b6a03116-000e-43b0-b00e-855fd4b4ac91"
   },
   "outputs": [
    {
     "name": "stdout",
     "output_type": "stream",
     "text": [
      "308\n"
     ]
    }
   ],
   "source": [
    "# The reduce() function (from the functools module) applies a binary function to the items of an iterable cumulatively.\n",
    "from functools import reduce\n",
    "\n",
    "def multiply(x, y):\n",
    "    return x*y\n",
    "\n",
    "lst = [11, 7, 4, 1]\n",
    "lst1 = reduce(multiply, lst)\n",
    "print(lst1)"
   ]
  },
  {
   "cell_type": "markdown",
   "metadata": {
    "id": "C50Cz_Mx6hSR"
   },
   "source": [
    "## Q.2. Write a Python function that sorts a dictionary based on the length of values.\n",
    "\n",
    "Sample:\n",
    "\n",
    "Input: {'lemon':'yellow','apple':'red'} output: {'apple':'red','lemon':'yellow'}"
   ]
  },
  {
   "cell_type": "code",
   "execution_count": null,
   "metadata": {
    "colab": {
     "base_uri": "https://localhost:8080/"
    },
    "id": "2h1RnIeh5D8G",
    "outputId": "85aa13dc-e4f5-4c4d-e75e-d3e6d34e6bcc"
   },
   "outputs": [
    {
     "name": "stdout",
     "output_type": "stream",
     "text": [
      "{'apple': 'red', 'lemon': 'yellow'}\n"
     ]
    }
   ],
   "source": [
    "def sort_dict(dct):\n",
    "    itm= dct.items()\n",
    "    sorted_values = sorted(itm, key=lambda x: len(x[1]))\n",
    "    sorted_dict = dict(sorted_values)\n",
    "    return sorted_dict\n",
    "\n",
    "# Example usage:\n",
    "Input = {'lemon': 'yellow', 'apple': 'red'}\n",
    "# print(Input.items()) # dict_items([('lemon', 'yellow'), ('apple', 'red')])\n",
    "outpt = sort_dict(Input)\n",
    "print(outpt)"
   ]
  },
  {
   "cell_type": "markdown",
   "metadata": {
    "id": "MmWOFkeS-uX1"
   },
   "source": [
    "## 3. Develop a Python program that executes the following tasks with a user-provided string:\n",
    "\n",
    "Your program should showcase proficiency in dictionary operations, sorting mechanisms, and handling of ties in frequency counts. Comment your code to outline the process and decisions made.\n",
    "\n",
    "sample:\n",
    "\n",
    "input = 'GOOGLE'\n",
    "\n",
    "Here, the most repeated characters are G:2, O:2. But, L,E are occurring only a single time which is tied for the third position here, so here we take E as it comes first in the lexicographical order."
   ]
  },
  {
   "cell_type": "markdown",
   "metadata": {
    "id": "Lwi0zgSu_BTh"
   },
   "source": [
    "a. Prompt the user to input a string."
   ]
  },
  {
   "cell_type": "code",
   "execution_count": null,
   "metadata": {
    "colab": {
     "base_uri": "https://localhost:8080/"
    },
    "id": "4hjmixeg-_mQ",
    "outputId": "85fb9116-a514-4a7b-e8c7-0539c3ed298a"
   },
   "outputs": [
    {
     "name": "stdout",
     "output_type": "stream",
     "text": [
      "Enter a string:GOOGLE\n"
     ]
    }
   ],
   "source": [
    "str1= input(\"Enter a string:\")"
   ]
  },
  {
   "cell_type": "markdown",
   "metadata": {
    "id": "c5OXJUXb_MBI"
   },
   "source": [
    "\n",
    "b. Create a dictionary from the string where each key is a unique alphabet character and the corresponding value is the frequency of that character's occurrence in the string.\n"
   ]
  },
  {
   "cell_type": "code",
   "execution_count": null,
   "metadata": {
    "colab": {
     "base_uri": "https://localhost:8080/"
    },
    "id": "jjcOS9cE_LD_",
    "outputId": "6c1d5f01-ab59-4fca-b35c-5a5c32c70b8c"
   },
   "outputs": [
    {
     "name": "stdout",
     "output_type": "stream",
     "text": [
      "{'G': 2, 'O': 2, 'L': 1, 'E': 1}\n"
     ]
    }
   ],
   "source": [
    "def dict_create(str):\n",
    "    # Initialize an empty dictionary\n",
    "    dict1 = {}\n",
    "\n",
    "    # Iterate through each character in the input string\n",
    "    for i in str:\n",
    "        # If the character is not already in the dictionary, add it with a count of 1\n",
    "        if i not in dict1:\n",
    "            dict1[i] = 1\n",
    "        else:\n",
    "            # If the character is already in the dictionary, increment its count\n",
    "            dict1[i] += 1\n",
    "\n",
    "    return dict1\n",
    "dct2= dict_create(str1)\n",
    "print(dct2)"
   ]
  },
  {
   "cell_type": "markdown",
   "metadata": {
    "id": "PwI0EeiI_PPD"
   },
   "source": [
    "c. Generate a sorted list of tuples from the dictionary based on character frequency (values)."
   ]
  },
  {
   "cell_type": "code",
   "execution_count": null,
   "metadata": {
    "colab": {
     "base_uri": "https://localhost:8080/"
    },
    "id": "bunM_jGf_Kxh",
    "outputId": "a60ae8f7-ba82-4db6-d0b7-d80f722c8875"
   },
   "outputs": [
    {
     "name": "stdout",
     "output_type": "stream",
     "text": [
      "[('L', 1), ('E', 1), ('G', 2), ('O', 2)]\n"
     ]
    }
   ],
   "source": [
    "a= sorted(dct2.items(), key=lambda x: x[1])\n",
    "print(a)"
   ]
  },
  {
   "cell_type": "markdown",
   "metadata": {
    "id": "fnWo48Qq_SeT"
   },
   "source": [
    "d. Generate a sorted list of tuples from the dictionary based on the alphabet characters (keys)."
   ]
  },
  {
   "cell_type": "code",
   "execution_count": null,
   "metadata": {
    "colab": {
     "base_uri": "https://localhost:8080/"
    },
    "id": "L19CNk1z_Klj",
    "outputId": "c845211b-6e9a-435e-d9e6-00d91f9acb67"
   },
   "outputs": [
    {
     "name": "stdout",
     "output_type": "stream",
     "text": [
      "[('E', 1), ('G', 2), ('L', 1), ('O', 2)]\n"
     ]
    }
   ],
   "source": [
    "b= sorted(dct2.items(), key=lambda x: x[0])\n",
    "print(b)"
   ]
  },
  {
   "cell_type": "markdown",
   "metadata": {
    "id": "W674_R9G_XgS"
   },
   "source": [
    "e. Identify the three most frequently occurring characters. In the event of a frequency tie, prioritize characters in lexicographical order."
   ]
  },
  {
   "cell_type": "code",
   "execution_count": null,
   "metadata": {
    "colab": {
     "base_uri": "https://localhost:8080/"
    },
    "id": "94APaBIG_J0X",
    "outputId": "fc91108b-123f-4213-9f81-d9526de263c8"
   },
   "outputs": [
    {
     "name": "stdout",
     "output_type": "stream",
     "text": [
      "[('L', 1), ('E', 1), ('G', 2)]\n"
     ]
    }
   ],
   "source": [
    "lst2= sorted(dct2.items(), key=lambda x: x[1])\n",
    "lst3= [lst2[i] for i in range(3)]\n",
    "print(lst3)"
   ]
  },
  {
   "cell_type": "markdown",
   "metadata": {
    "id": "nl9KWsESGHZb"
   },
   "source": [
    "## Q.4. Write a function called lookup_student that takes a dictionary representing student records, where names are keys and roll numbers are values. The function should search for a specified student name and return the corresponding roll number if found; otherwise, it should return \"Not Found\"\n",
    "\n",
    "Example:\n",
    "\n",
    "records = { \"Alice\" : \"AB111\", \"Bob\" : \"EE200\", \"David\" : \"XY333\"}\n",
    "\n",
    "print(lookup_student(records, \"Bob\")) : Should print \"EE200\"\n",
    "\n",
    "print(lookup_student(records, \"John\")) : Should print \"Not Found\""
   ]
  },
  {
   "cell_type": "code",
   "execution_count": 2,
   "metadata": {
    "colab": {
     "base_uri": "https://localhost:8080/"
    },
    "id": "S8IGMxO3FDHz",
    "outputId": "5e25521d-8f95-45b0-b0ea-f4100bafd803"
   },
   "outputs": [
    {
     "name": "stdout",
     "output_type": "stream",
     "text": [
      "EE200\n",
      "Not found\n"
     ]
    }
   ],
   "source": [
    "def lookup_student(dct, name):\n",
    "    for k in dct.keys():\n",
    "        if k == name:\n",
    "            return dct[k]\n",
    "    return \"Not found\"\n",
    "\n",
    "records = { \"Alice\" : \"AB111\", \"Bob\" : \"EE200\", \"David\" : \"XY333\"}\n",
    "print(lookup_student(records, \"Bob\"))\n",
    "print(lookup_student(records, \"John\"))"
   ]
  },
  {
   "cell_type": "markdown",
   "metadata": {
    "id": "YLAeeBQpJhkd"
   },
   "source": [
    "## Q.5. Given a list of integers, write a Python program to:\n",
    "\n",
    "\n",
    "a) Find the frequency of each integer in the list and store the result in a dictionary."
   ]
  },
  {
   "cell_type": "code",
   "execution_count": null,
   "metadata": {
    "colab": {
     "base_uri": "https://localhost:8080/"
    },
    "id": "-ESdejB0HXef",
    "outputId": "37223947-e3c3-42c3-f5f5-c5b7985e56a8"
   },
   "outputs": [
    {
     "name": "stdout",
     "output_type": "stream",
     "text": [
      "{10: 2, 12: 1, 15: 1, 9: 3, 7: 1, 5: 1}\n"
     ]
    }
   ],
   "source": [
    "Lst = [10, 12, 10, 15, 9, 7, 9, 5, 9]\n",
    "L_dct = {}\n",
    "\n",
    "for i in Lst:\n",
    "    if i not in L_dct:\n",
    "        L_dct[i] = 1\n",
    "    else:\n",
    "        L_dct[i] += 1\n",
    "\n",
    "print(L_dct)\n"
   ]
  },
  {
   "cell_type": "markdown",
   "metadata": {
    "id": "n2yimpDIM9Iq"
   },
   "source": [
    "b) Print the maximum integer and its frequency."
   ]
  },
  {
   "cell_type": "code",
   "execution_count": null,
   "metadata": {
    "colab": {
     "base_uri": "https://localhost:8080/"
    },
    "id": "heLnJQrJMFu3",
    "outputId": "c7f73c71-1e6d-4e82-9e42-f31623250e7c"
   },
   "outputs": [
    {
     "name": "stdout",
     "output_type": "stream",
     "text": [
      "maximum integer= 15 and its frequency= 1\n"
     ]
    }
   ],
   "source": [
    "m= max(Lst)\n",
    "print('maximum integer=', m, 'and its frequency=', L_dct[m])"
   ]
  },
  {
   "cell_type": "markdown",
   "metadata": {
    "id": "JFg_6wdZNBeo"
   },
   "source": [
    "c) Remove duplicates from the list and print the new list without changing the order of elements. Do this operation without using the set data type."
   ]
  },
  {
   "cell_type": "code",
   "execution_count": null,
   "metadata": {
    "colab": {
     "base_uri": "https://localhost:8080/"
    },
    "id": "-4Hh8CA2M8QP",
    "outputId": "5c40c8a8-5a8d-46e0-a760-87cba66457f6"
   },
   "outputs": [
    {
     "name": "stdout",
     "output_type": "stream",
     "text": [
      "[10, 12, 15, 9, 7, 5]\n"
     ]
    }
   ],
   "source": [
    "Lst2=[]\n",
    "for i in L_dct.keys():\n",
    "  Lst2.append(i)\n",
    "\n",
    "print(Lst2)\n"
   ]
  },
  {
   "cell_type": "markdown",
   "metadata": {
    "id": "y-FBTCxjNKjH"
   },
   "source": [
    "d) Remove duplicates from the list and print the new list. Do this operation using the set data type."
   ]
  },
  {
   "cell_type": "code",
   "execution_count": null,
   "metadata": {
    "colab": {
     "base_uri": "https://localhost:8080/"
    },
    "id": "9X_VgyI9M8Cv",
    "outputId": "e7b8c17f-33f8-4e2e-8a08-e8dc031ac29f"
   },
   "outputs": [
    {
     "name": "stdout",
     "output_type": "stream",
     "text": [
      "{5, 7, 9, 10, 12, 15}\n"
     ]
    }
   ],
   "source": [
    "set1= set(Lst2)\n",
    "print(set1)"
   ]
  },
  {
   "cell_type": "code",
   "execution_count": null,
   "metadata": {
    "id": "pMyJyXYVO-X1"
   },
   "outputs": [],
   "source": []
  }
 ],
 "metadata": {
  "colab": {
   "provenance": []
  },
  "kernelspec": {
   "display_name": "Python 3 (ipykernel)",
   "language": "python",
   "name": "python3"
  },
  "language_info": {
   "codemirror_mode": {
    "name": "ipython",
    "version": 3
   },
   "file_extension": ".py",
   "mimetype": "text/x-python",
   "name": "python",
   "nbconvert_exporter": "python",
   "pygments_lexer": "ipython3",
   "version": "3.11.4"
  }
 },
 "nbformat": 4,
 "nbformat_minor": 4
}
