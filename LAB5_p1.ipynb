{
 "cells": [
  {
   "cell_type": "markdown",
   "id": "183aef8e-fde0-4ffb-a5cb-024986b9ed3d",
   "metadata": {},
   "source": [
    "## Q.1. Write a program(WAP) using loops and recursion: \r\n",
    "\r\n",
    "a) Factorial of n where n is a non negative integer b>=0."
   ]
  },
  {
   "cell_type": "code",
   "execution_count": 1,
   "id": "d9d37e50-7c0b-449c-b944-9bf34955d102",
   "metadata": {},
   "outputs": [
    {
     "name": "stdout",
     "output_type": "stream",
     "text": [
      "5040\n",
      "720\n"
     ]
    }
   ],
   "source": [
    "# Using loop\n",
    "def cal_fact(n):\n",
    "    f = 1\n",
    "    if n==0:\n",
    "        return 1\n",
    "    else:\n",
    "        for i in range(1,n+1):\n",
    "            f=f*i\n",
    "        return f\n",
    "\n",
    "a = cal_fact(7)\n",
    "print(a)\n",
    "\n",
    "# Using recursion\n",
    "def find_fact(n):\n",
    "    g = 1\n",
    "    if n==0:\n",
    "        return 1\n",
    "    else:\n",
    "        g = n*find_fact(n-1)\n",
    "    return g\n",
    "\n",
    "b = find_fact(6)\n",
    "print(b)"
   ]
  },
  {
   "cell_type": "markdown",
   "id": "9e851f3b-1375-4123-aff9-83cb5c4bb075",
   "metadata": {},
   "source": [
    "b) For calculating the Nth Fibonacci number."
   ]
  },
  {
   "cell_type": "code",
   "execution_count": 2,
   "id": "242ff143-fa6d-4c75-87e9-171cdbf5ab05",
   "metadata": {},
   "outputs": [
    {
     "name": "stdout",
     "output_type": "stream",
     "text": [
      "55\n"
     ]
    }
   ],
   "source": [
    "# Nth Fibonacci number using recursion\n",
    "def Fib_num(N):\n",
    "    if N ==0:\n",
    "        return 0\n",
    "    elif N ==1 or N ==2:\n",
    "        return 1\n",
    "    else:\n",
    "        return Fib_num(N-2) + Fib_num(N-1)\n",
    "\n",
    "x = Fib_num(10)\n",
    "print(x)"
   ]
  },
  {
   "cell_type": "code",
   "execution_count": 4,
   "id": "e60e20d0-0c68-49b3-a471-44858ec65705",
   "metadata": {},
   "outputs": [
    {
     "name": "stdout",
     "output_type": "stream",
     "text": [
      "55\n"
     ]
    }
   ],
   "source": [
    "# Nth Fibonacci number using loop\n",
    "def Nth_Fib_num(N):\n",
    "    a = 1\n",
    "    b = 1\n",
    "    next_num = 0\n",
    "    if N ==0:\n",
    "        return 0\n",
    "    else:\n",
    "        for i in range(N-2):\n",
    "            next_num = a + b\n",
    "            a = b\n",
    "            b = next_num\n",
    "        return next_num\n",
    "\n",
    "x1 = Nth_Fib_num(10)\n",
    "print(x1)"
   ]
  },
  {
   "cell_type": "markdown",
   "id": "771b1649-b837-4227-8e61-8b0735374437",
   "metadata": {},
   "source": [
    "c) To calculate a^b where a>0, b>=0."
   ]
  },
  {
   "cell_type": "code",
   "execution_count": 5,
   "id": "c538a4d0-8fc3-414f-b3df-eb34d37bb2ce",
   "metadata": {},
   "outputs": [
    {
     "name": "stdout",
     "output_type": "stream",
     "text": [
      "2197\n"
     ]
    }
   ],
   "source": [
    "# Define power using recursion\n",
    "def power(a,b):\n",
    "    p = 1\n",
    "    if b==0:\n",
    "        return 1\n",
    "    else:\n",
    "        if b>0:\n",
    "            p = a*power(a,b-1)\n",
    "        return p\n",
    "y = power(13,3)\n",
    "print(y)"
   ]
  },
  {
   "cell_type": "code",
   "execution_count": 6,
   "id": "72b2f2d7-2645-4c54-be55-a8550f1742ad",
   "metadata": {},
   "outputs": [
    {
     "name": "stdout",
     "output_type": "stream",
     "text": [
      "1024\n"
     ]
    }
   ],
   "source": [
    "# Define power using loop\n",
    "def power_loop(a,b):\n",
    "    p = 1\n",
    "    if b==0:\n",
    "        return 1\n",
    "    else:\n",
    "        for i in range(1, b+1):\n",
    "            p = p*a\n",
    "        return p\n",
    "y1 = power_loop(4,5)\n",
    "print(y1)"
   ]
  },
  {
   "cell_type": "markdown",
   "id": "9db6a3b6-e868-4e54-9a69-943bbd5df49c",
   "metadata": {},
   "source": [
    "## Q.2. Query for 2 integers N and M from the user where 0<=N<=100 and 0<=M<=9. These will be the inputs to your function. Using recursion, compute the number of times the integer M occurs in all non-negative integers less than or equal to N.\n",
    "example: For N=13 and M=1, count=6 (numbers 1,10,11,12,13)."
   ]
  },
  {
   "cell_type": "code",
   "execution_count": 7,
   "id": "25b29481-462b-4a5c-9317-7fe706decf74",
   "metadata": {},
   "outputs": [
    {
     "name": "stdout",
     "output_type": "stream",
     "text": [
      "6\n"
     ]
    }
   ],
   "source": [
    "# Using recursion we will count total digits in number \n",
    "def count_digit_in_number(digit, number):\n",
    "    if number == 0:\n",
    "        return 0\n",
    "    elif number % 10 == digit:\n",
    "        return 1 + count_digit_in_number(digit, number // 10)\n",
    "    else:\n",
    "        return count_digit_in_number(digit, number // 10)\n",
    "        \n",
    "# Now we define a function to find frequency\n",
    "def freq_M(M, N):\n",
    "    count = 0\n",
    "    if 0 <= N <= 100:\n",
    "        if 0 <= M <= 9:\n",
    "            for j in range(N + 1):\n",
    "                count += count_digit_in_number(M, j)\n",
    "            print(count)\n",
    "        else:\n",
    "            print(\"Invalid M\")\n",
    "    else:\n",
    "        print(\"Invalid N\")\n",
    "\n",
    "freq_M(1, 13)\n"
   ]
  },
  {
   "cell_type": "markdown",
   "id": "fedbb87e-0648-4dd7-8b9d-c6263ab2c739",
   "metadata": {},
   "source": [
    "## Q.3. Programs using lambda function.\n",
    "\n",
    "a) Given a list of names, use map to create a list where each name is prefixed with \"Hello, \".\n",
    "\n",
    "Example Input: ['Alice', 'Bob', 'Charlie']\n",
    "Example Output: ['Hello, Alice', 'Hello, Bob', 'Hello, Charlie']"
   ]
  },
  {
   "cell_type": "code",
   "execution_count": 64,
   "id": "6e94d027-7530-4191-aadf-684b35187099",
   "metadata": {},
   "outputs": [
    {
     "name": "stdout",
     "output_type": "stream",
     "text": [
      "['Hello, Alice', 'Hello, Bob', 'Hello, Charlie']\n"
     ]
    }
   ],
   "source": [
    "A = 'Hello'\n",
    "B = ['Alice', 'Bob', 'Charlie']\n",
    "X = map(lambda i: f'{A}, {i}', B)\n",
    "C = list(X)\n",
    "print(C)"
   ]
  },
  {
   "cell_type": "markdown",
   "id": "bc037b6e-68b1-4271-9326-554491fc3ce0",
   "metadata": {},
   "source": [
    "b) Use filter and a lambda function to extract all even numbers from a given list.\n",
    "\n",
    "Example Input: [1, 2, 3, 4, 5, 6]\n",
    "Example Output: [2, 4, 6]"
   ]
  },
  {
   "cell_type": "code",
   "execution_count": 68,
   "id": "a2d127e5-522f-417e-9b43-b566f22794bc",
   "metadata": {},
   "outputs": [
    {
     "name": "stdout",
     "output_type": "stream",
     "text": [
      "[2, 4, 6]\n"
     ]
    }
   ],
   "source": [
    "nums = [1, 2, 3, 4, 5, 6]\n",
    "even_nums= list(filter(lambda x:x%2==0, nums))\n",
    "print(even_nums)"
   ]
  },
  {
   "cell_type": "markdown",
   "id": "7aeff634-5d8c-4aaf-bd49-81298b65bff9",
   "metadata": {},
   "source": [
    "c) Use reduce and lambda to concatenate all strings in a given list.\n",
    "\n",
    "Example Input: ['Python', 'is', 'awesome']\n",
    "Example Output: 'Pythonisawesome'"
   ]
  },
  {
   "cell_type": "code",
   "execution_count": 72,
   "id": "9a43e7fa-e2cc-432e-bf9d-ee0e93a6db3c",
   "metadata": {},
   "outputs": [
    {
     "name": "stdout",
     "output_type": "stream",
     "text": [
      "Pythonisawesome\n"
     ]
    }
   ],
   "source": [
    "from functools import reduce\n",
    "\n",
    "I = ['Python', 'is', 'awesome']\n",
    "Output = reduce(lambda x,y: x+y, I)\n",
    "print(Output)"
   ]
  },
  {
   "cell_type": "markdown",
   "id": "aeca78f2-3f06-4421-8448-59695058279c",
   "metadata": {},
   "source": [
    "## Q.4.  Define a class Complex that defines a complex number with attributes real and imaginary (as we did in the class). Define operators for addition, subtraction, multiplication and division (Do with both operator overloading as well as without overloading). While printing the output, print in the form of complex number form like ( a + ib)  - 10 marks ( 1 mark each for each of the operations with and without operator overloading)"
   ]
  },
  {
   "cell_type": "code",
   "execution_count": 8,
   "id": "40fc8bb1-8317-46d4-86e3-e24f90aded06",
   "metadata": {},
   "outputs": [
    {
     "name": "stdout",
     "output_type": "stream",
     "text": [
      "Sum: 21 + -5 i\n",
      "Subtraction: 19 + -1 i\n",
      "Multiplication: 14 + -43 i\n",
      "Division: 5.2 + 7.4 i\n"
     ]
    }
   ],
   "source": [
    "# complex number class without Operator overloading\n",
    "class Complex_Num:\n",
    "    def __init__(self, real, imaginary):\n",
    "        self.real = real\n",
    "        self.imaginary = imaginary\n",
    "\n",
    "    def add(self, other):\n",
    "        new_real = self.real + other.real\n",
    "        new_imaginary = self.imaginary + other.imaginary\n",
    "        return Complex_Num(new_real, new_imaginary)\n",
    "\n",
    "    def subtract(self, other):\n",
    "        new_real = self.real - other.real\n",
    "        new_imaginary = self.imaginary - other.imaginary\n",
    "        return Complex_Num(new_real, new_imaginary)\n",
    "\n",
    "    def multiply(self, other):\n",
    "        new_real = self.real * other.real - self.imaginary * other.imaginary\n",
    "        new_imaginary = self.real * other.imaginary + self.imaginary * other.real\n",
    "        return Complex_Num(new_real, new_imaginary)\n",
    "\n",
    "    def divide(self, other):\n",
    "        denominator = other.real**2 + other.imaginary**2\n",
    "        new_real = (self.real*other.real + self.imaginary*other.imaginary) / denominator\n",
    "        new_imaginary = (self.imaginary*other.real - self.real*other.imaginary) / denominator\n",
    "        return Complex_Num(new_real, new_imaginary)\n",
    "\n",
    "# Example usage:\n",
    "c3 = Complex_Num(20, -3)\n",
    "c4 = Complex_Num(1, -2)\n",
    "\n",
    "# Without operator overloading\n",
    "sum_result = c3.add(c4)\n",
    "print(\"Sum:\", sum_result.real, \"+\", sum_result.imaginary, \"i\")\n",
    "\n",
    "subtract_result = c3.subtract(c4)\n",
    "print(\"Subtraction:\", subtract_result.real, \"+\", subtract_result.imaginary, \"i\")\n",
    "\n",
    "multiply_result = c3.multiply(c4)\n",
    "print(\"Multiplication:\", multiply_result.real, \"+\", multiply_result.imaginary, \"i\")\n",
    "\n",
    "divide_result = c3.divide(c4)\n",
    "print(\"Division:\", divide_result.real, \"+\", divide_result.imaginary, \"i\")\n"
   ]
  },
  {
   "cell_type": "code",
   "execution_count": 9,
   "id": "f825c833-d647-47a8-a0c4-f498a5cf91bc",
   "metadata": {},
   "outputs": [
    {
     "name": "stdout",
     "output_type": "stream",
     "text": [
      "21 - 5i\n",
      "19 - 1i\n",
      "14 - 43i\n",
      "5.2 + 7.4i\n"
     ]
    }
   ],
   "source": [
    "class Complex_Num:\n",
    "    def __init__(self, real, imaginary):\n",
    "        self.real = real\n",
    "        self.imaginary = imaginary\n",
    "\n",
    "    def print_num(self):\n",
    "        if self.imaginary >= 0:\n",
    "            return f\"{self.real} + {self.imaginary}i\"\n",
    "        else:\n",
    "            return f\"{self.real} - {abs(self.imaginary)}i\"\n",
    "\n",
    "    def __add__(self, other):\n",
    "        new_real = self.real + other.real\n",
    "        new_imaginary = self.imaginary + other.imaginary\n",
    "        return Complex_Num(new_real, new_imaginary)\n",
    "\n",
    "    def __sub__(self, other):\n",
    "        new_real = self.real - other.real\n",
    "        new_imaginary = self.imaginary - other.imaginary\n",
    "        return Complex_Num(new_real, new_imaginary)\n",
    "\n",
    "    def __mul__(self, other):\n",
    "        new_real = self.real * other.real - self.imaginary * other.imaginary\n",
    "        new_imaginary = self.real * other.imaginary + self.imaginary * other.real\n",
    "        return Complex_Num(new_real, new_imaginary)\n",
    "\n",
    "    def __truediv__(self, other):\n",
    "        denominator = other.real**2 + other.imaginary**2\n",
    "        new_real = (self.real*other.real + self.imaginary*other.imaginary) / denominator\n",
    "        new_imaginary = (self.imaginary*other.real - self.real*other.imaginary) / denominator\n",
    "        return Complex_Num(new_real, new_imaginary)\n",
    "\n",
    "# Define objects\n",
    "c1 = Complex_Num(20, -3)\n",
    "c2 = Complex_Num(1, -2)\n",
    "\n",
    "# Operator overloading\n",
    "sum_result = c1 + c2\n",
    "print(sum_result.print_num())\n",
    "\n",
    "subtract_result = c1 - c2\n",
    "print(subtract_result.print_num())\n",
    "\n",
    "multiply_result = c1 * c2\n",
    "print(multiply_result.print_num())\n",
    "\n",
    "divide_result = c1 / c2\n",
    "print(divide_result.print_num())\n"
   ]
  },
  {
   "cell_type": "code",
   "execution_count": null,
   "id": "3a97b9fe-30de-4e20-8e51-fbcbf09080d2",
   "metadata": {},
   "outputs": [],
   "source": []
  }
 ],
 "metadata": {
  "kernelspec": {
   "display_name": "Python 3 (ipykernel)",
   "language": "python",
   "name": "python3"
  },
  "language_info": {
   "codemirror_mode": {
    "name": "ipython",
    "version": 3
   },
   "file_extension": ".py",
   "mimetype": "text/x-python",
   "name": "python",
   "nbconvert_exporter": "python",
   "pygments_lexer": "ipython3",
   "version": "3.11.4"
  }
 },
 "nbformat": 4,
 "nbformat_minor": 5
}
