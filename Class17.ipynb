{
 "cells": [
  {
   "cell_type": "markdown",
   "id": "aee29b84-35fe-4957-8648-ab930b12ef81",
   "metadata": {},
   "source": [
    "## Libraries"
   ]
  },
  {
   "cell_type": "code",
   "execution_count": 1,
   "id": "f1848f10-0551-4701-979b-66e649c3bb56",
   "metadata": {},
   "outputs": [
    {
     "name": "stdout",
     "output_type": "stream",
     "text": [
      "       qid                 qname  \\\n",
      "0   QID281       LearnCodeOnline   \n",
      "1   QID306  LearnCodeCoursesCert   \n",
      "2    QID32             YearsCode   \n",
      "3    QID34          YearsCodePro   \n",
      "4    QID31               DevType   \n",
      "5    QID29               OrgSize   \n",
      "6   QID278     PurchaseInfluence   \n",
      "7   QID322              TechList   \n",
      "8   QID279            BuyNewTool   \n",
      "9     QID6               Country   \n",
      "10   QID50              Currency   \n",
      "11   QID51             CompTotal   \n",
      "12   QID61                    S3   \n",
      "13  QID233              Language   \n",
      "14  QID262              Database   \n",
      "15  QID263              Platform   \n",
      "16  QID264              Webframe   \n",
      "17  QID265              MiscTech   \n",
      "18  QID275             ToolsTech   \n",
      "19  QID274        NEWCollabTools   \n",
      "20   QID71                 OpSys   \n",
      "21  QID282      OfficeStackAsync   \n",
      "22  QID307       OfficeStackSync   \n",
      "23  QID327              AISearch   \n",
      "24  QID328                 AIDev   \n",
      "25   QID91                    S4   \n",
      "\n",
      "                                             question  force_resp    type  \\\n",
      "0   What online resources do you use to learn to c...       False      MC   \n",
      "1   What online courses or certifications do you u...       False      MC   \n",
      "2   Including any education, how many years have y...       False      MC   \n",
      "3   NOT including education, how many years have y...       False      MC   \n",
      "4   Which of the following describes your current ...       False      MC   \n",
      "5   Approximately how many people are employed by ...       False      MC   \n",
      "6   What level of influence do you, personally, ha...       False      MC   \n",
      "7   When thinking about new technology purchases a...       False      MC   \n",
      "8   When buying a new tool or software, how do you...       False      MC   \n",
      "9   Where do you live? <span style=\"font-weight: b...        True      MC   \n",
      "10  Which currency do you use day-to-day? If your ...        True      MC   \n",
      "11  What is your current total <b>annual</b> compe...       False      TE   \n",
      "12  <span style=\"font-size:22px; font-family: aria...       False      DB   \n",
      "13  Which <b>programming, scripting, and markup la...       False  Matrix   \n",
      "14  Which <b>database environments </b>have you do...       False  Matrix   \n",
      "15  Which <b>cloud platforms</b> have you done ext...       False  Matrix   \n",
      "16  Which <b>web frameworks and web technologies</...       False  Matrix   \n",
      "17  Which <b>other frameworks and libraries</b> ha...       False  Matrix   \n",
      "18  Which <b>developer </b><strong>tools for compi...       False  Matrix   \n",
      "19  Which <strong>development environments</strong...       False  Matrix   \n",
      "20  What is the primary <b>operating system</b> in...       False  Matrix   \n",
      "21  Which <b>collaborative work management and/or ...       False  Matrix   \n",
      "22  Which <b>communication tools</b> did you use r...       False  Matrix   \n",
      "23  Which <b>AI-powered search tools</b> did you u...       False  Matrix   \n",
      "24  Which <b>AI-powered developer tools</b> did yo...       False  Matrix   \n",
      "25  <span style=\"font-size:22px; font-family: aria...       False      DB   \n",
      "\n",
      "   selector  \n",
      "0      MAVR  \n",
      "1      MAVR  \n",
      "2        DL  \n",
      "3        DL  \n",
      "4      SAVR  \n",
      "5      SAVR  \n",
      "6      SAVR  \n",
      "7      SAVR  \n",
      "8      MAVR  \n",
      "9        DL  \n",
      "10       DL  \n",
      "11       SL  \n",
      "12       TB  \n",
      "13   Likert  \n",
      "14   Likert  \n",
      "15   Likert  \n",
      "16   Likert  \n",
      "17   Likert  \n",
      "18   Likert  \n",
      "19   Likert  \n",
      "20   Likert  \n",
      "21   Likert  \n",
      "22   Likert  \n",
      "23   Likert  \n",
      "24   Likert  \n",
      "25       TB  \n"
     ]
    }
   ],
   "source": [
    "import pandas as pd\n",
    "# Pandas\n",
    "# It used for Handling data (particularly for large scale data)\n",
    "df = pd.read_csv('survey_results_schema.csv')\n",
    "print(df)\n"
   ]
  },
  {
   "cell_type": "code",
   "execution_count": 19,
   "id": "f7f49fda-906b-4ccc-a892-12027afbb684",
   "metadata": {},
   "outputs": [
    {
     "name": "stdout",
     "output_type": "stream",
     "text": [
      "0     QID281\n",
      "1     QID306\n",
      "2      QID32\n",
      "3      QID34\n",
      "4      QID31\n",
      "5      QID29\n",
      "6     QID278\n",
      "7     QID322\n",
      "8     QID279\n",
      "9       QID6\n",
      "10     QID50\n",
      "11     QID51\n",
      "12     QID61\n",
      "13    QID233\n",
      "14    QID262\n",
      "15    QID263\n",
      "16    QID264\n",
      "17    QID265\n",
      "18    QID275\n",
      "19    QID274\n",
      "20     QID71\n",
      "21    QID282\n",
      "22    QID307\n",
      "23    QID327\n",
      "24    QID328\n",
      "25     QID91\n",
      "Name: qid, dtype: object\n"
     ]
    }
   ],
   "source": [
    "print(df['qid']) #print one column"
   ]
  },
  {
   "cell_type": "code",
   "execution_count": 20,
   "id": "6b7c085b-3828-4ef2-88fe-df7cc8ca4b83",
   "metadata": {},
   "outputs": [
    {
     "name": "stdout",
     "output_type": "stream",
     "text": [
      "Printing the list\n",
      "0     QID281\n",
      "1     QID306\n",
      "2      QID32\n",
      "3      QID34\n",
      "4      QID31\n",
      "5      QID29\n",
      "6     QID278\n",
      "7     QID322\n",
      "8     QID279\n",
      "9       QID6\n",
      "10     QID50\n",
      "11     QID51\n",
      "12     QID61\n",
      "13    QID233\n",
      "14    QID262\n",
      "15    QID263\n",
      "16    QID264\n",
      "17    QID265\n",
      "18    QID275\n",
      "19    QID274\n",
      "20     QID71\n",
      "21    QID282\n",
      "22    QID307\n",
      "23    QID327\n",
      "24    QID328\n",
      "25     QID91\n",
      "Name: qid, dtype: object <class 'pandas.core.series.Series'>\n"
     ]
    }
   ],
   "source": [
    "lst = df['qid'] # Convert in list a column\n",
    "print('Printing the list')\n",
    "print(lst, type(lst))"
   ]
  },
  {
   "cell_type": "code",
   "execution_count": 21,
   "id": "c4ad9934-6e07-4390-ac79-90ee92110cd9",
   "metadata": {},
   "outputs": [
    {
     "name": "stdout",
     "output_type": "stream",
     "text": [
      "Printing each element\n",
      "QID281\n",
      "QID306\n",
      "QID32\n",
      "QID34\n",
      "QID31\n",
      "QID29\n",
      "QID278\n",
      "QID322\n",
      "QID279\n",
      "QID6\n",
      "QID50\n",
      "QID51\n",
      "QID61\n",
      "QID233\n",
      "QID262\n",
      "QID263\n",
      "QID264\n",
      "QID265\n",
      "QID275\n",
      "QID274\n",
      "QID71\n",
      "QID282\n",
      "QID307\n",
      "QID327\n",
      "QID328\n",
      "QID91\n"
     ]
    }
   ],
   "source": [
    "print('Printing each element')\n",
    "for i in lst:\n",
    "    print(i)\n",
    "# print(lst[1])"
   ]
  },
  {
   "cell_type": "markdown",
   "id": "38cf7dfa-df4f-42e4-8c87-f1f3940555b1",
   "metadata": {},
   "source": [
    "## Numpy( Numerical pytho)n"
   ]
  },
  {
   "cell_type": "code",
   "execution_count": 1,
   "id": "11458fc1-7311-4ce0-ae33-9d9c9907d2d9",
   "metadata": {},
   "outputs": [
    {
     "name": "stdout",
     "output_type": "stream",
     "text": [
      "1.26.1\n"
     ]
    }
   ],
   "source": [
    "# Arrays (similar to lists, but works 50 times faster!) \n",
    "# Contigous memory locations (‘C’ concept of the array)\n",
    "# Access and manipulate easier\n",
    "# Written in C / C++\n",
    "import numpy as np\n",
    "print(np.__version__)"
   ]
  },
  {
   "cell_type": "code",
   "execution_count": 2,
   "id": "505fb40d-fe3e-4d5f-b1f2-592225620a94",
   "metadata": {},
   "outputs": [
    {
     "name": "stdout",
     "output_type": "stream",
     "text": [
      "1836754373776 1836992512656\n",
      "0 2 1836992518256\n",
      "1 5 1836992512176\n",
      "2 6 1836992518384\n",
      "3 9 1836992512656\n",
      "4 7 1836992512176\n",
      "5 12 1836992518384\n"
     ]
    }
   ],
   "source": [
    "# 1-D Array\n",
    "arr = np.array([2, 5, 6, 9, 7, 12])\n",
    "print(id(arr), id(arr[0]))\n",
    "\n",
    "for i in range(0,len(arr)):\n",
    "    print(i, arr[i], id(arr[i]))"
   ]
  },
  {
   "cell_type": "code",
   "execution_count": 3,
   "id": "ffda34a3-87d5-4845-a898-7edda7ceec30",
   "metadata": {},
   "outputs": [
    {
     "name": "stdout",
     "output_type": "stream",
     "text": [
      "4 (4,)\n"
     ]
    }
   ],
   "source": [
    "print(arr.itemsize, arr.strides)"
   ]
  },
  {
   "cell_type": "code",
   "execution_count": 4,
   "id": "cc3ef0ff-29e2-48e1-9ff9-49f9cb58cd80",
   "metadata": {},
   "outputs": [
    {
     "name": "stdout",
     "output_type": "stream",
     "text": [
      "1836754373200 1836993332400\n",
      "0 [ 2  5  6  9  7 12] 1836993332208\n",
      "1 [ 5  8  7 11 31  0] 1836993332208\n"
     ]
    }
   ],
   "source": [
    "# 2-D Array\n",
    "arr1 = np.array([[2, 5, 6, 9, 7, 12], [5, 8, 7, 11, 31, 0]])\n",
    "\n",
    "print(id(arr1), id(arr1[0]))\n",
    "for i in range(0,len(arr1)):\n",
    "    print(i, arr1[i], id(arr1[i]))"
   ]
  },
  {
   "cell_type": "code",
   "execution_count": 5,
   "id": "541a552b-54ad-4718-beb0-0304bfcbf6a7",
   "metadata": {},
   "outputs": [
    {
     "name": "stdout",
     "output_type": "stream",
     "text": [
      "4 (24, 4)\n"
     ]
    }
   ],
   "source": [
    "print(arr1.itemsize, arr1.strides)"
   ]
  },
  {
   "cell_type": "code",
   "execution_count": 6,
   "id": "4b908a37-203e-44b3-b1b7-b9cdb9a7f537",
   "metadata": {},
   "outputs": [
    {
     "name": "stdout",
     "output_type": "stream",
     "text": [
      "42\n",
      "0 () 1 int32 4 <memory at 0x0000026B3B82CA40>\n",
      "1 (6,) 6 int32 4 <memory at 0x0000026B4BC6CDC0>\n",
      "2 (2, 3) 6 int32 4 <memory at 0x0000026B4C114790>\n",
      "2 (4, 3) 12 int32 4 <memory at 0x0000026B4C114790>\n"
     ]
    }
   ],
   "source": [
    "a = np.array(42)\n",
    "b = np.array([2, 5, 6, 9, 7, 12])\n",
    "c = np.array([[2,7, 12], [5, 8, 0]])\n",
    "d = np.array([[2, 5, 6], [9, 7, 12], [5, 8, 7], [11, 31, 0]])\n",
    "print(a)\n",
    "print(a.ndim, a.shape, a.size, a.dtype, a.itemsize, a.data)\n",
    "print(b.ndim, b.shape, b.size, b.dtype, b.itemsize, b.data)\n",
    "print(c.ndim, c.shape, c.size, c.dtype, c.itemsize, c.data)\n",
    "print(d.ndim, d.shape, d.size, d.dtype, d.itemsize, d.data)"
   ]
  },
  {
   "cell_type": "code",
   "execution_count": 7,
   "id": "9a560667-ecc1-44a5-b2d2-926f0e61e228",
   "metadata": {},
   "outputs": [
    {
     "name": "stdout",
     "output_type": "stream",
     "text": [
      "[[ 0  1  2  3  4]\n",
      " [ 5  6  7  8  9]\n",
      " [10 11 12 13 14]]\n"
     ]
    }
   ],
   "source": [
    "# Reshape given array in matrix\n",
    "e = np.arange(15).reshape(3, 5)\n",
    "print(e)"
   ]
  },
  {
   "cell_type": "code",
   "execution_count": 9,
   "id": "a0ac86e7-f1c7-430b-9710-7d761ecb5808",
   "metadata": {},
   "outputs": [
    {
     "name": "stdout",
     "output_type": "stream",
     "text": [
      "[[0. 0. 0. 0. 0.]\n",
      " [0. 0. 0. 0. 0.]\n",
      " [0. 0. 0. 0. 0.]]\n",
      "[[[1. 1. 1. 1. 1.]\n",
      "  [1. 1. 1. 1. 1.]\n",
      "  [1. 1. 1. 1. 1.]\n",
      "  [1. 1. 1. 1. 1.]]\n",
      "\n",
      " [[1. 1. 1. 1. 1.]\n",
      "  [1. 1. 1. 1. 1.]\n",
      "  [1. 1. 1. 1. 1.]\n",
      "  [1. 1. 1. 1. 1.]]]\n"
     ]
    }
   ],
   "source": [
    "Zeros= np.zeros((3, 5))\n",
    "print(Zeros)\n",
    "\n",
    "Ones= np.ones((2, 4, 5))\n",
    "print(Ones)"
   ]
  },
  {
   "cell_type": "code",
   "execution_count": 10,
   "id": "0ef1ba2a-843b-449b-ae26-b710d97f7834",
   "metadata": {},
   "outputs": [
    {
     "name": "stdout",
     "output_type": "stream",
     "text": [
      "[[4.67296746e-307 1.69121096e-306 7.56602523e-307 1.89146896e-307\n",
      "  7.56571288e-307 3.11525958e-307]\n",
      " [1.24610723e-306 1.37962320e-306 1.29060871e-306 2.22518251e-306\n",
      "  1.33511969e-306 1.78022342e-306]\n",
      " [1.05700345e-307 3.11525958e-307 1.69118108e-306 8.06632139e-308\n",
      "  1.20160711e-306 1.69119330e-306]\n",
      " [1.33511018e-306 6.23059726e-307 1.60219035e-306 1.33511969e-306\n",
      "  1.69119330e-306 1.42410974e-306]]\n"
     ]
    }
   ],
   "source": [
    "emp= np.empty((4, 6))\n",
    "print(emp)"
   ]
  },
  {
   "cell_type": "code",
   "execution_count": 11,
   "id": "c4f2ccf4-feb5-47f8-9ab5-2855d56366a1",
   "metadata": {},
   "outputs": [
    {
     "name": "stdout",
     "output_type": "stream",
     "text": [
      "[1.  1.5 2.  2.5 3.  3.5 4.  4.5]\n"
     ]
    }
   ],
   "source": [
    "ran = np.arange(1, 5, 0.5)\n",
    "print(ran)"
   ]
  },
  {
   "cell_type": "code",
   "execution_count": 33,
   "id": "d34d966e-9080-4534-adb5-dd8772c68e9e",
   "metadata": {},
   "outputs": [
    {
     "name": "stdout",
     "output_type": "stream",
     "text": [
      "[0.   0.25 0.5  0.75 1.   1.25 1.5  1.75 2.  ]\n"
     ]
    }
   ],
   "source": [
    "from numpy import pi\n",
    "x = np.linspace(0, 2, 9)\n",
    "print(x)"
   ]
  },
  {
   "cell_type": "code",
   "execution_count": 34,
   "id": "0798ba93-6ef0-4bba-88f5-928cd106eddf",
   "metadata": {},
   "outputs": [
    {
     "name": "stdout",
     "output_type": "stream",
     "text": [
      "[ 0.00000000e+00  6.34239197e-02  1.26592454e-01  1.89251244e-01\n",
      "  2.51147987e-01  3.12033446e-01  3.71662456e-01  4.29794912e-01\n",
      "  4.86196736e-01  5.40640817e-01  5.92907929e-01  6.42787610e-01\n",
      "  6.90079011e-01  7.34591709e-01  7.76146464e-01  8.14575952e-01\n",
      "  8.49725430e-01  8.81453363e-01  9.09631995e-01  9.34147860e-01\n",
      "  9.54902241e-01  9.71811568e-01  9.84807753e-01  9.93838464e-01\n",
      "  9.98867339e-01  9.99874128e-01  9.96854776e-01  9.89821442e-01\n",
      "  9.78802446e-01  9.63842159e-01  9.45000819e-01  9.22354294e-01\n",
      "  8.95993774e-01  8.66025404e-01  8.32569855e-01  7.95761841e-01\n",
      "  7.55749574e-01  7.12694171e-01  6.66769001e-01  6.18158986e-01\n",
      "  5.67059864e-01  5.13677392e-01  4.58226522e-01  4.00930535e-01\n",
      "  3.42020143e-01  2.81732557e-01  2.20310533e-01  1.58001396e-01\n",
      "  9.50560433e-02  3.17279335e-02 -3.17279335e-02 -9.50560433e-02\n",
      " -1.58001396e-01 -2.20310533e-01 -2.81732557e-01 -3.42020143e-01\n",
      " -4.00930535e-01 -4.58226522e-01 -5.13677392e-01 -5.67059864e-01\n",
      " -6.18158986e-01 -6.66769001e-01 -7.12694171e-01 -7.55749574e-01\n",
      " -7.95761841e-01 -8.32569855e-01 -8.66025404e-01 -8.95993774e-01\n",
      " -9.22354294e-01 -9.45000819e-01 -9.63842159e-01 -9.78802446e-01\n",
      " -9.89821442e-01 -9.96854776e-01 -9.99874128e-01 -9.98867339e-01\n",
      " -9.93838464e-01 -9.84807753e-01 -9.71811568e-01 -9.54902241e-01\n",
      " -9.34147860e-01 -9.09631995e-01 -8.81453363e-01 -8.49725430e-01\n",
      " -8.14575952e-01 -7.76146464e-01 -7.34591709e-01 -6.90079011e-01\n",
      " -6.42787610e-01 -5.92907929e-01 -5.40640817e-01 -4.86196736e-01\n",
      " -4.29794912e-01 -3.71662456e-01 -3.12033446e-01 -2.51147987e-01\n",
      " -1.89251244e-01 -1.26592454e-01 -6.34239197e-02 -2.44929360e-16]\n"
     ]
    }
   ],
   "source": [
    "x = np.linspace(0, 2*pi, 100)\n",
    "y = np.sin(x)\n",
    "print(y)"
   ]
  },
  {
   "cell_type": "code",
   "execution_count": 35,
   "id": "90553e22-00dc-4408-b9e8-014f9d74281d",
   "metadata": {},
   "outputs": [
    {
     "name": "stdout",
     "output_type": "stream",
     "text": [
      "[[0 1 2 3 4]\n",
      " [5 6 7 8 9]]\n",
      "\n",
      "[[[ 0  1  2  3]\n",
      "  [ 4  5  6  7]\n",
      "  [ 8  9 10 11]]\n",
      "\n",
      " [[12 13 14 15]\n",
      "  [16 17 18 19]\n",
      "  [20 21 22 23]]]\n"
     ]
    }
   ],
   "source": [
    "# Reshape given array in matrix\n",
    "b = np.arange(10).reshape(2, 5)\n",
    "print(b)\n",
    "print()\n",
    "c = np.arange(24).reshape(2, 3, 4)\n",
    "print(c)"
   ]
  },
  {
   "cell_type": "code",
   "execution_count": 37,
   "id": "c18ccc2c-8b12-4ca0-9cfe-0a4b1e284bbc",
   "metadata": {},
   "outputs": [
    {
     "name": "stdout",
     "output_type": "stream",
     "text": [
      "[[0 1 2 3 4]\n",
      " [5 6 7 8 9]]\n"
     ]
    }
   ],
   "source": [
    "# b = np.arange(10).reshape(2, 4) # It will show error\n",
    "print(b)"
   ]
  },
  {
   "cell_type": "code",
   "execution_count": 38,
   "id": "70e3808d-67d5-4fd4-b6a8-2bc825078a39",
   "metadata": {},
   "outputs": [
    {
     "name": "stdout",
     "output_type": "stream",
     "text": [
      "[2 4 4 6 3 7]\n",
      "[ 0  1  4  9 16 25]\n",
      "[ 0.90929743 -0.95892427 -0.2794155   0.41211849  0.6569866  -0.53657292]\n"
     ]
    }
   ],
   "source": [
    "a = np.array([2, 5, 6, 9, 7, 12])\n",
    "b = np.arange(6)\n",
    "print(a-b)\n",
    "print(b**2)\n",
    "print(np.sin(a))"
   ]
  },
  {
   "cell_type": "code",
   "execution_count": 40,
   "id": "c823fc2a-62d1-45e2-b45f-8523a0603229",
   "metadata": {},
   "outputs": [
    {
     "name": "stdout",
     "output_type": "stream",
     "text": [
      "[[23 41]\n",
      " [53 96]]\n",
      "[[23 41]\n",
      " [53 96]]\n"
     ]
    }
   ],
   "source": [
    "x = np.array([[3, 4], [8, 9]])\n",
    "y = np.array([[1, 3], [5, 8]])\n",
    "\n",
    "print(x.dot(y))\n",
    "print(x @ y)\n"
   ]
  },
  {
   "cell_type": "code",
   "execution_count": null,
   "id": "b8e3f55e-0a7e-4019-b92e-9a7a1c88ef9f",
   "metadata": {},
   "outputs": [],
   "source": []
  }
 ],
 "metadata": {
  "kernelspec": {
   "display_name": "Python 3 (ipykernel)",
   "language": "python",
   "name": "python3"
  },
  "language_info": {
   "codemirror_mode": {
    "name": "ipython",
    "version": 3
   },
   "file_extension": ".py",
   "mimetype": "text/x-python",
   "name": "python",
   "nbconvert_exporter": "python",
   "pygments_lexer": "ipython3",
   "version": "3.11.4"
  }
 },
 "nbformat": 4,
 "nbformat_minor": 5
}
