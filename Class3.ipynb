{
 "cells": [
  {
   "cell_type": "code",
   "execution_count": 1,
   "id": "e5c94f7b-9de0-4cb8-8ecb-97511020f8f9",
   "metadata": {},
   "outputs": [
    {
     "name": "stdout",
     "output_type": "stream",
     "text": [
      "140729860350888\n",
      "140729860351048\n",
      "140729860351208\n"
     ]
    }
   ],
   "source": [
    "# Are integers Mutable or immutable\n",
    "a=5\n",
    "print(id(a))\n",
    "a=10\n",
    "print(id(a))\n",
    "b=15\n",
    "print(id(b))"
   ]
  },
  {
   "cell_type": "code",
   "execution_count": 8,
   "id": "f7f2fd4d-7592-47dc-a200-da061a6037c4",
   "metadata": {},
   "outputs": [
    {
     "name": "stdout",
     "output_type": "stream",
     "text": [
      "I am Lokendra M.tech student\n",
      "----------------------------------------------------------------------\n",
      "True\n",
      "False\n"
     ]
    }
   ],
   "source": [
    "# Other properties of strings\n",
    "#String is an object\n",
    "str1='I am Lokendra'\n",
    "str2=' M.tech student'\n",
    "# Strings can be concatenated\n",
    "str3=str1+ str2\n",
    "print(str3)\n",
    "print(\"-\"*70)\n",
    "\n",
    "# containment cheak in str\n",
    "print('el'in'Hello') # el is in spelling of hello\n",
    "print('Hello'in'Sir')"
   ]
  },
  {
   "cell_type": "code",
   "execution_count": 7,
   "id": "3b334fcf-c138-426c-9c19-34aec965145c",
   "metadata": {},
   "outputs": [
    {
     "name": "stdout",
     "output_type": "stream",
     "text": [
      "\"Hello\" is present in the main string.\n",
      "\"Python\" is not present in the main string.\n"
     ]
    }
   ],
   "source": [
    "# Containment checking using 'in' for strings\n",
    "main_str = \"Hello, World!\"\n",
    "\n",
    "# Check if a substring is present in the main string\n",
    "substring1 = \"Hello\"\n",
    "substring2 = \"Python\"\n",
    "\n",
    "# Example 1\n",
    "if substring1 in main_str:\n",
    "    print(f'\"{substring1}\" is present in the main string.')\n",
    "else:\n",
    "    print(f'\"{substring1}\" is not present in the main string.')\n",
    "\n",
    "# Example 2\n",
    "if substring2 in main_str:\n",
    "    print(f'\"{substring2}\" is present in the main string.')\n",
    "else:\n",
    "    print(f'\"{substring2}\" is not present in the main string.')\n"
   ]
  },
  {
   "cell_type": "code",
   "execution_count": 10,
   "id": "046d1061-08cc-438b-8c7b-d42b74e08421",
   "metadata": {},
   "outputs": [
    {
     "name": "stdout",
     "output_type": "stream",
     "text": [
      "True\n",
      "False\n",
      "True\n",
      "False\n",
      "False\n",
      "Lokendra\n",
      "lOKENDRA\n"
     ]
    }
   ],
   "source": [
    "# String operations\n",
    "str=\"Lokendra\"\n",
    "print(str.isalpha( ))\n",
    "print(str.isdigit( ))\n",
    "print(str.isalnum( ))\n",
    "print(str.islower( ))\n",
    "print(str.isupper( ))\n",
    "print(str.capitalize( ))\n",
    "print(str.swapcase( ))"
   ]
  },
  {
   "cell_type": "code",
   "execution_count": 23,
   "id": "3853ced1-88f1-4b18-9504-6607541db94c",
   "metadata": {},
   "outputs": [
    {
     "name": "stdout",
     "output_type": "stream",
     "text": [
      "7\n",
      "Lokendrba\n",
      "Lokendrbb\n",
      "Lokendraa\n",
      "['Lokendraa']\n",
      "['Lokendraa']\n",
      "('Lokendraa', '', '')\n",
      "('Lokendraa', '', '')\n"
     ]
    }
   ],
   "source": [
    "# Search and find functions\n",
    "str=\"Lokendraa\"\n",
    "print(str.find('a'))\n",
    "print(str.replace('a','b',1))\n",
    "print(str.replace('a','b',2))\n",
    "print(str)\n",
    "print(str.split()) \n",
    "print(str.split(',')) \n",
    "# partition\n",
    "print(str.partition('_'))\n",
    "print(str.partition(','))"
   ]
  },
  {
   "cell_type": "code",
   "execution_count": 24,
   "id": "0e605f72-5df4-4543-a569-3bc50b603c73",
   "metadata": {},
   "outputs": [
    {
     "name": "stdout",
     "output_type": "stream",
     "text": [
      "['This', 'is', 'a', 'sample', 'sentence.']\n",
      "('This is a ', 'sample', ' sentence.')\n"
     ]
    }
   ],
   "source": [
    "# difference between split( ) and partition( )\n",
    "sentence = \"This is a sample sentence.\"\n",
    "words = sentence.split()  # Splits the sentence into words using the default space delimiter\n",
    "print(words)\n",
    "parts = sentence.partition('sample') # In this example, the string is split into 3 parts\n",
    "print(parts)"
   ]
  },
  {
   "cell_type": "code",
   "execution_count": 28,
   "id": "e39a282a-1ae9-4789-9416-9abfaf1ea9bb",
   "metadata": {},
   "outputs": [
    {
     "name": "stdin",
     "output_type": "stream",
     "text": [
      "Enter value of a:  45\n",
      "Enter value of b:  12\n"
     ]
    },
    {
     "name": "stdout",
     "output_type": "stream",
     "text": [
      "Typer of a: <class 'str'>\n",
      "Typer of b: <class 'str'>\n",
      "4512\n",
      "Typer of c: <class 'str'>\n"
     ]
    }
   ],
   "source": [
    "# Console input and output\n",
    "a = input(\"Enter value of a: \")\n",
    "b = input(\"Enter value of b: \")\n",
    "# Print the user input\n",
    "print(\"Typer of a:\", type(a))\n",
    "print(\"Typer of b:\", type(b))\n",
    "c=a+b\n",
    "print(c)\n",
    "print(\"Typer of c:\", type(c))"
   ]
  },
  {
   "cell_type": "code",
   "execution_count": 34,
   "id": "4343540d-ed74-4f8f-aa12-5374a9797ca8",
   "metadata": {},
   "outputs": [
    {
     "name": "stdin",
     "output_type": "stream",
     "text": [
      "Enter values of a,b:  41 +2\n"
     ]
    },
    {
     "name": "stdout",
     "output_type": "stream",
     "text": [
      "43\n",
      "Typer of c: <class 'int'>\n"
     ]
    }
   ],
   "source": [
    "# Use data type\n",
    "a,b = input(\"Enter values of a,b: \").split()\n",
    "c=int(a)+int(b)\n",
    "print(c)\n",
    "print(\"Typer of c:\", type(c))"
   ]
  },
  {
   "cell_type": "code",
   "execution_count": 41,
   "id": "2ef69da2-adeb-4758-8eaf-2061ef37b8f7",
   "metadata": {},
   "outputs": [
    {
     "name": "stdin",
     "output_type": "stream",
     "text": [
      "Enter the value for name, salary, age:  Lokendra 45151 12\n"
     ]
    },
    {
     "name": "stdout",
     "output_type": "stream",
     "text": [
      "name, salary, age: Lokendra 45151.0 12\n"
     ]
    }
   ],
   "source": [
    "# use type conversion functions such as int( ), float( ) etc\n",
    "n, s, a = input(\"Enter the value for name, salary, age: \").split()\n",
    "a = int(a)\n",
    "s = float(s)\n",
    "print(\"name, salary, age:\", n, s, a)"
   ]
  },
  {
   "cell_type": "code",
   "execution_count": 43,
   "id": "d5e20c66-b8cc-4150-a6e9-eff63b3c01a8",
   "metadata": {},
   "outputs": [
    {
     "name": "stdout",
     "output_type": "stream",
     "text": [
      "Hello, my name is Lokendra, I am 23 years old, and my height is 5.9 feet.\n",
      "Hello, my name is Lokendra, I am 23 years old, and my height is 5.9 feet.\n"
     ]
    }
   ],
   "source": [
    "# Output statement Formatted print\n",
    "name = \"Lokendra\"\n",
    "age = 23\n",
    "height = 5.9\n",
    "# Using formatted string literals\n",
    "print(f\"Hello, my name is {name}, I am {age} years old, and my height is {height} feet.\")\n",
    "# Using the format() method\n",
    "output_string = \"Hello, my name is {}, I am {} years old, and my height is {} feet.\".format(name, age, height)\n",
    "print(output_string)"
   ]
  },
  {
   "cell_type": "code",
   "execution_count": null,
   "id": "42f509c0-6c7b-4468-8a2b-4229391feae8",
   "metadata": {},
   "outputs": [],
   "source": []
  }
 ],
 "metadata": {
  "kernelspec": {
   "display_name": "Python 3 (ipykernel)",
   "language": "python",
   "name": "python3"
  },
  "language_info": {
   "codemirror_mode": {
    "name": "ipython",
    "version": 3
   },
   "file_extension": ".py",
   "mimetype": "text/x-python",
   "name": "python",
   "nbconvert_exporter": "python",
   "pygments_lexer": "ipython3",
   "version": "3.11.4"
  }
 },
 "nbformat": 4,
 "nbformat_minor": 5
}
