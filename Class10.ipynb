{
 "cells": [
  {
   "cell_type": "code",
   "execution_count": 1,
   "id": "10b472ac-45db-4f03-80ab-542738983049",
   "metadata": {},
   "outputs": [
    {
     "name": "stdout",
     "output_type": "stream",
     "text": [
      "{'Anand': {'DOB': '20/11/2001', 'Roll': 'ED1234'}, 'Ramesh': {'DOB': '19/11/2001', 'Roll': 'ED1235'}, 'Kamesh': {'DOB': '21/11/2001', 'Roll': 'ED1236'}}\n",
      "20/11/2001\n",
      "ED1235\n",
      "{'DOB': '20/11/2001', 'Roll': 'ED1234'}\n"
     ]
    }
   ],
   "source": [
    "# Nested Dictionary\n",
    "nested_dict = {'Anand' : {'DOB' : '20/11/2001', 'Roll' : 'ED1234' },\n",
    "'Ramesh' : {'DOB' : '19/11/2001', 'Roll' : 'ED1235' },\n",
    "'Kamesh' : {'DOB' : '21/11/2001', 'Roll' : 'ED1236' }}\n",
    "\n",
    "print(nested_dict)\n",
    "('\\n')\n",
    "# Accessing values in the nested dictionary\n",
    "print(nested_dict['Anand']['DOB'])  \n",
    "print(nested_dict['Ramesh']['Roll'])  \n",
    "print(nested_dict['Anand'])  \n"
   ]
  },
  {
   "cell_type": "code",
   "execution_count": 3,
   "id": "98260e19-3e24-45ea-addf-90e7f4f8f35d",
   "metadata": {},
   "outputs": [
    {
     "name": "stdout",
     "output_type": "stream",
     "text": [
      "{'aman': 13, 'bihari': 32, 'c': 23, 'd': 14}\n"
     ]
    }
   ],
   "source": [
    "# Dictionary Unpacking\n",
    "dct1 = {'aman': 13, 'bihari': 32}\n",
    "dct2 = {'c': 23, 'd': 14}\n",
    "\n",
    "combined_dict = {**dct1, **dct2}\n",
    "print(combined_dict)"
   ]
  },
  {
   "cell_type": "code",
   "execution_count": 8,
   "id": "14731bb8-e14b-470f-8e8a-343e01aebecb",
   "metadata": {},
   "outputs": [
    {
     "name": "stdout",
     "output_type": "stream",
     "text": [
      "{1: 1, 2: 4, 3: 9, 4: 16, 5: 25}\n"
     ]
    }
   ],
   "source": [
    "# Dictionary Comprehension\n",
    "# same as list comprehension except use curly brackets and key:value pairs\n",
    "sq_dict = {n: n**2 for n in range(1, 6)}\n",
    "print(sq_dict)\n"
   ]
  },
  {
   "cell_type": "code",
   "execution_count": 11,
   "id": "c1d772cc-9f2b-4990-8e08-fc37fe0c6d9e",
   "metadata": {},
   "outputs": [
    {
     "name": "stdout",
     "output_type": "stream",
     "text": [
      "15\n"
     ]
    }
   ],
   "source": [
    "# Functions\n",
    "def cal_sum(x, y):\n",
    "    s = x + y\n",
    "    return s\n",
    "\n",
    "a= 5\n",
    "b= 10\n",
    "result_sum = cal_sum(a, b)\n",
    "print(result_sum)\n"
   ]
  },
  {
   "cell_type": "code",
   "execution_count": 3,
   "id": "4d451b9b-8578-46e2-afba-4a1e5f145386",
   "metadata": {},
   "outputs": [
    {
     "name": "stdout",
     "output_type": "stream",
     "text": [
      "Hello, Singh Ram\n",
      "Hello, Ram Singh\n",
      "Hello, Ram Singh\n"
     ]
    }
   ],
   "source": [
    "# Keyword Arguments:\n",
    "def name(first_name, last_name):\n",
    "    return f\"Hello, {first_name} {last_name}\"\n",
    "\n",
    "greeting = name(\"Singh\",\"Ram\")\n",
    "greeting2 = name(\"Ram\",\"Singh\")\n",
    "greeting1 = name(last_name=\"Singh\", first_name=\"Ram\")\n",
    "print(greeting)\n",
    "print(greeting1) \n",
    "print(greeting2) \n"
   ]
  },
  {
   "cell_type": "code",
   "execution_count": 15,
   "id": "b87370b6-3939-482e-b383-ab60a4ae8f1e",
   "metadata": {},
   "outputs": [
    {
     "name": "stdout",
     "output_type": "stream",
     "text": [
      "Alice is 25 years old and lives in Wonderland.\n"
     ]
    }
   ],
   "source": [
    "# Using Both Positional and Keyword Arguments:\n",
    "\n",
    "def describe_person(name, age, city):\n",
    "    return f\"{name} is {age} years old and lives in {city}.\"\n",
    "\n",
    "person_info = describe_person(\"Alice\", city=\"Wonderland\", age=25)\n",
    "print(person_info)"
   ]
  },
  {
   "cell_type": "code",
   "execution_count": null,
   "id": "2e041689-1208-4eed-aa01-7605ffd34d69",
   "metadata": {},
   "outputs": [],
   "source": []
  }
 ],
 "metadata": {
  "kernelspec": {
   "display_name": "Python 3 (ipykernel)",
   "language": "python",
   "name": "python3"
  },
  "language_info": {
   "codemirror_mode": {
    "name": "ipython",
    "version": 3
   },
   "file_extension": ".py",
   "mimetype": "text/x-python",
   "name": "python",
   "nbconvert_exporter": "python",
   "pygments_lexer": "ipython3",
   "version": "3.11.4"
  }
 },
 "nbformat": 4,
 "nbformat_minor": 5
}
