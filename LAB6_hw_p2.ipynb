{
 "cells": [
  {
   "cell_type": "markdown",
   "id": "c2001bb5-b7d0-41e3-adc8-bbd53bfa78ab",
   "metadata": {},
   "source": [
    "# INHERITANCE & FILES - PART B"
   ]
  },
  {
   "cell_type": "markdown",
   "id": "2acabfd0-33d3-4369-8a2c-67c613fb85b5",
   "metadata": {},
   "source": [
    "## Q.6.    Create a base class Vehicle with the following attributes:\n",
    "\n",
    "         make (string)\n",
    "\n",
    "         model (string)\n",
    "\n",
    "         year (int)\n",
    "\n",
    "       Create a method initialize_vehicle to set the above attributes. Also, create a method display_vehicle to print these attributes.\n",
    "\n",
    "       Create a class Car inherited from Vehicle with the following additional attribute:\n",
    "\n",
    "         fuel_type (string)\n",
    "\n",
    "       Create a method get_car_details to initialize the above attribute along with Vehicle attributes.\n",
    "\n",
    "       Also, create a method display_vehicle to print these attributes along with Vehicle attributes.\n",
    "\n",
    "       Create a class Bike inherited from Vehicle with the following additional attribute:\n",
    "\n",
    "           gear_count (int)\n",
    "\n",
    "      Create a method get_bike_details to initialize the above attribute along with Vehicle attributes.\n",
    "\n",
    "      Also, create a method display_vehicle to print these attributes along with Vehicle attributes.\n",
    "\n",
    "      Create two different objects for Car and Bike and demonstrate each of the methods.\n",
    "\n",
    "     Example -1:\n",
    "\n",
    "         my_car = Car()\n",
    "\n",
    "        my_car.get_car_details(\"Toyota\", \"Camry\", 2020, \"Petrol\")\n",
    "\n",
    "        my_car.display_vehicle()\n",
    "\n",
    "        Output:\n",
    "\n",
    "           Make: Toyota, Model: Camry, Year: 2020\n",
    "\n",
    "           Fuel Type: Petrol\n",
    "\n",
    "          Example -2 :\n",
    "\n",
    "           my_bike = Bike()\n",
    "\n",
    "           my_bike.get_bike_details(\"Yamaha\", \"YZF R1\", 2021, 6)\n",
    "\n",
    "           my_bike.display_vehicle()\n",
    "\n",
    "          Output:\n",
    "\n",
    "             Make: Yamaha, Model: YZF R1, Year: 2021\n",
    "\n",
    "             Gear Count: 6"
   ]
  },
  {
   "cell_type": "code",
   "execution_count": 1,
   "id": "b4b402e5-c030-4fe2-9ce7-bffe502d1d8a",
   "metadata": {},
   "outputs": [
    {
     "name": "stdout",
     "output_type": "stream",
     "text": [
      "Car Details: Make: Toyota , Model: Camry , Year: 2020\n",
      "Fuel Type:  Petrol\n",
      "\n",
      "Car Details: Make: Yamaha , Model: YZF R1 , Year: 2021\n",
      "Gear Count:  6\n"
     ]
    }
   ],
   "source": [
    "class Vehicle:\n",
    "    def __init__(self, make= '', model= '', year= 0):\n",
    "        self.make = make\n",
    "        self.model = model\n",
    "        self.year = year\n",
    "        \n",
    "    def initialize_vehicle(self, make, model, year):\n",
    "        self.make = make\n",
    "        self.model = model\n",
    "        self.year = year\n",
    "        \n",
    "    def printout(self):\n",
    "        print('Car Details: Make:', self.make, ', Model:', self.model, ', Year:', self.year)\n",
    "\n",
    "\n",
    "class Car(Vehicle):\n",
    "    def __init__(self, make1= '', model1= '', year1= 0, fuel_type=''):\n",
    "        # Calling the base class constructor\n",
    "        super().__init__(make1, model1, year1)\n",
    "        self.fuel_type = fuel_type\n",
    "    \n",
    "    def get_car_details(self, make1, model1, year1, fuel_type):\n",
    "        super().__init__(make1, model1, year1)\n",
    "        self.fuel_type = fuel_type\n",
    "        \n",
    "    def display_vehicle(self):\n",
    "        # Call the base class printout method\n",
    "        super().printout()\n",
    "        print('Fuel Type: ', self.fuel_type)\n",
    "\n",
    "class Bike(Vehicle):\n",
    "    def __init__(self, make1= '', model1= '', year1= 0, gear_count= 0):\n",
    "        # Calling the base class constructor\n",
    "        super().__init__(make1, model1, year1)\n",
    "        self.gear_count = gear_count\n",
    "    \n",
    "    def get_bike_details(self, make1, model1, year1, gear_count):\n",
    "        super().__init__(make1, model1, year1)\n",
    "        self.gear_count = gear_count\n",
    "        \n",
    "    def display_vehicle(self):\n",
    "        # Call the base class printout method\n",
    "        super().printout()\n",
    "        print('Gear Count: ', self.gear_count)\n",
    "\n",
    "my_car = Car()\n",
    "my_car.get_car_details(\"Toyota\", \"Camry\", 2020, \"Petrol\")\n",
    "my_car.display_vehicle()\n",
    "print()\n",
    "\n",
    "my_bike = Bike()\n",
    "my_bike.get_bike_details(\"Yamaha\", \"YZF R1\", 2021, 6)\n",
    "my_bike.display_vehicle()"
   ]
  },
  {
   "cell_type": "markdown",
   "id": "0f323d1c-b985-4295-b9e5-b12f5cea477a",
   "metadata": {},
   "source": [
    "## Q.7. Suppose you are building a Python program to manage a school's student data. You need to create a Student class that contains information such as the student's name, age, grade, and class schedule. Additionally, there are some attributes that are shared by all students, such as the school name, the total number of students, and the number of classes offered.\n",
    "\n",
    "How can you use class variables in Python to define these shared attributes of the Student class? What are the advantages of using class variables in this scenario? Can you provide an example program that demonstrates the use of class variables in the Student class? \r\n",
    "\r\n"
   ]
  },
  {
   "cell_type": "markdown",
   "id": "d7721f8f-461b-406f-a618-7fe21cbc5e88",
   "metadata": {},
   "source": [
    "### Ans: \n",
    "To use class variables in Python to define shared attributes of the Student class, you can simply declare these variables within the class definition but outside of any methods. These variables will be accessible to all instances of the class."
   ]
  },
  {
   "cell_type": "code",
   "execution_count": 2,
   "id": "87936174-cc72-424e-8326-40d2f3c71992",
   "metadata": {},
   "outputs": [
    {
     "name": "stdout",
     "output_type": "stream",
     "text": [
      "Student Details: Student name: Pravesh , Age: 19 , Grade: 9.01 ,\n",
      " Class schedule: Evening , School name: SVM HS School , Total number of students: 452 , Number of classes: 12\n",
      "Student Details: Student name: John , Age: 18 , Grade: 8.5 ,\n",
      " Class schedule: Morning , School name: SVM HS School , Total number of students: 452 , Number of classes: 12\n"
     ]
    }
   ],
   "source": [
    "class Student:\n",
    "    # Class variables shared by all instances\n",
    "    school_name = 'SVM HS School'\n",
    "    total_students = 450\n",
    "    total_classes = 10\n",
    "\n",
    "    def __init__(self, st_name='', age=0, grade=0.0, class_schedule=''):\n",
    "        # Instance variables specific to each student\n",
    "        self.st_name = st_name\n",
    "        self.age = age\n",
    "        self.grade = grade\n",
    "        self.class_schedule = class_schedule\n",
    "\n",
    "        # Update class variables for each instance\n",
    "        Student.total_students += 1\n",
    "        Student.total_classes += 1\n",
    "\n",
    "    def printout(self):\n",
    "        print('Student Details: Student name:', self.st_name, ', Age:', self.age, ', Grade:', self.grade, ',\\n', 'Class schedule:', self.class_schedule, ', School name:', self.school_name, ', Total number of students:', self.total_students, ', Number of classes:', self.total_classes)\n",
    "\n",
    "# Create instances of the Student class\n",
    "st1 = Student('Pravesh', 19, 9.01, 'Evening')\n",
    "st2 = Student('John', 18, 8.5, 'Morning')\n",
    "\n",
    "st1.printout()\n",
    "st2.printout()"
   ]
  },
  {
   "cell_type": "markdown",
   "id": "a3c33dec-eb09-4097-bc94-f7e00a1950c5",
   "metadata": {},
   "source": [
    "## Q.8. Class Inheritance in Python: Finding GCD (greatest common divisor) and LCM (least common multiple) of Numbers and Handling Composite Numbers.\n",
    "\n",
    "a) Create a Numbers class with a, b, find_gcd(), and find_lcm() methods.\n",
    "\n",
    "b) Create an EvenNumbers class that inherits from Numbers and overrides find_lcm() to handle even numbers.\n",
    "\n",
    "c) Create an OddNumbers class that inherits from Numbers and overrides find_lcm() to handle odd numbers.\n",
    "\n",
    "d) Create a CompositeNumbers class that inherits from EvenNumbers and OddNumbers and overrides find_gcd() to handle composite numbers.\n",
    "\n",
    "e) Create a CompositeNumbers object with a = 12 and b = 9, and call its find_lcm() and find_gcd() methods.\n",
    "\n"
   ]
  },
  {
   "cell_type": "code",
   "execution_count": 3,
   "id": "04eab94b-8dc6-48c3-8e02-04ee4d6344f3",
   "metadata": {},
   "outputs": [
    {
     "name": "stdout",
     "output_type": "stream",
     "text": [
      "LCM of 24 and 36 in Class EvenNumbers: 72\n",
      "LCM of 17 and 51 in Class OddNumbers: 51\n",
      "LCM and GCD of 12 and 9 in CompositeNumbers: 36, 3\n"
     ]
    }
   ],
   "source": [
    "# Base class\n",
    "class Numbers:\n",
    "    def __init__(self, a=0, b=0):\n",
    "        self.a = a\n",
    "        self.b = b\n",
    "\n",
    "    def find_gcd(self, a, b):\n",
    "        while b:\n",
    "            a, b = b, a % b\n",
    "        return a\n",
    "        \n",
    "    def find_lcm(self, a, b):\n",
    "        gcd = self.find_gcd(a, b)\n",
    "        lcm = (a*b)//gcd\n",
    "        return lcm  \n",
    "\n",
    "\n",
    "# First derived class\n",
    "class EvenNumbers(Numbers):\n",
    "\n",
    "    def calculate_lcm(self, x, y):\n",
    "        if x % 2 == 0 and y % 2 == 0:\n",
    "            result = self.find_lcm(x, y)\n",
    "            print(f\"LCM of {x} and {y} in Class EvenNumbers: {result}\")\n",
    "        else:\n",
    "            return None\n",
    "\n",
    "# Second derived class\n",
    "class OddNumbers(Numbers):\n",
    "\n",
    "    def calculate_lcm(self, x, y):\n",
    "        if x % 2 != 0 and y % 2 != 0:\n",
    "            result = self.find_lcm(x, y)\n",
    "            print(f\"LCM of {x} and {y} in Class OddNumbers: {result}\")\n",
    "        else:\n",
    "            return None\n",
    "\n",
    "# Third derived class inheriting from EvenNumbers and OddNumbers\n",
    "class CompositeNumbers(EvenNumbers, OddNumbers):\n",
    "\n",
    "    # Inheriting and overriding the calculate_lcm method\n",
    "    def calculate_lcm_gcd(self, x, y):\n",
    "        r = self.find_lcm(x, y)\n",
    "        g = self.find_gcd(x, y)\n",
    "        print(f\"LCM and GCD of {x} and {y} in CompositeNumbers: {r}, {g}\")\n",
    "\n",
    "\n",
    "# Creating instances and demonstrating the inheritance\n",
    "obj_a = EvenNumbers()\n",
    "obj_a.calculate_lcm(24, 36)\n",
    "\n",
    "obj_b = OddNumbers()\n",
    "obj_b.calculate_lcm(17, 51)\n",
    "\n",
    "obj_c = CompositeNumbers()\n",
    "obj_c.calculate_lcm_gcd(12, 9)\n"
   ]
  },
  {
   "cell_type": "markdown",
   "id": "21248c52-8611-442c-8a36-56f95424a41c",
   "metadata": {},
   "source": [
    "## Q.9. WAP to manage the collections of books in a library in the following  manner:\n",
    "\n",
    " Create a Python script that can both read from and write to a CSV file, containing details about each book. Each book's information will include its title, author, publication year, and ISBN number. Your script should be capable of adding new books to the CSV file and listing all the books currently stored in the file."
   ]
  },
  {
   "cell_type": "code",
   "execution_count": 4,
   "id": "9e5e8487-ac73-4bd4-ab55-eea29a902936",
   "metadata": {},
   "outputs": [
    {
     "name": "stdout",
     "output_type": "stream",
     "text": [
      "\n",
      "Options:\n",
      "1. Add a new book\n",
      "2. Display all books\n",
      "3. Quit\n"
     ]
    },
    {
     "name": "stdin",
     "output_type": "stream",
     "text": [
      "Enter your choice (1/2/3):  2\n"
     ]
    },
    {
     "name": "stdout",
     "output_type": "stream",
     "text": [
      "Title: The Great Gatsby\n",
      "Author: F. Scott Fitzgerald\n",
      "Publication Year: 1925\n",
      "ISBN: 978-3-16-148410-0\n",
      "----------------------\n",
      "Title: To Kill a Mockingbird\n",
      "Author: Harper Lee\n",
      "Publication Year: 1960\n",
      "ISBN: 978-0-06-112008-4\n",
      "----------------------\n",
      "Title: The Catcher in the Rye\n",
      "Author: J.D. Salinger\n",
      "Publication Year: 1951\n",
      "ISBN: 978-0-316-76948-0\n",
      "----------------------\n",
      "\n",
      "Options:\n",
      "1. Add a new book\n",
      "2. Display all books\n",
      "3. Quit\n"
     ]
    },
    {
     "name": "stdin",
     "output_type": "stream",
     "text": [
      "Enter your choice (1/2/3):  3\n"
     ]
    },
    {
     "name": "stdout",
     "output_type": "stream",
     "text": [
      "Exiting the program.\n"
     ]
    }
   ],
   "source": [
    "import csv\n",
    "import os\n",
    "\n",
    "# Function to check if the CSV file exists and create it if not\n",
    "def initialize_csv(filename, headers):\n",
    "    if not os.path.exists(filename):\n",
    "        with open(filename, 'w', newline='') as file:\n",
    "            writer = csv.writer(file)\n",
    "            writer.writerow(headers)\n",
    "\n",
    "# Function to add a new book to the CSV file\n",
    "def add_book(filename):\n",
    "    title = input(\"Enter the title of the book: \")\n",
    "    author = input(\"Enter the author of the book: \")\n",
    "    year = input(\"Enter the publication year of the book: \")\n",
    "    isbn = input(\"Enter the ISBN number of the book: \")\n",
    "\n",
    "    with open(filename, 'a', newline='') as file:\n",
    "        writer = csv.writer(file)\n",
    "        writer.writerow([title, author, year, isbn])\n",
    "    print(\"Book added successfully!\")\n",
    "\n",
    "# Function to display all books from the CSV file\n",
    "def display_books(filename):\n",
    "    with open(filename, 'r') as file:\n",
    "        reader = csv.reader(file)\n",
    "        headers = next(reader)  # Skip the header row\n",
    "        for row in reader:\n",
    "            print(\"Title:\", row[0])\n",
    "            print(\"Author:\", row[1])\n",
    "            print(\"Publication Year:\", row[2])\n",
    "            print(\"ISBN:\", row[3])\n",
    "            print(\"----------------------\")\n",
    "\n",
    "# Main function\n",
    "def main():\n",
    "    csv_filename = \"library.csv\"\n",
    "    csv_headers = [\"Title\", \"Author\", \"Publication Year\", \"ISBN\"]\n",
    "\n",
    "    initialize_csv(csv_filename, csv_headers)\n",
    "\n",
    "    while True:\n",
    "        print(\"\\nOptions:\")\n",
    "        print(\"1. Add a new book\")\n",
    "        print(\"2. Display all books\")\n",
    "        print(\"3. Quit\")\n",
    "\n",
    "        choice = input(\"Enter your choice (1/2/3): \")\n",
    "\n",
    "        if choice == '1':\n",
    "            add_book(csv_filename)\n",
    "        elif choice == '2':\n",
    "            display_books(csv_filename)\n",
    "        elif choice == '3':\n",
    "            print(\"Exiting the program.\")\n",
    "            break\n",
    "        else:\n",
    "            print(\"Invalid choice. Please enter 1, 2, or 3.\")\n",
    "\n",
    "if __name__ == \"__main__\":\n",
    "    main()\n"
   ]
  },
  {
   "cell_type": "code",
   "execution_count": 103,
   "id": "8da594af-0aeb-426c-9be3-8988684605b1",
   "metadata": {},
   "outputs": [
    {
     "name": "stdout",
     "output_type": "stream",
     "text": [
      "Sorted DataFrame:\n",
      "      first     last                   email\n",
      "3      Adam      Doe      Adam8489@gmail.com\n",
      "1      Jane      Doe        Jane67@gmail.com\n",
      "2      John  the_don      John1587@gmail.com\n",
      "0  Lokendra    Kumar  lokendrad567@gmail.com\n",
      "\n",
      "Sorted data has been saved to 'sorted_people.csv'.\n"
     ]
    }
   ],
   "source": [
    "import pandas as pd\n",
    "\n",
    "# Dictionary with data\n",
    "people = {\n",
    "    \"first\": [\"Lokendra\", 'Jane', 'John', 'Adam'],\n",
    "    \"last\": [\"Kumar\", 'Doe', 'the_don', 'Doe'],\n",
    "    \"email\": [\"lokendrad567@gmail.com\", 'Jane67@gmail.com', 'John1587@gmail.com', 'Adam8489@gmail.com']\n",
    "}\n",
    "\n",
    "# Creating a data frame from the dictionary\n",
    "df = pd.DataFrame(people)\n",
    "\n",
    "# Sorting the DataFrame by the 'first' column in ascending order\n",
    "df_sorted = df.sort_values(by='first')\n",
    "\n",
    "# Displaying the sorted DataFrame\n",
    "print(\"Sorted DataFrame:\")\n",
    "print(df_sorted)\n",
    "\n",
    "# Writing the sorted data to a new file (e.g., CSV)\n",
    "output_file_path = 'sorted_people.csv'\n",
    "df_sorted.to_csv(output_file_path, index=False)\n",
    "\n",
    "print(f\"\\nSorted data has been saved to '{output_file_path}'.\")\n"
   ]
  },
  {
   "cell_type": "code",
   "execution_count": null,
   "id": "cca2a41f-5a28-4440-bd03-93ffd99b6efb",
   "metadata": {},
   "outputs": [],
   "source": []
  }
 ],
 "metadata": {
  "kernelspec": {
   "display_name": "Python 3 (ipykernel)",
   "language": "python",
   "name": "python3"
  },
  "language_info": {
   "codemirror_mode": {
    "name": "ipython",
    "version": 3
   },
   "file_extension": ".py",
   "mimetype": "text/x-python",
   "name": "python",
   "nbconvert_exporter": "python",
   "pygments_lexer": "ipython3",
   "version": "3.11.4"
  }
 },
 "nbformat": 4,
 "nbformat_minor": 5
}
