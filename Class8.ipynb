{
 "cells": [
  {
   "cell_type": "code",
   "execution_count": 1,
   "id": "b3eed8d2-222f-478d-94a9-05c8d561d095",
   "metadata": {},
   "outputs": [
    {
     "name": "stdout",
     "output_type": "stream",
     "text": [
      "((1, 2, 3, 5, 7), (5, 3, 8))\n",
      "(7, 8, 1, 2, 3, 5, 7, 4)\n"
     ]
    }
   ],
   "source": [
    "# tuple_of_tuples\n",
    "tup1=(1, 2, 3, 5, 7)\n",
    "tup2=(5, 3, 8)\n",
    "tuple_of_tuples = (tup1, tup2)\n",
    "print(tuple_of_tuples)\n",
    "\n",
    "# Tuple unpacking\n",
    "tup1=(1, 2, 3, 5, 7)\n",
    "tup2=(7, 8, *tup1,4)\n",
    "print(tup2)"
   ]
  },
  {
   "cell_type": "code",
   "execution_count": 6,
   "id": "01b7d086-eb60-4f43-ba1c-d85eb5d52e03",
   "metadata": {},
   "outputs": [
    {
     "name": "stdout",
     "output_type": "stream",
     "text": [
      "('Ram', 'male') ('Raja', 'male') ('Geetha', 'female') ('Ramya', 'female')\n"
     ]
    }
   ],
   "source": [
    "# Grouping Tuples Taking one each from each tuple\n",
    "names = ('Ram', 'Raja', 'Geetha', 'Ramya')\n",
    "gender = ('male', 'male', 'female', 'female')\n",
    "\n",
    "ite = zip(names, gender) #zip returns an iterator of tuples\n",
    "print(*ite) \n"
   ]
  },
  {
   "cell_type": "code",
   "execution_count": 15,
   "id": "746835e7-258a-47aa-9b1e-20b70db0c35c",
   "metadata": {},
   "outputs": [
    {
     "name": "stdout",
     "output_type": "stream",
     "text": [
      "[1, 4]\n",
      "[2, 5]\n",
      "[3, 6]\n",
      "(1, 4)\n",
      "(2, 5)\n",
      "(3, 6)\n"
     ]
    }
   ],
   "source": [
    "# Matrix problems using zip( )\n",
    "mat = [[1,2,3], [4,5,6]]\n",
    "zip(mat[0], mat[1])\n",
    "for ite in zip(mat[0], mat[1]):\n",
    "  lst = list(ite)\n",
    "  print(lst)\n",
    "\n",
    "# Same as above\n",
    "for ite in zip(*mat):\n",
    " print(ite) #prints each tuple\n",
    "    "
   ]
  },
  {
   "cell_type": "code",
   "execution_count": 24,
   "id": "e0f6c509-5182-4b07-bfad-7dafa529b808",
   "metadata": {},
   "outputs": [
    {
     "name": "stdout",
     "output_type": "stream",
     "text": [
      "{400, 50, 20, 10, 300}\n",
      "{'bat', 'tiger', 'crocodile', 'rat', 'lion', 'cat'}\n",
      "{400, 50, 100, 20, 10, 300}\n"
     ]
    }
   ],
   "source": [
    "# Set representation \n",
    "set1 = {10, 20, 300, 400, 50}\n",
    "set2 = {'rat', 'cat', 'bat', 'lion', 'tiger', 'crocodile'}\n",
    "print(set1)\n",
    "print(set2)\n",
    "\n",
    "# Set elements have to be unique i.e. cannot be repeated\n",
    "set3 = {10, 20, 300, 400, 50, 50, 50, 20, 100, 400}\n",
    "print(set3)\n",
    "\n",
    "# set4 = set() # empty_set\n",
    "# print(set4)\n",
    "\n",
    "# my_set = set([1, 2, 3, 3, 4, 5])\n",
    "# print(my_set)"
   ]
  },
  {
   "cell_type": "code",
   "execution_count": 31,
   "id": "da61ce2f-198c-4eb1-babc-f59151c71cfe",
   "metadata": {},
   "outputs": [
    {
     "name": "stdout",
     "output_type": "stream",
     "text": [
      "{2, 10, 3, 4}\n",
      "{10, 3, 4}\n",
      "[3, 4, 10]\n",
      "17\n",
      "3\n",
      "3\n",
      "10\n"
     ]
    }
   ],
   "source": [
    "# Sets are Mutable\n",
    "set1 = {10, 2, 3}\n",
    "set1.add(4)\n",
    "print(set1)  \n",
    "\n",
    "set1.remove(2)\n",
    "print(set1)\n",
    "\n",
    "set2=sorted(set1)\n",
    "print(set2)\n",
    "\n",
    "set3=sum(set1)\n",
    "print(set3)\n",
    "\n",
    "l=len(set1)\n",
    "print(l)\n",
    "\n",
    "a=min(set1)\n",
    "print(a)\n",
    "\n",
    "b=max(set1)\n",
    "print(b)"
   ]
  },
  {
   "cell_type": "code",
   "execution_count": 35,
   "id": "d5a1f6b5-33a0-4944-879b-21cbe37f02ad",
   "metadata": {},
   "outputs": [
    {
     "name": "stdout",
     "output_type": "stream",
     "text": [
      "{2, 3, 4, 23, 41, 10, 13}\n",
      "{2, 3, 4, 23, 10, 13}\n",
      "{2, 3, 4, 10, 13}\n",
      "set()\n"
     ]
    }
   ],
   "source": [
    "# Set methods - Member functions in the set\n",
    "set1 = {10, 2, 41, 23, 3, 13}\n",
    "set1.add(4)\n",
    "print(set1)  \n",
    "\n",
    "# remove - the element\n",
    "set1.remove(41)\n",
    "print(set1) \n",
    "\n",
    "#discard\n",
    "set1.discard(23)\n",
    "set1.discard(23) # No error even if 4 is not in the set but remove will show error\n",
    "print(set1)\n",
    "\n",
    "# clear - clears all the elements\n",
    "set1.clear()\n",
    "print(set1) "
   ]
  },
  {
   "cell_type": "code",
   "execution_count": 43,
   "id": "3aad826d-3888-4176-8349-3050dab326af",
   "metadata": {},
   "outputs": [
    {
     "name": "stdout",
     "output_type": "stream",
     "text": [
      "{2, 3, 4, 40, 41, 10, 73, 11, 13, 12, 23}\n",
      "None\n"
     ]
    },
    {
     "data": {
      "text/plain": [
       "False"
      ]
     },
     "execution_count": 43,
     "metadata": {},
     "output_type": "execute_result"
    }
   ],
   "source": [
    "# Set methods - Member functions in the list\n",
    "S= {2, 3, 4, 23, 41, 10, 13}\n",
    "T= {12, 13, 40, 73, 11}\n",
    "# update - adds elements of one list to the other we can do mutable\n",
    "S.update(T)\n",
    "print(S)\n",
    "print(S.update(T))\n",
    "\n",
    "P= {4, 23, 41, 10}\n",
    "P.issuperset(S)\n",
    "S.issuperset(P)\n"
   ]
  },
  {
   "cell_type": "code",
   "execution_count": 44,
   "id": "0dbfa1a7-38ce-4ae5-8a4e-61d3b635b281",
   "metadata": {},
   "outputs": [
    {
     "data": {
      "text/plain": [
       "False"
      ]
     },
     "execution_count": 44,
     "metadata": {},
     "output_type": "execute_result"
    }
   ],
   "source": [
    "S= {2, 3, 4, 23, 41, 10, 13}\n",
    "P= {4, 23, 41, 10}\n",
    "P.issubset(S)\n",
    "P.isdisjoint(S)"
   ]
  },
  {
   "cell_type": "code",
   "execution_count": 46,
   "id": "764387f6-b238-4bfb-83b3-d8b63ffc3f6e",
   "metadata": {},
   "outputs": [
    {
     "data": {
      "text/plain": [
       "True"
      ]
     },
     "execution_count": 46,
     "metadata": {},
     "output_type": "execute_result"
    }
   ],
   "source": [
    "S= {2, 3, 4, 23, 41, 10, 13}\n",
    "P= {4, 23, 41, 10}\n",
    "P.isdisjoint(T)"
   ]
  },
  {
   "cell_type": "code",
   "execution_count": 47,
   "id": "bbd0aa58-197d-438b-985c-42538a697666",
   "metadata": {},
   "outputs": [
    {
     "data": {
      "text/plain": [
       "True"
      ]
     },
     "execution_count": 47,
     "metadata": {},
     "output_type": "execute_result"
    }
   ],
   "source": [
    "S= {2, 3, 4, 23, 41, 10, 13}\n",
    "T= {12, 13, 40, 73, 11}\n",
    "P.isdisjoint(T)"
   ]
  },
  {
   "cell_type": "code",
   "execution_count": 53,
   "id": "06194a6f-5ee1-40f4-93da-363e6688f2df",
   "metadata": {},
   "outputs": [
    {
     "name": "stdout",
     "output_type": "stream",
     "text": [
      "{2, 3, 4, 41, 10, 13, 23} <class 'set'>\n",
      "({2, 3, 4, 23, 41, 10, 13}, {2, 3, 4, 41, 10, 13, 23})\n"
     ]
    }
   ],
   "source": [
    "# Set unpacking\n",
    "S= {2, 3, 4, 23, 41, 10, 13}\n",
    "P= {4, 23, 41, *S, 10}\n",
    "print(P, type(P))\n",
    "\n",
    "# Set of Sets is not allowed, in general, can be done using frozenset\n",
    "# Q= {S,P} # Error\n",
    "Q= (S,P)\n",
    "print(Q)"
   ]
  },
  {
   "cell_type": "code",
   "execution_count": 61,
   "id": "9b83b966-0185-4430-a89c-47b9cc753c15",
   "metadata": {},
   "outputs": [
    {
     "name": "stdout",
     "output_type": "stream",
     "text": [
      "{64, 1, 4, 36, 9, 16, 49, 81, 25}\n",
      "[1, 4, 9, 16, 25, 36, 49, 64, 81]\n",
      "{64, 1, 4, 36, 9, 16, 49, 81, 25}\n"
     ]
    }
   ],
   "source": [
    "# Set Comprehension\n",
    "set1 = {x**2 for x in range(1, 10)}\n",
    "print(set1)\n",
    "print(sorted(set1))\n",
    "\n",
    "# Using a for loop\n",
    "set1.clear() # To make empty set\n",
    "for x in range(1, 10):\n",
    "    set1.add(x**2)\n",
    "print(set1)"
   ]
  },
  {
   "cell_type": "code",
   "execution_count": null,
   "id": "b01bd4fd-f5e7-4387-811c-5eda7d4444da",
   "metadata": {},
   "outputs": [],
   "source": []
  }
 ],
 "metadata": {
  "kernelspec": {
   "display_name": "Python 3 (ipykernel)",
   "language": "python",
   "name": "python3"
  },
  "language_info": {
   "codemirror_mode": {
    "name": "ipython",
    "version": 3
   },
   "file_extension": ".py",
   "mimetype": "text/x-python",
   "name": "python",
   "nbconvert_exporter": "python",
   "pygments_lexer": "ipython3",
   "version": "3.11.4"
  }
 },
 "nbformat": 4,
 "nbformat_minor": 5
}
