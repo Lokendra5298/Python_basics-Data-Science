{
 "cells": [
  {
   "cell_type": "markdown",
   "id": "74e5069a-a4c5-412a-ad4b-6a6600acc7a1",
   "metadata": {},
   "source": [
    "## Q.1 Support Vector Machine:\r\n",
    "\r\n",
    "Data and other details are available at \r\n",
    "\r\n",
    "https://scikit-learn.org/stable/modules/generated/sklearn.svm.SVC.html\r\n",
    "\r\n",
    "Use the weblink and reproduce the result for SVM.\r\n",
    "\r\n",
    "Implement SVM to classify the type of iris flower based on its sepal length and width using the iris dataset? \r\n",
    "Also try to use the scikit-learn digits dataset and an SVM to classify handwritten digits? \r\n",
    "For both datasets, provide a step-by-step code, including:  \r\n",
    "\r\n",
    "Loading the dataset \r\n",
    "Visualizing the data \r\n",
    "Splitting the data into training and testing sets \r\n",
    "Initializing and training the SVM model \r\n",
    "Testing the model "
   ]
  },
  {
   "cell_type": "code",
   "execution_count": 6,
   "id": "c2c206fb-fa65-4d0f-9c04-bc81538c4ba9",
   "metadata": {},
   "outputs": [],
   "source": [
    "import numpy as np\n",
    "import matplotlib.pyplot as plt\n",
    "from sklearn import datasets\n",
    "from sklearn.model_selection import train_test_split\n",
    "from sklearn.svm import SVC\n",
    "from sklearn.metrics import accuracy_score, classification_report\n",
    "# pip install scikit-learn"
   ]
  },
  {
   "cell_type": "code",
   "execution_count": 7,
   "id": "7118ee0d-d5c1-4ee1-bfe9-17df75be9a29",
   "metadata": {},
   "outputs": [],
   "source": [
    "def load_and_visualize_iris():\n",
    "    # Load iris dataset\n",
    "    iris = datasets.load_iris()\n",
    "    X = iris.data[:, :2]  # Taking only the first two features for visualization\n",
    "    y = iris.target\n",
    "\n",
    "    # Plotting the data\n",
    "    plt.figure(figsize=(8, 6))\n",
    "    plt.scatter(X[:, 0], X[:, 1], c=y, cmap=plt.cm.Set1, edgecolor='k')\n",
    "    plt.xlabel('Sepal length')\n",
    "    plt.ylabel('Sepal width')\n",
    "    plt.title('Iris Dataset')\n",
    "    plt.show()\n",
    "\n",
    "    return X, y"
   ]
  },
  {
   "cell_type": "code",
   "execution_count": null,
   "id": "7d5c8b06-65de-4842-9284-bdcb7ae50ead",
   "metadata": {},
   "outputs": [],
   "source": []
  }
 ],
 "metadata": {
  "kernelspec": {
   "display_name": "Python 3 (ipykernel)",
   "language": "python",
   "name": "python3"
  },
  "language_info": {
   "codemirror_mode": {
    "name": "ipython",
    "version": 3
   },
   "file_extension": ".py",
   "mimetype": "text/x-python",
   "name": "python",
   "nbconvert_exporter": "python",
   "pygments_lexer": "ipython3",
   "version": "3.11.4"
  }
 },
 "nbformat": 4,
 "nbformat_minor": 5
}
