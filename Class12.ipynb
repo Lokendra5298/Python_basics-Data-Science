{
 "cells": [
  {
   "cell_type": "code",
   "execution_count": 5,
   "id": "e0c6149e-b88f-46d8-a239-2200f89c7434",
   "metadata": {},
   "outputs": [
    {
     "name": "stdout",
     "output_type": "stream",
     "text": [
      "Pass two arguments <class 'str'>\n",
      "1 <class 'int'>\n",
      "5 <class 'int'>\n",
      "Pass three arguments <class 'str'>\n",
      "1 <class 'int'>\n",
      "5 <class 'int'>\n",
      "Ram <class 'str'>\n",
      "[1, 2, 3] <class 'list'>\n"
     ]
    }
   ],
   "source": [
    "# Variable length arguments\n",
    "def var_arg(*args):\n",
    "    # su= 0\n",
    "    for v in args:\n",
    "        #su += v\n",
    "        # print(su, v)\n",
    "        print(v, type(v))\n",
    "\n",
    "var_arg('Pass two arguments',1,5)\n",
    "var_arg('Pass three arguments',1,5,'Ram')\n",
    "\n",
    "lst= [1, 2, 3]\n",
    "var_arg(lst)"
   ]
  },
  {
   "cell_type": "code",
   "execution_count": 7,
   "id": "7fd3376a-37b6-4e76-9bd4-0ff5c78f814a",
   "metadata": {},
   "outputs": [
    {
     "name": "stdout",
     "output_type": "stream",
     "text": [
      "i 10\n",
      "i 10\n",
      "j 20\n",
      "k Ram\n",
      "Ram 20\n",
      "Raman 40\n"
     ]
    }
   ],
   "source": [
    "# Variable length keywards arguments\n",
    "def kvar_arg(**kwargs):\n",
    "    for k, v in kwargs.items():\n",
    "         print(k, v)\n",
    "\n",
    "kvar_arg(i=10)\n",
    "# kvar_arg(i=10, j=20, 30)\n",
    "kvar_arg(i=10, j=20, k='Ram')\n",
    "dc= {'Ram': 20, 'Raman': 40}\n",
    "# Use ** to unpack the dictionary into keyword arguments\n",
    "kvar_arg(**dc)"
   ]
  },
  {
   "cell_type": "code",
   "execution_count": 5,
   "id": "3e9c8582-64f5-449a-8088-be2a804afdbb",
   "metadata": {},
   "outputs": [
    {
     "name": "stdout",
     "output_type": "stream",
     "text": [
      "True\n",
      "False\n",
      "True\n"
     ]
    }
   ],
   "source": [
    "# defaulat arguments\n",
    "def Torf(cond= True):\n",
    "    if cond == True:\n",
    "        print('True')\n",
    "    else:\n",
    "        print('False')\n",
    "Torf()\n",
    "Torf(False)\n",
    "Torf(True)"
   ]
  },
  {
   "cell_type": "code",
   "execution_count": 9,
   "id": "2932ec4f-95c3-4947-a677-21c7b96511b2",
   "metadata": {},
   "outputs": [
    {
     "name": "stdout",
     "output_type": "stream",
     "text": [
      "First argument : Hello\n",
      "Next argument through *argv : Sir\n",
      "Next argument through *argv : How\n",
      "Next argument through *argv : are you\n"
     ]
    }
   ],
   "source": [
    "def myFun(arg1, *argv):\n",
    "\tprint(\"First argument :\", arg1)\n",
    "\tfor arg in argv:\n",
    "\t\tprint(\"Next argument through *argv :\", arg)\n",
    "\n",
    "\n",
    "myFun('Hello', 'Sir', 'How', 'are you')"
   ]
  },
  {
   "cell_type": "code",
   "execution_count": 9,
   "id": "e466a5e6-6f71-4796-bb41-7362492ae047",
   "metadata": {},
   "outputs": [
    {
     "name": "stdout",
     "output_type": "stream",
     "text": [
      "i: 1\n",
      "j: 2\n",
      "k: 10\n",
      "args: ()\n",
      "cond: True\n",
      "i: 1\n",
      "j: 2\n",
      "k: 3\n",
      "args: ()\n",
      "cond: True\n",
      "i: 1\n",
      "j: 2\n",
      "k: 3\n",
      "args: (4, 5)\n",
      "cond: False\n"
     ]
    }
   ],
   "source": [
    "# Mixed argument\n",
    "# In general, positional args come before keyword args\n",
    "# Combining the above two - pos. args, var. pos. args, kwargs, var. kwargs \n",
    "def mixed_arg(i, j, k=10, *args, cond=True):\n",
    "    print(f\"i: {i}\")\n",
    "    print(f\"j: {j}\")\n",
    "    print(f\"k: {k}\")\n",
    "    print(f\"args: {args}\")\n",
    "    print(f\"cond: {cond}\")\n",
    "\n",
    "\n",
    "mixed_arg(1, 2)\n",
    "mixed_arg(1, 2, 3)\n",
    "mixed_arg(1, 2, 3, 4, 5, cond=False)\n"
   ]
  },
  {
   "cell_type": "code",
   "execution_count": 10,
   "id": "d8bf6475-5b08-4f51-a719-202867dedd9a",
   "metadata": {},
   "outputs": [
    {
     "name": "stdout",
     "output_type": "stream",
     "text": [
      "2\n",
      "1\n",
      "0\n"
     ]
    }
   ],
   "source": [
    "# Recursion function\n",
    "# def PrintNum(n): \n",
    "#   PrintNum(n-1)  # It will give error 'maximum recursion depth is not known'\n",
    "# PrintNum(10)\n",
    "\n",
    "# def PrintNum(n): \n",
    "#    return PrintNum(n-1)  # It will give error 'maximum recursion depth is not known'\n",
    "# PrintNum(10)\n",
    "\n",
    "\n",
    "def PrintNum(n):\n",
    "    if n >= 0:\n",
    "        print(n)\n",
    "        PrintNum(n - 1)  # Recursive call to the same function\n",
    "\n",
    "PrintNum(2)\n"
   ]
  },
  {
   "cell_type": "code",
   "execution_count": 12,
   "id": "36cda852-58fe-4cc7-a78b-5df0b095100c",
   "metadata": {},
   "outputs": [
    {
     "name": "stdout",
     "output_type": "stream",
     "text": [
      "0\n",
      "1\n",
      "2\n"
     ]
    }
   ],
   "source": [
    "# Recursion function \n",
    "def PrintNum(n):\n",
    "    if n >= 0:\n",
    "        PrintNum(n - 1)  # Recursive call to the same function\n",
    "        print(n)\n",
    "\n",
    "PrintNum(2)"
   ]
  },
  {
   "cell_type": "code",
   "execution_count": 16,
   "id": "e0ad593d-d6b5-40ea-b4cc-5bd695c9ffd8",
   "metadata": {},
   "outputs": [
    {
     "name": "stdout",
     "output_type": "stream",
     "text": [
      "55\n"
     ]
    }
   ],
   "source": [
    "# Using Recursion function find sum of n numbers\n",
    "def sum_upto_n(n):\n",
    "    s = 0\n",
    "    if n==0:\n",
    "        return 0\n",
    "    else:\n",
    "        s = n + sum_upto_n(n-1)\n",
    "        #print(s)\n",
    "    return s\n",
    "\n",
    "r= sum_upto_n(10)\n",
    "print(r)"
   ]
  },
  {
   "cell_type": "code",
   "execution_count": 3,
   "id": "636c3f0c-347c-4aa2-949d-55a7ebba348d",
   "metadata": {},
   "outputs": [
    {
     "name": "stdout",
     "output_type": "stream",
     "text": [
      "a: 1\n",
      "b: 2\n",
      "c: World\n",
      "a: 3\n",
      "b: 5\n",
      "c: Hello\n",
      "a: 4\n",
      "b: 8\n",
      "c: Hello\n"
     ]
    }
   ],
   "source": [
    "def default_args_function(a, b=5, c=\"Hello\"):\n",
    "    print(\"a:\", a)\n",
    "    print(\"b:\", b)\n",
    "    print(\"c:\", c)\n",
    "\n",
    "# Call the function with all arguments\n",
    "default_args_function(1, 2, \"World\")\n",
    "\n",
    "# Call the function with only required argument 'a' and using default values for 'b' and 'c'\n",
    "default_args_function(3)\n",
    "\n",
    "# Call the function with 'a' and 'b' arguments, using default value for 'c'\n",
    "default_args_function(4, 8)"
   ]
  },
  {
   "cell_type": "code",
   "execution_count": 14,
   "id": "ffc64b82-229c-4c24-8813-e967ca0e674c",
   "metadata": {},
   "outputs": [
    {
     "name": "stdout",
     "output_type": "stream",
     "text": [
      "5\n"
     ]
    }
   ],
   "source": [
    "print(5 or 7)"
   ]
  },
  {
   "cell_type": "code",
   "execution_count": null,
   "id": "25e44b9f-8f7a-46e1-b0f0-4beffa30a51f",
   "metadata": {},
   "outputs": [],
   "source": []
  }
 ],
 "metadata": {
  "kernelspec": {
   "display_name": "Python 3 (ipykernel)",
   "language": "python",
   "name": "python3"
  },
  "language_info": {
   "codemirror_mode": {
    "name": "ipython",
    "version": 3
   },
   "file_extension": ".py",
   "mimetype": "text/x-python",
   "name": "python",
   "nbconvert_exporter": "python",
   "pygments_lexer": "ipython3",
   "version": "3.11.4"
  }
 },
 "nbformat": 4,
 "nbformat_minor": 5
}
