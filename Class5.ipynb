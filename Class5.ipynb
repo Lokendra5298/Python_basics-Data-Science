{
 "cells": [
  {
   "cell_type": "code",
   "execution_count": 2,
   "id": "e6bbd36c-63cc-4b18-8553-bab02487a0e7",
   "metadata": {},
   "outputs": [
    {
     "name": "stdout",
     "output_type": "stream",
     "text": [
      "[10, 20, 300, 400, 50]\n",
      "['rat', 'cat', 'bat', 'lion', 'tiger', 'crocodile']\n",
      "[10.5, 22, 'Antelope', 'rabbit', 456789, 1, 1, 2, 2, 4, 89.9]\n",
      "300\n",
      "['rat', 'cat', 'bat', 'lion']\n",
      "['rabbit', 456789, 1, 1, 2, 2, 4, 89.9]\n"
     ]
    }
   ],
   "source": [
    "# Container data type\n",
    "# They can hold multiple data types. example- Lists, Tuples, Sets, Dictionaries\n",
    "lst1 = [10, 20, 300, 400, 50]; \n",
    "lst2 = ['rat', 'cat', 'bat', 'lion', 'tiger', 'crocodile']\n",
    "lst3 = [10.5, 22, 'Antelope', 'rabbit', 456789, 1, 1, 2, 2, 4, 89.9]\n",
    "print(lst1)\n",
    "print(lst2)\n",
    "print(lst3)\n",
    "print(lst1[2])\n",
    "print(lst2[:4])\n",
    "print(lst3[3:])"
   ]
  },
  {
   "cell_type": "code",
   "execution_count": 3,
   "id": "d064d6d7-74f6-4ea4-a2b7-4fdea0b3a34a",
   "metadata": {},
   "outputs": [
    {
     "data": {
      "text/plain": [
       "[3, 3, 3, 4, 5, 9]"
      ]
     },
     "execution_count": 3,
     "metadata": {},
     "output_type": "execute_result"
    }
   ],
   "source": [
    "# Define a list of strings and find the number of characters in each of them.\n",
    "def number_of_char(lst):\n",
    "    result=[]\n",
    "    for i in lst:\n",
    "        x=len(i)\n",
    "        result.append(x)\n",
    "    return result\n",
    "        \n",
    "lst1 = ['rat', 'cat', 'bat', 'lion', 'tiger', 'crocodile']\n",
    "number_of_char(lst1)"
   ]
  },
  {
   "cell_type": "code",
   "execution_count": 4,
   "id": "79ef8a54-d461-4ccc-bfb4-73dbcddd71f0",
   "metadata": {},
   "outputs": [
    {
     "data": {
      "text/plain": [
       "[1, 1, 1, 2, 2, 4]"
      ]
     },
     "execution_count": 4,
     "metadata": {},
     "output_type": "execute_result"
    }
   ],
   "source": [
    "# Define a list of strings and find the number of vowels in each of them.\n",
    "def number_of_vow(lst):\n",
    "    result=[]\n",
    "    for i in lst:\n",
    "        sum=0\n",
    "        for char in i:\n",
    "            if char.lower() in 'aeiou':\n",
    "                sum += 1\n",
    "        result.append(sum)\n",
    "    return result\n",
    "        \n",
    "lst1 = ['rat', 'cat', 'bat', 'lion', 'tiger', 'crocodile']\n",
    "number_of_vow(lst1)"
   ]
  },
  {
   "cell_type": "code",
   "execution_count": 9,
   "id": "9284389e-d68f-4fe7-b368-4b69dd663a7b",
   "metadata": {},
   "outputs": [
    {
     "name": "stdout",
     "output_type": "stream",
     "text": [
      "Muted list: [55, 20, 300, 400, 50]\n",
      "Double Muted list: [55, 20, 22, 23, 24]\n",
      "Deleted list: [22, 23, 24]\n",
      "Fully Deleted list: [22, 23, 24]\n",
      "concatenated list: [22, 23, 24, 11, 12, 13, 14]\n",
      "3 is in the list.\n",
      "Sorted list: [12, 16, 41, 45, 78]\n",
      "78 38.4\n"
     ]
    }
   ],
   "source": [
    "# List operations\n",
    "# Lists are mutable (unlike strings)\n",
    "lst1 = [10, 20, 300, 400, 50]; \n",
    "lst1[0]=55\n",
    "print('Muted list:',lst1)\n",
    "\n",
    "lst1[2:5]=[22,23,24]\n",
    "print('Double Muted list:',lst1)\n",
    "\n",
    "del lst1[0:2]\n",
    "print('Deleted list:',lst1)\n",
    "lst1[:]=[]\n",
    "print('Fully Deleted list:',lst1)\n",
    "\n",
    "# Lists can be concatenated\n",
    "lst2=[11,12,13,14]\n",
    "lst1+=lst2\n",
    "print('concatenated list:',lst1)\n",
    "\n",
    "# searching (containment) and sorting\n",
    "my_list = [1, 2, 3, 4, 5]\n",
    "if 3 in my_list:\n",
    "    print(\"3 is in the list.\")\n",
    "else:\n",
    "    print(\"3 is not in the list.\")\n",
    "\n",
    "lst3=[45,12,16,78,41]\n",
    "list=sorted(lst3)\n",
    "print('Sorted list:',list)\n",
    "\n",
    "a=max(lst3)\n",
    "average=sum(lst3)/len(lst3)\n",
    "print(a,average)"
   ]
  },
  {
   "cell_type": "code",
   "execution_count": 6,
   "id": "bc30b007-1bf6-4232-be18-7472f4b58233",
   "metadata": {},
   "outputs": [
    {
     "name": "stdout",
     "output_type": "stream",
     "text": [
      "The lists are not equal.\n"
     ]
    }
   ],
   "source": [
    "#Lists comparison example\n",
    "list1 = [1, 2, 3, 4, 5]\n",
    "list2 = [1, 2, 3, 4, 6]\n",
    "\n",
    "# Check if the lists are equal\n",
    "if list1 == list2:\n",
    "    print(\"The lists are equal.\")\n",
    "else:\n",
    "    print(\"The lists are not equal.\")"
   ]
  },
  {
   "cell_type": "code",
   "execution_count": 7,
   "id": "3c032409-d74c-4f1c-8988-a15442ec1ac4",
   "metadata": {},
   "outputs": [
    {
     "name": "stdout",
     "output_type": "stream",
     "text": [
      "appended list: [10, 20, 300, 400, 50, 23]\n",
      "pop list: [10, 20, 300, 400, 50]\n"
     ]
    }
   ],
   "source": [
    "# Member functions in the list\n",
    "lst = [10, 20, 300, 400, 50]; \n",
    "lst.append(23)\n",
    "print('appended list:',lst)\n",
    "\n",
    "lst.pop()\n",
    "print('pop list:',lst)"
   ]
  },
  {
   "cell_type": "code",
   "execution_count": null,
   "id": "b182666d-b925-43d9-b84d-2c82da0a423b",
   "metadata": {},
   "outputs": [],
   "source": []
  }
 ],
 "metadata": {
  "kernelspec": {
   "display_name": "Python 3 (ipykernel)",
   "language": "python",
   "name": "python3"
  },
  "language_info": {
   "codemirror_mode": {
    "name": "ipython",
    "version": 3
   },
   "file_extension": ".py",
   "mimetype": "text/x-python",
   "name": "python",
   "nbconvert_exporter": "python",
   "pygments_lexer": "ipython3",
   "version": "3.11.4"
  }
 },
 "nbformat": 4,
 "nbformat_minor": 5
}
