{
 "cells": [
  {
   "cell_type": "code",
   "execution_count": 1,
   "id": "1028a9dc-087d-407b-b2dd-70689de7eb7a",
   "metadata": {},
   "outputs": [
    {
     "name": "stdout",
     "output_type": "stream",
     "text": [
      "Union of A and B: {1, 2, 3, 4, 5, 6, 7}\n",
      "Intersection of A and B: {4, 5}\n",
      "Difference (A - B): {1, 2, 3}\n",
      "Difference (B - A): {6, 7}\n"
     ]
    }
   ],
   "source": [
    "A = {1, 2, 3, 4, 5}\n",
    "B = {4, 5, 6, 7}\n",
    "\n",
    "# Union: A | B \n",
    "union_result = A | B\n",
    "print(\"Union of A and B:\", union_result)\n",
    "\n",
    "# Intersection: A & B \n",
    "intersection_result = A & B\n",
    "print(\"Intersection of A and B:\", intersection_result)\n",
    "\n",
    "# Difference: A - B \n",
    "difference_result_A = A - B\n",
    "print(\"Difference (A - B):\", difference_result_A)\n",
    "\n",
    "# Difference: B - A \n",
    "difference_result_B = B - A\n",
    "print(\"Difference (B - A):\", difference_result_B)\n"
   ]
  },
  {
   "cell_type": "code",
   "execution_count": 3,
   "id": "8b0a0d87-fb2b-40af-87dd-af8415cd95e5",
   "metadata": {},
   "outputs": [
    {
     "name": "stdout",
     "output_type": "stream",
     "text": [
      "Updated A with Difference (A - B): {1, 2, 3}\n",
      "Updated B with Difference (B - A): {4, 5, 6, 7}\n",
      "Updated A with Symmetric Difference of A and B: {1, 2, 3, 6, 7}\n"
     ]
    }
   ],
   "source": [
    "A = {1, 2, 3, 4, 5}\n",
    "B = {4, 5, 6, 7}\n",
    "\n",
    "# A -= B \n",
    "A = {1, 2, 3, 4, 5} # Reset A\n",
    "A -= B\n",
    "print(\"Updated A with Difference (A - B):\", A)\n",
    "\n",
    "# B -= A \n",
    "B -= A\n",
    "print(\"Updated B with Difference (B - A):\", B)\n",
    "\n",
    "# A ^= B \n",
    "A = {1, 2, 3, 4, 5}  # Reset A\n",
    "A ^= B\n",
    "print(\"Updated A with Symmetric Difference of A and B:\", A)\n"
   ]
  },
  {
   "cell_type": "code",
   "execution_count": 1,
   "id": "9b989fdd-9a09-4d49-9365-9101497913e3",
   "metadata": {},
   "outputs": [
    {
     "name": "stdout",
     "output_type": "stream",
     "text": [
      "{10: 100, 20: 200, 'ED1': 'name1', 'ED2': 'name2'}\n",
      "Key values are: 100 name1\n",
      "\n",
      "\n",
      "10 100\n",
      "20 200\n",
      "ED1 name1\n",
      "ED2 name2\n",
      "\n",
      "\n",
      "10\n",
      "20\n",
      "ED1\n",
      "ED2\n",
      "\n",
      "\n",
      "10\n",
      "20\n",
      "ED1\n",
      "ED2\n",
      "\n",
      "\n",
      "100\n",
      "200\n",
      "name1\n",
      "name2\n",
      "\n",
      "\n",
      "10\n",
      "20\n",
      "ED1\n",
      "ED2\n",
      "\n",
      "\n",
      "10 100\n",
      "20 200\n",
      "ED1 name1\n",
      "ED2 name2\n"
     ]
    }
   ],
   "source": [
    "# Dictionary representation\n",
    "# dc = {key : value}\n",
    "dct1 = {10 : 100, 20 : 200, 'ED1' : 'name1', 'ED2' : 'name2'}\n",
    "print(dct1)\n",
    "print('Key values are:',dct1[10], dct1['ED1'])\n",
    "print('\\n')\n",
    "\n",
    "# Using iterator over key values\n",
    "for k, v in dct1.items():\n",
    "    print(k, v)\n",
    "\n",
    "print('\\n')\n",
    "for k in dct1.keys():\n",
    "    print(k)\n",
    "    \n",
    "print('\\n')\n",
    "for k in dct1:\n",
    "    print(k)\n",
    "\n",
    "print('\\n')\n",
    "for v in dct1.values():\n",
    "    print(v)\n",
    "\n",
    "print('\\n')\n",
    "for v in dct1:\n",
    "    print(v)\n",
    "\n",
    "print('\\n')\n",
    "for k in dct1.keys():\n",
    "    print(k,dct1[k])\n"
   ]
  },
  {
   "cell_type": "code",
   "execution_count": 2,
   "id": "0021e76b-4cf9-402f-a02d-68baf2fd07fe",
   "metadata": {},
   "outputs": [
    {
     "data": {
      "text/plain": [
       "'name1'"
      ]
     },
     "execution_count": 2,
     "metadata": {},
     "output_type": "execute_result"
    }
   ],
   "source": [
    "dct1['ED1']"
   ]
  },
  {
   "cell_type": "code",
   "execution_count": 4,
   "id": "2ce8e25f-0570-4a57-a5f5-f375429094a1",
   "metadata": {},
   "outputs": [
    {
     "name": "stdout",
     "output_type": "stream",
     "text": [
      "Updated Dictionary: {10: 100, 20: 200, 'ED2': 'name2'}\n"
     ]
    }
   ],
   "source": [
    "# Sort the keys of the dictionary\n",
    "dct1 = {10 : 100, 20 : 200, 'ED1' : 'name1', 'ED2' : 'name2'}\n",
    "#k1 = sorted(dct1)\n",
    "#print(\"Sorted Keys:\", k1)\n",
    "\n",
    "# Iterate over values and print sorted values\n",
    "#for v in dct1.values():\n",
    "#    if isinstance(v, list):\n",
    "#        print(\"Sorted List:\", sorted(v))\n",
    "#    else:\n",
    "#        print(\"Value:\", v)\n",
    "\n",
    "del dct1['ED1']\n",
    "print(\"Updated Dictionary:\", dct1)\n"
   ]
  },
  {
   "cell_type": "code",
   "execution_count": 11,
   "id": "5dfe7a1c-5fa9-41f7-8999-65faaf813546",
   "metadata": {},
   "outputs": [
    {
     "name": "stdout",
     "output_type": "stream",
     "text": [
      "Updated Dictionary: {'key1': 'new_value1', 'key3': 'value3'}\n"
     ]
    }
   ],
   "source": [
    "d1 = {'key1': 'val1', 'key2': 'val2'}\n",
    "\n",
    "# Adding a new key-value\n",
    "d1['key3'] = 'val3'\n",
    "\n",
    "# Modifying an existing value\n",
    "d1['key1'] = 'new_value1'\n",
    "\n",
    "# Deleting a key-value pair\n",
    "del d1['key2']\n",
    "\n",
    "print(\"Updated Dictionary:\", d1)\n"
   ]
  },
  {
   "cell_type": "code",
   "execution_count": 13,
   "id": "82322a0f-1d87-4202-89ba-729c52fd0906",
   "metadata": {},
   "outputs": [
    {
     "name": "stdout",
     "output_type": "stream",
     "text": [
      "Merged Dictionary: {'a': 1, 'b': 2, 'd': 3, 'c': 4}\n"
     ]
    }
   ],
   "source": [
    "# Concatenating dictionaries using update()\n",
    "dict1 = {'a': 1, 'b': 2}\n",
    "dict2 = {'d': 3, 'c': 4}\n",
    "\n",
    "dict1.update(dict2)\n",
    "print(\"Merged Dictionary:\", dict1)"
   ]
  },
  {
   "cell_type": "code",
   "execution_count": 16,
   "id": "7bf3499b-582e-45a4-9824-55e33786af9e",
   "metadata": {},
   "outputs": [
    {
     "name": "stdout",
     "output_type": "stream",
     "text": [
      "Length of the dictionary: 4\n"
     ]
    }
   ],
   "source": [
    "dct1 = {10: 100, 20: 200, 'ED1': 'name1', 'ED2': 'name2'}\n",
    "\n",
    "length = len(dct1)\n",
    "print(\"Length of the dictionary:\", length)\n",
    "\n",
    "# sorted_keys = sorted(dct1.keys())\n",
    "# print(\"Sorted keys:\", sorted_keys)\n",
    "\n",
    "# sorted_values = sorted(dct1.values())\n",
    "# print(\"Sorted values:\", sorted_values)\n"
   ]
  },
  {
   "cell_type": "code",
   "execution_count": 10,
   "id": "9491e779-1460-4186-9621-a92a780972f0",
   "metadata": {},
   "outputs": [
    {
     "name": "stdout",
     "output_type": "stream",
     "text": [
      "{'a': 1, 'b': 2, 'c': 3, 'd': 4, 'e': 5, 'f': 6}\n",
      "{'c', 'b', 'd', 'a', 'f', 'e'}\n"
     ]
    }
   ],
   "source": [
    "# Define three dictionaries\n",
    "dict1 = {'a': 1, 'b': 2}\n",
    "dict2 = {'c': 3, 'd': 4}\n",
    "dict3 = {'e': 5, 'f': 6}\n",
    "\n",
    "# Concatenate all three dictionaries into another dictionary\n",
    "combined_dict = {*dict1, *dict2, *dict3}\n",
    "combined_dict1 = {**dict1, **dict2, **dict3}\n",
    "\n",
    "\n",
    "\n",
    "# Check if the dictionaries are empty\n",
    "print(combined_dict1)  # Output: {}\n",
    "print(combined_dict) \n"
   ]
  },
  {
   "cell_type": "code",
   "execution_count": null,
   "id": "dbbfe6e1-158b-4ae0-8973-92f3bd3eb034",
   "metadata": {},
   "outputs": [],
   "source": []
  }
 ],
 "metadata": {
  "kernelspec": {
   "display_name": "Python 3 (ipykernel)",
   "language": "python",
   "name": "python3"
  },
  "language_info": {
   "codemirror_mode": {
    "name": "ipython",
    "version": 3
   },
   "file_extension": ".py",
   "mimetype": "text/x-python",
   "name": "python",
   "nbconvert_exporter": "python",
   "pygments_lexer": "ipython3",
   "version": "3.11.4"
  }
 },
 "nbformat": 4,
 "nbformat_minor": 5
}
