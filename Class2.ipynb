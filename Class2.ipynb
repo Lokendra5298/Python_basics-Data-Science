{
 "cells": [
  {
   "cell_type": "code",
   "execution_count": 3,
   "id": "ce8103cf-d2f1-4997-b284-28c7ddf86592",
   "metadata": {},
   "outputs": [
    {
     "name": "stdout",
     "output_type": "stream",
     "text": [
      "1\n"
     ]
    }
   ],
   "source": [
    "def quo(x,y):\n",
    "   z= x%y\n",
    "   return z\n",
    "x=4\n",
    "y=3\n",
    "print(quo(x,y))"
   ]
  },
  {
   "cell_type": "code",
   "execution_count": 7,
   "id": "ee97cfdf-6cba-44cb-a133-f4b446464529",
   "metadata": {},
   "outputs": [
    {
     "name": "stdout",
     "output_type": "stream",
     "text": [
      "(3+6j)\n",
      "1.0\n",
      "2.0\n",
      "(1-2j)\n"
     ]
    }
   ],
   "source": [
    "# Member functions are associated with data\n",
    "a = 1+ 2j\n",
    "b=3*(1+ 2j)\n",
    "print(b)\n",
    "print(a.real) # Data \n",
    "print(a.imag) # Data \n",
    "print(a.conjugate()) # Function \n",
    "\n",
    "# help(complex)"
   ]
  },
  {
   "cell_type": "code",
   "execution_count": 10,
   "id": "8fcaaf0e-bcc8-46a3-ba9a-550a24f0e64e",
   "metadata": {},
   "outputs": [
    {
     "name": "stdout",
     "output_type": "stream",
     "text": [
      "78.53981633974483\n",
      "78.53981633974483\n"
     ]
    }
   ],
   "source": [
    "# math module as an example\n",
    "import math\n",
    "pi = math.pi; \n",
    "r = 5\n",
    "area= pi*r**2\n",
    "print(area)\n",
    "area1 = math.pi * r ** 2\n",
    "print(area1)"
   ]
  },
  {
   "cell_type": "code",
   "execution_count": 12,
   "id": "65725913-ee69-4c56-899a-3367ce6c8271",
   "metadata": {},
   "outputs": [
    {
     "name": "stdout",
     "output_type": "stream",
     "text": [
      "0.5000000000000001\n"
     ]
    }
   ],
   "source": [
    "# cos function in math\n",
    "from math import cos\n",
    "x = math.pi / 3\n",
    "y = cos(x) # No need to use math.cos \n",
    "print(y)"
   ]
  },
  {
   "cell_type": "code",
   "execution_count": 1,
   "id": "35963939-39e2-47d5-923a-5d49b977bd6b",
   "metadata": {},
   "outputs": [
    {
     "name": "stdout",
     "output_type": "stream",
     "text": [
      "Ramanathan Muthuganapathy \n",
      " Ramanathan Muthuganapathy \n",
      " Ramanathan Muthuganapathy \n",
      " Ramanathan Muthuganapathy\n"
     ]
    }
   ],
   "source": [
    "# Single, double, and triple quotes can be used\n",
    "\n",
    "a = 'Ramanathan Muthuganapathy'\n",
    "b = \"Ramanathan Muthuganapathy\"\n",
    "c = '''Ramanathan Muthuganapathy'''\n",
    "d= \"\"\"Ramanathan Muthuganapathy\"\"\"\n",
    "print(a,'\\n' , b, '\\n', c, '\\n',d)"
   ]
  },
  {
   "cell_type": "code",
   "execution_count": 16,
   "id": "ab1380b9-a745-468c-a55d-42f8e4ac0ebf",
   "metadata": {},
   "outputs": [
    {
     "name": "stdout",
     "output_type": "stream",
     "text": [
      "I'm Lokendra\n",
      "I'm Lokendra\n",
      "I'm Lokendra \n",
      " \"Ram\"\n"
     ]
    }
   ],
   "source": [
    "msg= \"I'm Lokendra\"\n",
    "print(msg)\n",
    "# Raw string \n",
    "rawstr = \"I'm Lokendra\"\n",
    "print(rawstr)\n",
    "rawstr1 = r'\"Ram\"'\n",
    "print(rawstr, '\\n', rawstr1)"
   ]
  },
  {
   "cell_type": "code",
   "execution_count": 5,
   "id": "fc80229d-c04d-471f-91ab-bea0ad1c7e79",
   "metadata": {},
   "outputs": [
    {
     "name": "stdout",
     "output_type": "stream",
     "text": [
      "This is a\n",
      "multi-line\n",
      "string.\n",
      "\n",
      "\n",
      "This is a\n",
      "multi-line\n",
      "string.\n"
     ]
    }
   ],
   "source": [
    "multi_line_string = \"\"\"This is a\n",
    "multi-line\n",
    "string.\"\"\"\n",
    "print(multi_line_string)\n",
    "\n",
    "print('\\n')\n",
    "multi_line_string1 = '''This is a\n",
    "multi-line\n",
    "string.'''\n",
    "print(multi_line_string1)"
   ]
  },
  {
   "cell_type": "code",
   "execution_count": 24,
   "id": "e5386c7f-4714-44e1-a39c-a3ecfe8e1563",
   "metadata": {},
   "outputs": [
    {
     "name": "stdout",
     "output_type": "stream",
     "text": [
      "R\n"
     ]
    },
    {
     "data": {
      "text/plain": [
       "'a'"
      ]
     },
     "execution_count": 24,
     "metadata": {},
     "output_type": "execute_result"
    }
   ],
   "source": [
    "# Accessing string elements\n",
    "Str1 = \"Raman\"\n",
    "print(Str1[0])\n",
    "Str1[1]\n"
   ]
  },
  {
   "cell_type": "code",
   "execution_count": 28,
   "id": "b70da38b-080a-41d7-bdfc-9ef56286ea41",
   "metadata": {},
   "outputs": [
    {
     "data": {
      "text/plain": [
       "'Lite'"
      ]
     },
     "execution_count": 28,
     "metadata": {},
     "output_type": "execute_result"
    }
   ],
   "source": [
    "# String properties - immutable\n",
    "str1 = \"Kite\"\n",
    "# str1[0] = ‘L’ #Error\n",
    "# Identifire reffering system memory id \n",
    "str1 = \"Lite\"\n",
    "str1"
   ]
  },
  {
   "cell_type": "code",
   "execution_count": null,
   "id": "67f99d29-ca4a-447d-9756-2ce8dd2f7af8",
   "metadata": {},
   "outputs": [],
   "source": []
  }
 ],
 "metadata": {
  "kernelspec": {
   "display_name": "Python 3 (ipykernel)",
   "language": "python",
   "name": "python3"
  },
  "language_info": {
   "codemirror_mode": {
    "name": "ipython",
    "version": 3
   },
   "file_extension": ".py",
   "mimetype": "text/x-python",
   "name": "python",
   "nbconvert_exporter": "python",
   "pygments_lexer": "ipython3",
   "version": "3.11.4"
  }
 },
 "nbformat": 4,
 "nbformat_minor": 5
}
