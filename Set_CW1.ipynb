{
 "cells": [
  {
   "cell_type": "code",
   "execution_count": 1,
   "id": "c4ba5f44-346e-4ec7-8f25-134c7fc277f6",
   "metadata": {},
   "outputs": [
    {
     "name": "stdout",
     "output_type": "stream",
     "text": [
      "Set 1: {8, 1, 2, 4}\n",
      "Set 2: {8, 10, 4, 5}\n",
      "Union of Set 1 and Set 2: {1, 2, 4, 5, 8, 10}\n",
      "Intersection of Set 1 and Set 2: {8, 4}\n",
      "Set 1 - Set 2: {1, 2}\n",
      "Symmetric Difference between Set 1 and Set 2: {1, 2, 5, 10}\n",
      "Set 1 after updating with Set 2: {1, 2, 4, 5, 8, 10}\n"
     ]
    }
   ],
   "source": [
    "import random\n",
    "\n",
    "# Define two sets of random numbers using set comprehension\n",
    "set1 = {random.randint(1, 10) for _ in range(5)}\n",
    "set2 = {random.randint(1, 10) for _ in range(5)}\n",
    "\n",
    "print(\"Set 1:\", set1)\n",
    "print(\"Set 2:\", set2)\n",
    "\n",
    "\n",
    "# Union: \n",
    "union_set = set1.union(set2)\n",
    "print(\"Union of Set 1 and Set 2:\", union_set)\n",
    "\n",
    "# Intersection: \n",
    "intersection_set = set1.intersection(set2)\n",
    "print(\"Intersection of Set 1 and Set 2:\", intersection_set)\n",
    "\n",
    "# Difference: \n",
    "difference_set1 = set1.difference(set2)\n",
    "print(\"Set 1 - Set 2:\", difference_set1)\n",
    "\n",
    "# Symmetric Difference: \n",
    "symmetric_difference_set = set1.symmetric_difference(set2)\n",
    "print(\"Symmetric Difference between Set 1 and Set 2:\", symmetric_difference_set)\n",
    "\n",
    "# Update: Modify Set 1 to include elements from Set 2\n",
    "set1.update(set2)\n",
    "print(\"Set 1 after updating with Set 2:\", set1)\n"
   ]
  },
  {
   "cell_type": "code",
   "execution_count": null,
   "id": "f5be3be6-16a8-4acf-9438-4c45ebb9df9c",
   "metadata": {},
   "outputs": [],
   "source": []
  }
 ],
 "metadata": {
  "kernelspec": {
   "display_name": "Python 3 (ipykernel)",
   "language": "python",
   "name": "python3"
  },
  "language_info": {
   "codemirror_mode": {
    "name": "ipython",
    "version": 3
   },
   "file_extension": ".py",
   "mimetype": "text/x-python",
   "name": "python",
   "nbconvert_exporter": "python",
   "pygments_lexer": "ipython3",
   "version": "3.11.4"
  }
 },
 "nbformat": 4,
 "nbformat_minor": 5
}
