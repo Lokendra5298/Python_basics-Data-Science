{
 "cells": [
  {
   "cell_type": "markdown",
   "id": "12b85374-b9ee-430a-99ad-fbd7852b1a79",
   "metadata": {},
   "source": [
    "## Q.6. List comprehension  : Given two lists of equal length, list1 contains the integers and list2 contains alphabets. Using list comprehension, WAP"
   ]
  },
  {
   "cell_type": "markdown",
   "id": "849f976b-1676-4228-9901-c5e1b0fe7046",
   "metadata": {},
   "source": [
    "**(a)** To generate a list containing the squares of elements from list1."
   ]
  },
  {
   "cell_type": "code",
   "execution_count": 5,
   "id": "4efee2d0-b081-4900-95b4-e2b683e9405f",
   "metadata": {},
   "outputs": [
    {
     "name": "stdout",
     "output_type": "stream",
     "text": [
      "[1, 25, 16, 49, 81, 256]\n"
     ]
    }
   ],
   "source": [
    "list1= [1, 5, 4, 7, 9, 16]\n",
    "list2=[]\n",
    "for i in list1:\n",
    "    a= i**2\n",
    "    list2.append(a)\n",
    "\n",
    "print(list2)"
   ]
  },
  {
   "cell_type": "markdown",
   "id": "51f34a7e-9379-4a31-ac8e-43d8e0877d05",
   "metadata": {},
   "source": [
    "**(b)** To generate a list containing pairwise corresponding elements in the form of tuple."
   ]
  },
  {
   "cell_type": "code",
   "execution_count": 20,
   "id": "3d36f069-1ee3-48ab-8f4c-9f5eefe9b214",
   "metadata": {},
   "outputs": [
    {
     "name": "stdout",
     "output_type": "stream",
     "text": [
      "[(11, 'z'), (23, 'y'), (31, 'c'), (40, 'd')]\n"
     ]
    }
   ],
   "source": [
    "lst1 = [11, 23, 31, 40]\n",
    "lst2 = ['z', 'y', 'c', 'd']\n",
    "\n",
    "lst3 = list(zip(lst1, lst2))\n",
    "print(lst3)"
   ]
  },
  {
   "cell_type": "markdown",
   "id": "bc3abd6f-0e93-49a8-923f-858af0713bc4",
   "metadata": {},
   "source": [
    "**(c)** To generate a list containing all possible combinations of elements from the two lists."
   ]
  },
  {
   "cell_type": "code",
   "execution_count": 25,
   "id": "25525bea-5ddf-4462-b747-af2ebf723f1a",
   "metadata": {},
   "outputs": [
    {
     "name": "stdout",
     "output_type": "stream",
     "text": [
      "[(4, 'a'), (4, 'b'), (4, 'c'), (4, 'd'), (7, 'a'), (7, 'b'), (7, 'c'), (7, 'd'), (8, 'a'), (8, 'b'), (8, 'c'), (8, 'd'), (3, 'a'), (3, 'b'), (3, 'c'), (3, 'd')]\n"
     ]
    }
   ],
   "source": [
    "l1 = [4, 7, 8, 3]\n",
    "l2 = ['a', 'b', 'c', 'd']\n",
    "\n",
    "l3 = [(x, y) for x in l1 for y in l2]\n",
    "print(l3)"
   ]
  },
  {
   "cell_type": "markdown",
   "id": "5530b8fd-2d71-4003-bcc4-096f629b0212",
   "metadata": {},
   "source": [
    "**(d)** To generate a list containing elements of list1 and list2 alternatively."
   ]
  },
  {
   "cell_type": "code",
   "execution_count": 27,
   "id": "cb2edc1b-ccae-4662-bc50-02d21801141e",
   "metadata": {},
   "outputs": [
    {
     "name": "stdout",
     "output_type": "stream",
     "text": [
      "[11, 'z', 23, 'y', 31, 'c', 40, 'd']\n"
     ]
    }
   ],
   "source": [
    "lst1 = [11, 23, 31, 40]\n",
    "lst2 = ['z', 'y', 'c', 'd']\n",
    "lst3 = [i for pair in zip(lst1, lst2) for i in pair]\n",
    "print(lst3)"
   ]
  },
  {
   "cell_type": "markdown",
   "id": "bfaec142-f5cd-40ce-b276-47f18d00cf89",
   "metadata": {},
   "source": [
    "## Q.7. Find out the applicable methods for the list but not tuples. List them out.\r\n"
   ]
  },
  {
   "cell_type": "code",
   "execution_count": 35,
   "id": "6b9aca5f-b03a-4378-a3a2-c47443607a53",
   "metadata": {},
   "outputs": [
    {
     "name": "stdout",
     "output_type": "stream",
     "text": [
      "[11, 32, 11, 11, 37, 41]\n",
      "[11, 32, 11, 11, 37, 41, 14, 25, 36]\n",
      "[11, 17, 32, 11, 11, 37, 41, 14, 25, 36]\n",
      "[11, 17, 32, 11, 11, 41, 14, 25, 36]\n",
      "[11, 17, 32, 11, 11, 41, 14, 25]\n",
      "[25, 14, 41, 11, 11, 32, 17, 11]\n",
      "2\n",
      "3\n",
      "[]\n"
     ]
    }
   ],
   "source": [
    "# append\n",
    "a = [11, 32, 11, 11, 37]\n",
    "a.append(41)\n",
    "print(a)  \n",
    "\n",
    "# extend\n",
    "b = [14, 25, 36]\n",
    "a.extend(b)\n",
    "print(a)  \n",
    "\n",
    "# insert\n",
    "a.insert(1, 17) # isert at 2nd place\n",
    "print(a)  \n",
    "\n",
    "# remove\n",
    "a.remove(37)\n",
    "print(a)  \n",
    "\n",
    "# pop\n",
    "a.pop()\n",
    "print(a)  \n",
    "\n",
    "# reverse\n",
    "a.reverse()\n",
    "print(a)  \n",
    "\n",
    "# index\n",
    "c= a.index(41)\n",
    "print(c)\n",
    "\n",
    "# count\n",
    "b=a.count(11)\n",
    "print(b)\n",
    "\n",
    "# clear\n",
    "a.clear()\n",
    "print(a)"
   ]
  },
  {
   "cell_type": "markdown",
   "id": "ab90d9c8-6406-45eb-9f32-e42534434e7d",
   "metadata": {},
   "source": [
    "## Q.8. Write a code snippet in Python that takes a string as input and returns a tuple of tuples. Each inner tuple should contain a character from the input string and its corresponding ASCII value.\n",
    "\n",
    "Sample example: Input_string = \"Design\",  Output_tuple = (('D', 68), ('e', 101), ('s', 115), ('i', 105), ('g', 103),('n', 110) )"
   ]
  },
  {
   "cell_type": "code",
   "execution_count": 41,
   "id": "93aeadd6-d7f5-4008-84e4-c5957aa4059d",
   "metadata": {},
   "outputs": [
    {
     "name": "stdout",
     "output_type": "stream",
     "text": [
      "(('D', 68), ('e', 101), ('s', 115), ('i', 105), ('g', 103), ('n', 110))\n"
     ]
    }
   ],
   "source": [
    "str='Design'\n",
    "Lst=[]\n",
    "Lst1=[]\n",
    "for i in str:\n",
    "    Lst.append(i)\n",
    "    Lst1.append(ord(i))\n",
    "\n",
    "Lst2=list(zip(Lst,Lst1))\n",
    "tup=tuple(Lst2)\n",
    "print(tup)"
   ]
  },
  {
   "cell_type": "markdown",
   "id": "95751638-831d-4aa8-abbe-1b4ea2858958",
   "metadata": {},
   "source": [
    "## Q.9. Create a program that takes a list of tuples containing student name and roll number and returns a new list of tuples containing only those tuples whose first element is a vowel (a, e, i, o, u, A, E, I, O, U).\r\n",
    "\r\n",
    "Sample example: list_of_tuples = [(\"aditi\", 1), (\"tanya\", 2)], Output_list_of_tuples = [(\"aditi\", 1)]"
   ]
  },
  {
   "cell_type": "code",
   "execution_count": 51,
   "id": "ce62724d-f408-497e-9623-33a263940fcb",
   "metadata": {},
   "outputs": [
    {
     "name": "stdout",
     "output_type": "stream",
     "text": [
      "[('aditi', 11), ('Akanksha', 26)]\n"
     ]
    }
   ],
   "source": [
    "list_of_tuples= [(\"aditi\", 11), (\"tanya\", 14), (\"neha\", 16), (\"Akanksha\",26)]\n",
    "Output_list=[]\n",
    "for i in list_of_tuples:\n",
    "    if i[0][0] in 'aeiouAEIOU':\n",
    "        Output_list.append(i)\n",
    "\n",
    "print(Output_list)"
   ]
  },
  {
   "cell_type": "markdown",
   "id": "e9ab6a68-2702-4d71-b15b-7e8574438321",
   "metadata": {},
   "source": [
    "## Q.10.  Create a set of all numbers between 1 and 20 that are either divisible by 3 or 5, using set comprehension."
   ]
  },
  {
   "cell_type": "code",
   "execution_count": 54,
   "id": "10f0a579-3764-4c8d-9973-54ca2a6f86c9",
   "metadata": {},
   "outputs": [
    {
     "name": "stdout",
     "output_type": "stream",
     "text": [
      "{3, 5, 6, 9, 10, 12, 15, 18, 20}\n"
     ]
    }
   ],
   "source": [
    "set1={x for x in range(1,21) if x%3==0 or x%5==0}\n",
    "print(set1)"
   ]
  },
  {
   "cell_type": "markdown",
   "id": "14d90bc8-b0c1-435c-a4dd-9a9027f7f57e",
   "metadata": {},
   "source": [
    "## Q.11. What is a frozenset()? Give examples."
   ]
  },
  {
   "cell_type": "markdown",
   "id": "9ac720f7-6531-4391-8766-dc412d2d3124",
   "metadata": {},
   "source": [
    "Answer: A frozenset in Python is an immutable set. It is similar to a regular set, but once it is created, you cannot modify its elements i.e. you cannot add, remove, or update elements in a frozenset."
   ]
  },
  {
   "cell_type": "code",
   "execution_count": 56,
   "id": "18a9cb09-e039-42ed-b0e2-c3ccc3af2c2d",
   "metadata": {},
   "outputs": [
    {
     "name": "stdout",
     "output_type": "stream",
     "text": [
      "Frozen Set 1: frozenset({1, 2, 3, 4})\n",
      "Union: frozenset({1, 2, 3, 4, 5, 6})\n",
      "Intersection: frozenset({3, 4})\n"
     ]
    }
   ],
   "source": [
    "fr_set1 = frozenset([1, 2, 3, 4])\n",
    "print(\"Frozen Set 1:\", fr_set1)\n",
    "\n",
    "# Following command will show an error:\n",
    "# frozen_set1.add(5)\n",
    "\n",
    "# Operations like union, intersection, and difference, are supported in Frozensets\n",
    "fr_set2 = frozenset([3, 4, 5, 6])\n",
    "\n",
    "U = fr_set1.union(fr_set2)\n",
    "I = fr_set1.intersection(fr_set2)\n",
    "\n",
    "print(\"Union:\", U)\n",
    "print(\"Intersection:\", I)\n"
   ]
  },
  {
   "cell_type": "code",
   "execution_count": null,
   "id": "28e5b5b7-79c2-4310-9113-d3f15250286f",
   "metadata": {},
   "outputs": [],
   "source": []
  }
 ],
 "metadata": {
  "kernelspec": {
   "display_name": "Python 3 (ipykernel)",
   "language": "python",
   "name": "python3"
  },
  "language_info": {
   "codemirror_mode": {
    "name": "ipython",
    "version": 3
   },
   "file_extension": ".py",
   "mimetype": "text/x-python",
   "name": "python",
   "nbconvert_exporter": "python",
   "pygments_lexer": "ipython3",
   "version": "3.11.4"
  }
 },
 "nbformat": 4,
 "nbformat_minor": 5
}
