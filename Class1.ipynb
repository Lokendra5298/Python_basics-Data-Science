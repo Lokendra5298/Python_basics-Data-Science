{
 "cells": [
  {
   "cell_type": "code",
   "execution_count": 2,
   "id": "976d6fab-9558-4c09-81e3-ef0b789299f7",
   "metadata": {},
   "outputs": [
    {
     "name": "stdout",
     "output_type": "stream",
     "text": [
      "Maximum value is 10\n"
     ]
    }
   ],
   "source": [
    "# Maximum value function\n",
    "def max_val(a, b):\n",
    "    if a > b:\n",
    "        return a\n",
    "    else:\n",
    "        return b\n",
    "\n",
    "# Example usage:\n",
    "a=3\n",
    "b=10\n",
    "print('Maximum value is',max_val(a, b)) "
   ]
  },
  {
   "cell_type": "code",
   "execution_count": 3,
   "id": "8c9436af-baf1-44c1-8d8b-07a229b34db4",
   "metadata": {},
   "outputs": [
    {
     "name": "stdout",
     "output_type": "stream",
     "text": [
      "Minimum value is 3\n"
     ]
    }
   ],
   "source": [
    "# Minimum value function\n",
    "def min_val(a, b):\n",
    "    if a > b:\n",
    "        return b\n",
    "    else:\n",
    "        return a\n",
    "\n",
    "# Example usage:\n",
    "a=3\n",
    "b=10\n",
    "print('Minimum value is',min_val(a, b)) "
   ]
  },
  {
   "cell_type": "code",
   "execution_count": 4,
   "id": "74d939d6-5f61-4eaa-b514-6d830a2f7abf",
   "metadata": {},
   "outputs": [
    {
     "name": "stdout",
     "output_type": "stream",
     "text": [
      "Quotient: 3.4\n",
      "Remainder: 2\n"
     ]
    }
   ],
   "source": [
    "# find quotient and remainder\n",
    "def quotient_remainder(x, y):\n",
    "    quotient = round(x / y, 2)\n",
    "    remainder = round(x % y, 2)\n",
    "    return quotient, remainder\n",
    "\n",
    "x = 17\n",
    "y = 5\n",
    "quotient, remainder = quotient_remainder(x, y)\n",
    "\n",
    "print(f\"Quotient: {quotient}\")\n",
    "print(f\"Remainder: {remainder}\")\n"
   ]
  },
  {
   "cell_type": "code",
   "execution_count": 6,
   "id": "3f3681c3-e38d-4e0c-94c6-fc25d75c8e11",
   "metadata": {},
   "outputs": [
    {
     "data": {
      "text/plain": [
       "3"
      ]
     },
     "execution_count": 6,
     "metadata": {},
     "output_type": "execute_result"
    }
   ],
   "source": []
  },
  {
   "cell_type": "code",
   "execution_count": 7,
   "id": "91f1a3bc-748b-4713-a179-0642d57096a9",
   "metadata": {},
   "outputs": [
    {
     "name": "stdout",
     "output_type": "stream",
     "text": [
      "Square root of 25 is 5.0\n",
      "1.0471975511965976\n",
      "Help on built-in module math:\n",
      "\n",
      "NAME\n",
      "    math\n",
      "\n",
      "DESCRIPTION\n",
      "    This module provides access to the mathematical functions\n",
      "    defined by the C standard.\n",
      "\n",
      "FUNCTIONS\n",
      "    acos(x, /)\n",
      "        Return the arc cosine (measured in radians) of x.\n",
      "        \n",
      "        The result is between 0 and pi.\n",
      "    \n",
      "    acosh(x, /)\n",
      "        Return the inverse hyperbolic cosine of x.\n",
      "    \n",
      "    asin(x, /)\n",
      "        Return the arc sine (measured in radians) of x.\n",
      "        \n",
      "        The result is between -pi/2 and pi/2.\n",
      "    \n",
      "    asinh(x, /)\n",
      "        Return the inverse hyperbolic sine of x.\n",
      "    \n",
      "    atan(x, /)\n",
      "        Return the arc tangent (measured in radians) of x.\n",
      "        \n",
      "        The result is between -pi/2 and pi/2.\n",
      "    \n",
      "    atan2(y, x, /)\n",
      "        Return the arc tangent (measured in radians) of y/x.\n",
      "        \n",
      "        Unlike atan(y/x), the signs of both x and y are considered.\n",
      "    \n",
      "    atanh(x, /)\n",
      "        Return the inverse hyperbolic tangent of x.\n",
      "    \n",
      "    cbrt(x, /)\n",
      "        Return the cube root of x.\n",
      "    \n",
      "    ceil(x, /)\n",
      "        Return the ceiling of x as an Integral.\n",
      "        \n",
      "        This is the smallest integer >= x.\n",
      "    \n",
      "    comb(n, k, /)\n",
      "        Number of ways to choose k items from n items without repetition and without order.\n",
      "        \n",
      "        Evaluates to n! / (k! * (n - k)!) when k <= n and evaluates\n",
      "        to zero when k > n.\n",
      "        \n",
      "        Also called the binomial coefficient because it is equivalent\n",
      "        to the coefficient of k-th term in polynomial expansion of the\n",
      "        expression (1 + x)**n.\n",
      "        \n",
      "        Raises TypeError if either of the arguments are not integers.\n",
      "        Raises ValueError if either of the arguments are negative.\n",
      "    \n",
      "    copysign(x, y, /)\n",
      "        Return a float with the magnitude (absolute value) of x but the sign of y.\n",
      "        \n",
      "        On platforms that support signed zeros, copysign(1.0, -0.0)\n",
      "        returns -1.0.\n",
      "    \n",
      "    cos(x, /)\n",
      "        Return the cosine of x (measured in radians).\n",
      "    \n",
      "    cosh(x, /)\n",
      "        Return the hyperbolic cosine of x.\n",
      "    \n",
      "    degrees(x, /)\n",
      "        Convert angle x from radians to degrees.\n",
      "    \n",
      "    dist(p, q, /)\n",
      "        Return the Euclidean distance between two points p and q.\n",
      "        \n",
      "        The points should be specified as sequences (or iterables) of\n",
      "        coordinates.  Both inputs must have the same dimension.\n",
      "        \n",
      "        Roughly equivalent to:\n",
      "            sqrt(sum((px - qx) ** 2.0 for px, qx in zip(p, q)))\n",
      "    \n",
      "    erf(x, /)\n",
      "        Error function at x.\n",
      "    \n",
      "    erfc(x, /)\n",
      "        Complementary error function at x.\n",
      "    \n",
      "    exp(x, /)\n",
      "        Return e raised to the power of x.\n",
      "    \n",
      "    exp2(x, /)\n",
      "        Return 2 raised to the power of x.\n",
      "    \n",
      "    expm1(x, /)\n",
      "        Return exp(x)-1.\n",
      "        \n",
      "        This function avoids the loss of precision involved in the direct evaluation of exp(x)-1 for small x.\n",
      "    \n",
      "    fabs(x, /)\n",
      "        Return the absolute value of the float x.\n",
      "    \n",
      "    factorial(n, /)\n",
      "        Find n!.\n",
      "        \n",
      "        Raise a ValueError if x is negative or non-integral.\n",
      "    \n",
      "    floor(x, /)\n",
      "        Return the floor of x as an Integral.\n",
      "        \n",
      "        This is the largest integer <= x.\n",
      "    \n",
      "    fmod(x, y, /)\n",
      "        Return fmod(x, y), according to platform C.\n",
      "        \n",
      "        x % y may differ.\n",
      "    \n",
      "    frexp(x, /)\n",
      "        Return the mantissa and exponent of x, as pair (m, e).\n",
      "        \n",
      "        m is a float and e is an int, such that x = m * 2.**e.\n",
      "        If x is 0, m and e are both 0.  Else 0.5 <= abs(m) < 1.0.\n",
      "    \n",
      "    fsum(seq, /)\n",
      "        Return an accurate floating point sum of values in the iterable seq.\n",
      "        \n",
      "        Assumes IEEE-754 floating point arithmetic.\n",
      "    \n",
      "    gamma(x, /)\n",
      "        Gamma function at x.\n",
      "    \n",
      "    gcd(*integers)\n",
      "        Greatest Common Divisor.\n",
      "    \n",
      "    hypot(...)\n",
      "        hypot(*coordinates) -> value\n",
      "        \n",
      "        Multidimensional Euclidean distance from the origin to a point.\n",
      "        \n",
      "        Roughly equivalent to:\n",
      "            sqrt(sum(x**2 for x in coordinates))\n",
      "        \n",
      "        For a two dimensional point (x, y), gives the hypotenuse\n",
      "        using the Pythagorean theorem:  sqrt(x*x + y*y).\n",
      "        \n",
      "        For example, the hypotenuse of a 3/4/5 right triangle is:\n",
      "        \n",
      "            >>> hypot(3.0, 4.0)\n",
      "            5.0\n",
      "    \n",
      "    isclose(a, b, *, rel_tol=1e-09, abs_tol=0.0)\n",
      "        Determine whether two floating point numbers are close in value.\n",
      "        \n",
      "          rel_tol\n",
      "            maximum difference for being considered \"close\", relative to the\n",
      "            magnitude of the input values\n",
      "          abs_tol\n",
      "            maximum difference for being considered \"close\", regardless of the\n",
      "            magnitude of the input values\n",
      "        \n",
      "        Return True if a is close in value to b, and False otherwise.\n",
      "        \n",
      "        For the values to be considered close, the difference between them\n",
      "        must be smaller than at least one of the tolerances.\n",
      "        \n",
      "        -inf, inf and NaN behave similarly to the IEEE 754 Standard.  That\n",
      "        is, NaN is not close to anything, even itself.  inf and -inf are\n",
      "        only close to themselves.\n",
      "    \n",
      "    isfinite(x, /)\n",
      "        Return True if x is neither an infinity nor a NaN, and False otherwise.\n",
      "    \n",
      "    isinf(x, /)\n",
      "        Return True if x is a positive or negative infinity, and False otherwise.\n",
      "    \n",
      "    isnan(x, /)\n",
      "        Return True if x is a NaN (not a number), and False otherwise.\n",
      "    \n",
      "    isqrt(n, /)\n",
      "        Return the integer part of the square root of the input.\n",
      "    \n",
      "    lcm(*integers)\n",
      "        Least Common Multiple.\n",
      "    \n",
      "    ldexp(x, i, /)\n",
      "        Return x * (2**i).\n",
      "        \n",
      "        This is essentially the inverse of frexp().\n",
      "    \n",
      "    lgamma(x, /)\n",
      "        Natural logarithm of absolute value of Gamma function at x.\n",
      "    \n",
      "    log(...)\n",
      "        log(x, [base=math.e])\n",
      "        Return the logarithm of x to the given base.\n",
      "        \n",
      "        If the base not specified, returns the natural logarithm (base e) of x.\n",
      "    \n",
      "    log10(x, /)\n",
      "        Return the base 10 logarithm of x.\n",
      "    \n",
      "    log1p(x, /)\n",
      "        Return the natural logarithm of 1+x (base e).\n",
      "        \n",
      "        The result is computed in a way which is accurate for x near zero.\n",
      "    \n",
      "    log2(x, /)\n",
      "        Return the base 2 logarithm of x.\n",
      "    \n",
      "    modf(x, /)\n",
      "        Return the fractional and integer parts of x.\n",
      "        \n",
      "        Both results carry the sign of x and are floats.\n",
      "    \n",
      "    nextafter(x, y, /)\n",
      "        Return the next floating-point value after x towards y.\n",
      "    \n",
      "    perm(n, k=None, /)\n",
      "        Number of ways to choose k items from n items without repetition and with order.\n",
      "        \n",
      "        Evaluates to n! / (n - k)! when k <= n and evaluates\n",
      "        to zero when k > n.\n",
      "        \n",
      "        If k is not specified or is None, then k defaults to n\n",
      "        and the function returns n!.\n",
      "        \n",
      "        Raises TypeError if either of the arguments are not integers.\n",
      "        Raises ValueError if either of the arguments are negative.\n",
      "    \n",
      "    pow(x, y, /)\n",
      "        Return x**y (x to the power of y).\n",
      "    \n",
      "    prod(iterable, /, *, start=1)\n",
      "        Calculate the product of all the elements in the input iterable.\n",
      "        \n",
      "        The default start value for the product is 1.\n",
      "        \n",
      "        When the iterable is empty, return the start value.  This function is\n",
      "        intended specifically for use with numeric values and may reject\n",
      "        non-numeric types.\n",
      "    \n",
      "    radians(x, /)\n",
      "        Convert angle x from degrees to radians.\n",
      "    \n",
      "    remainder(x, y, /)\n",
      "        Difference between x and the closest integer multiple of y.\n",
      "        \n",
      "        Return x - n*y where n*y is the closest integer multiple of y.\n",
      "        In the case where x is exactly halfway between two multiples of\n",
      "        y, the nearest even value of n is used. The result is always exact.\n",
      "    \n",
      "    sin(x, /)\n",
      "        Return the sine of x (measured in radians).\n",
      "    \n",
      "    sinh(x, /)\n",
      "        Return the hyperbolic sine of x.\n",
      "    \n",
      "    sqrt(x, /)\n",
      "        Return the square root of x.\n",
      "    \n",
      "    tan(x, /)\n",
      "        Return the tangent of x (measured in radians).\n",
      "    \n",
      "    tanh(x, /)\n",
      "        Return the hyperbolic tangent of x.\n",
      "    \n",
      "    trunc(x, /)\n",
      "        Truncates the Real x to the nearest Integral toward 0.\n",
      "        \n",
      "        Uses the __trunc__ magic method.\n",
      "    \n",
      "    ulp(x, /)\n",
      "        Return the value of the least significant bit of the float x.\n",
      "\n",
      "DATA\n",
      "    e = 2.718281828459045\n",
      "    inf = inf\n",
      "    nan = nan\n",
      "    pi = 3.141592653589793\n",
      "    tau = 6.283185307179586\n",
      "\n",
      "FILE\n",
      "    (built-in)\n",
      "\n",
      "\n"
     ]
    }
   ],
   "source": [
    "import math\n",
    "\n",
    "a = 25\n",
    "sqrt_result = math.sqrt(a)\n",
    "print(f\"Square root of {a} is {sqrt_result}\")\n",
    "pi=math.pi\n",
    "b=pi/3\n",
    "print(b)\n",
    "help(math)"
   ]
  },
  {
   "cell_type": "code",
   "execution_count": 13,
   "id": "b1d5f203-0a31-4886-8210-1e6b10f72547",
   "metadata": {},
   "outputs": [
    {
     "name": "stdout",
     "output_type": "stream",
     "text": [
      "Cosine of 45 is 0.5253219888177297\n",
      "Cosine of 0.7853981633974483 is 0.7071067811865476\n",
      "Help on built-in function cos in module math:\n",
      "\n",
      "cos(x, /)\n",
      "    Return the cosine of x (measured in radians).\n",
      "\n"
     ]
    }
   ],
   "source": [
    "from math import cos\n",
    "\n",
    "pi = math.pi\n",
    "a = 45  # in degrees\n",
    "b = pi/4\n",
    "c = cos(a)\n",
    "d = cos(b)\n",
    "print(f\"Cosine of {a} is {c}\")\n",
    "print(f\"Cosine of {b} is {d}\")\n",
    "help(cos)"
   ]
  },
  {
   "cell_type": "code",
   "execution_count": 2,
   "id": "21ee480a-31c1-4ae0-a06d-1dbbc8c89ea1",
   "metadata": {},
   "outputs": [
    {
     "name": "stdout",
     "output_type": "stream",
     "text": [
      "Length of the string: 23\n",
      "String after rstrip(): '   Hello, New World!'\n",
      "Partitioned result: ('   Hello', ',', ' New World!   ')\n",
      "String representation of 42: '42'\n",
      "Character representation of Unicode code point 65: 'A'\n",
      "Unicode code point of character 'A': 65\n",
      "Index of 'World' in the original string: 14\n"
     ]
    }
   ],
   "source": [
    "def demonstrate_string_functions():\n",
    "    # Sample string\n",
    "    original_string = \"   Hello, New World!   \"\n",
    "\n",
    "    # len(): Length of the string\n",
    "    length = len(original_string)\n",
    "    print(f\"Length of the string: {length}\")\n",
    "\n",
    "    # rstrip(): Remove trailing whitespaces\n",
    "    stripped_string = original_string.rstrip()\n",
    "    print(f\"String after rstrip(): '{stripped_string}'\")\n",
    "\n",
    "    # partition(): Split the string into three parts based on the first occurrence of a separator\n",
    "    partitioned_result = original_string.partition(',')\n",
    "    print(f\"Partitioned result: {partitioned_result}\")\n",
    "\n",
    "    # str(): Convert to string\n",
    "    number = 42\n",
    "    string_representation = str(number)\n",
    "    print(f\"String representation of {number}: '{string_representation}'\")\n",
    "\n",
    "    # chr(): Convert Unicode code point to character\n",
    "    unicode_code_point = 65\n",
    "    character = chr(unicode_code_point)\n",
    "    print(f\"Character representation of Unicode code point {unicode_code_point}: '{character}'\")\n",
    "\n",
    "    # ord(): Convert character to Unicode code point\n",
    "    char_to_convert = 'A'\n",
    "    unicode_value = ord(char_to_convert)\n",
    "    print(f\"Unicode code point of character '{char_to_convert}': {unicode_value}\")\n",
    "\n",
    "    # index(): Find the index of a substring\n",
    "    substring = \"World\"\n",
    "    index = original_string.index(substring)\n",
    "    print(f\"Index of '{substring}' in the original string: {index}\")\n",
    "\n",
    "\n",
    "# Calling the function to demonstrate the string functions\n",
    "demonstrate_string_functions()\n"
   ]
  },
  {
   "cell_type": "code",
   "execution_count": 4,
   "id": "88499761-89c2-40d2-93b0-501ca012b5ca",
   "metadata": {},
   "outputs": [
    {
     "name": "stdout",
     "output_type": "stream",
     "text": [
      "Index of 'World': 13\n"
     ]
    }
   ],
   "source": [
    "# Original string\n",
    "original_string = \"Hello,  Real World!\"\n",
    "\n",
    "# Find the index of the substring \"World\"\n",
    "index_world = original_string.index(\"World\")\n",
    "print(\"Index of 'World':\", index_world)"
   ]
  },
  {
   "cell_type": "code",
   "execution_count": 5,
   "id": "49ec0485-66db-4b71-b61e-23c70b0a6b0a",
   "metadata": {},
   "outputs": [
    {
     "name": "stdout",
     "output_type": "stream",
     "text": [
      "Original String: This\\is\\a\\sample\\\\string with spaces\n",
      "Split Result: ['This', 'is', 'a', 'sample', '', 'string', 'with', 'spaces']\n"
     ]
    }
   ],
   "source": [
    "def custom_split(input_string):\n",
    "    separators = ['\\\\', '\\\\\\\\', ' ']\n",
    "    result = input_string.split(separators[0])\n",
    "    \n",
    "    # Split at the remaining separators\n",
    "    for separator in separators[1:]:\n",
    "        result = [item for sublist in result for item in sublist.split(separator)]\n",
    "    \n",
    "    return result\n",
    "\n",
    "# Example usage\n",
    "input_string = \"This\\\\is\\\\a\\\\sample\\\\\\\\string with spaces\"\n",
    "result_list = custom_split(input_string)\n",
    "\n",
    "# Print the result\n",
    "print(\"Original String:\", input_string)\n",
    "print(\"Split Result:\", result_list)\n"
   ]
  },
  {
   "cell_type": "code",
   "execution_count": 11,
   "id": "6bd7b0cc-1957-47b1-be24-120b9e149222",
   "metadata": {},
   "outputs": [
    {
     "name": "stdout",
     "output_type": "stream",
     "text": [
      "42 | 55 | 3.14 | Hello, New World! *** "
     ]
    }
   ],
   "source": [
    "import sys\n",
    "\n",
    "# Example objects of different data types\n",
    "integer_value = 42\n",
    "x = 55\n",
    "float_value = 3.14\n",
    "string_value = \"Hello, New World!\"\n",
    "\n",
    "# Using the print statement with specified parameters\n",
    "print(integer_value, x, float_value, string_value, sep=' | ', end=' *** ', file=sys.stdout, flush=False)\n"
   ]
  },
  {
   "cell_type": "code",
   "execution_count": 12,
   "id": "df5e4ce6-11bc-4b44-aedd-f9ed83b7594c",
   "metadata": {},
   "outputs": [
    {
     "name": "stdout",
     "output_type": "stream",
     "text": [
      "True\n"
     ]
    }
   ],
   "source": [
    "# Example with any()\n",
    "list_of_numbers = [0, 5, 7, 0]\n",
    "\n",
    "result_any = any(list_of_numbers)\n",
    "\n",
    "print(result_any)  # Output: True (because at least one element, 3, is True)\n"
   ]
  },
  {
   "cell_type": "code",
   "execution_count": 13,
   "id": "6b3a7996-4b72-4753-a7b2-6f610b4b3aee",
   "metadata": {},
   "outputs": [
    {
     "name": "stdout",
     "output_type": "stream",
     "text": [
      "False\n"
     ]
    }
   ],
   "source": [
    "# Example with all()\n",
    "list_of_numbers = [0, 3, 5, 7, 0]\n",
    "\n",
    "result_all = all(list_of_numbers)\n",
    "\n",
    "print(result_all)  # Output: False (because there is at least one element, 0, that is False)\n"
   ]
  },
  {
   "cell_type": "code",
   "execution_count": null,
   "id": "75cd39be-8735-43e2-b3d7-9118f8d87e63",
   "metadata": {},
   "outputs": [],
   "source": []
  }
 ],
 "metadata": {
  "kernelspec": {
   "display_name": "Python 3 (ipykernel)",
   "language": "python",
   "name": "python3"
  },
  "language_info": {
   "codemirror_mode": {
    "name": "ipython",
    "version": 3
   },
   "file_extension": ".py",
   "mimetype": "text/x-python",
   "name": "python",
   "nbconvert_exporter": "python",
   "pygments_lexer": "ipython3",
   "version": "3.11.4"
  }
 },
 "nbformat": 4,
 "nbformat_minor": 5
}
