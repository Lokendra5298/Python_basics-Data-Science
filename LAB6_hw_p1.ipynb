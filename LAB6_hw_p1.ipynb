{
 "cells": [
  {
   "cell_type": "markdown",
   "id": "a4b92f8a-34e4-4b59-bf96-ec689f2034fb",
   "metadata": {},
   "source": [
    "## Q.1 Design a class named Polygon that initializes with the length of a side. Then, derive a class named Square from the Polygon class. Utilize the side length defined in the Polygon class for the Square class. Within the Square class, implement a method called findArea() that calculates and returns the square's area based on its side length. Use __init__() for necessary initialization"
   ]
  },
  {
   "cell_type": "code",
   "execution_count": 15,
   "id": "b59e5808-5fbb-492b-b4cf-7cda6cd748f3",
   "metadata": {},
   "outputs": [
    {
     "name": "stdout",
     "output_type": "stream",
     "text": [
      "Length of side is 5\n",
      "Area of square is = 25\n"
     ]
    }
   ],
   "source": [
    "class Polygon:\n",
    "    def __init__(self, side_length = 0):\n",
    "        self.side_length = side_length\n",
    "        \n",
    "    def printout(self):\n",
    "        print('Length of side is', self.side_length)\n",
    "\n",
    "class Square(Polygon):\n",
    "    def __init__(self, side_length = 0):\n",
    "        # Calling the base class constructor\n",
    "        super().__init__(side_length)\n",
    "        self.side_length1 = side_length\n",
    "        \n",
    "    def findArea(self):\n",
    "        A = (self.side_length)**2\n",
    "        return A\n",
    "        \n",
    "    def printout(self):\n",
    "        # Call the base class printout method\n",
    "        super().printout()\n",
    "        \n",
    "o1 = Square(5)\n",
    "o1.printout()\n",
    "a = o1.findArea()\n",
    "print('Area of square is =', a)"
   ]
  },
  {
   "cell_type": "markdown",
   "id": "9d9eccc4-b5f9-4655-b0ee-afcce1f936c0",
   "metadata": {},
   "source": [
    "## Q.2.  (a)  Create a class Father with attributes\n",
    "\n",
    "                    - father_name (string), father_age (int), father_talents (set of strings)\n",
    "\n",
    "                Create a class Mother with attributes:\n",
    "\n",
    "                    - mother_name (string), mother_age (int), mother_talents (set of strings)\n",
    "\n",
    "                 Create a class Child that inherits both father and mother with attributes: \n",
    "\n",
    "                    - child_name (string), child_age (int), child_gender(string)\n",
    "\n",
    "          (b) Create a function getChildDetails() in Child to input the details of the child, it’s father and mother and printChildDetails() to print the details using     printChildDetails()\n",
    "\n",
    "          (c) Create an object of class Child and read the details by invoking getChildDetails() and display the details entered.\r\n",
    "\r\n",
    "          (d) Create a function displayTalents() in class Child that displays the talents of the child inherited from father and mother. A talent is inherited to a child if both\r\n",
    "\r\n",
    "              the parents possess it."
   ]
  },
  {
   "cell_type": "code",
   "execution_count": 31,
   "id": "91dfd280-78ed-43d9-9b3a-e9d1046a0fe0",
   "metadata": {},
   "outputs": [
    {
     "name": "stdin",
     "output_type": "stream",
     "text": [
      "Enter child name:  Shailendra\n",
      "Enter child age:  14\n",
      "Enter child gender:  Male\n",
      "Enter Father name:  Jagram Prajapati\n",
      "Enter Father age: 46\n",
      "Enter Father Talent:  Teaching\n",
      "Enter Mother name:  Sampat Devi\n",
      "Enter Mother age:  42\n",
      "Enter Mother Talent:  Housewife\n"
     ]
    },
    {
     "name": "stdout",
     "output_type": "stream",
     "text": [
      "Father name =  Jagram Prajapati ,  Father age =  46 ,  Father talents =  Teaching\n",
      "Mother name =  Sampat Devi ,  Mother age =  42 ,  Mother talents =  Housewife\n",
      "Child name =  Shailendra ,  Child age =  14 ,  Child gender =  Male\n",
      "No common talents inherited.\n"
     ]
    }
   ],
   "source": [
    "class Father:\n",
    "    # Constructor\n",
    "    def __init__(self, father_name='', father_age=0, father_talents=''):\n",
    "        self.father_name = father_name\n",
    "        self.father_age = father_age\n",
    "        self.father_talents = father_talents\n",
    "\n",
    "    def printFatherDetails(self):\n",
    "        print('Father name = ', self.father_name, \", \", 'Father age = ', self.father_age, \", \", 'Father talents = ',\n",
    "              self.father_talents)\n",
    "\n",
    "\n",
    "class Mother:\n",
    "    # Constructor\n",
    "    def __init__(self, mother_name='', mother_age=0, mother_talents=''):\n",
    "        self.mother_name = mother_name\n",
    "        self.mother_age = mother_age\n",
    "        self.mother_talents = mother_talents\n",
    "\n",
    "    def printMotherDetails(self):\n",
    "        print('Mother name = ', self.mother_name, \", \", 'Mother age = ', self.mother_age, \", \", 'Mother talents = ',\n",
    "              self.mother_talents)\n",
    "\n",
    "\n",
    "class Child(Father, Mother):\n",
    "    def __init__(self, child_name='', child_age=0, child_gender=''):\n",
    "        # Calling the constructors of both base classes\n",
    "        Father.__init__(self)\n",
    "        Mother.__init__(self)\n",
    "        self.child_name = child_name\n",
    "        self.child_age = child_age\n",
    "        self.child_gender = child_gender\n",
    "\n",
    "    def getChildDetails(self):\n",
    "        self.child_name = input('Enter child name: ')\n",
    "        self.child_age = input('Enter child age: ')\n",
    "        self.child_gender = input('Enter child gender: ')\n",
    "        self.father_name = input('Enter Father name: ')\n",
    "        self.father_age = input('Enter Father age:')\n",
    "        self.father_talents = input('Enter Father Talent: ')\n",
    "        self.mother_name = input('Enter Mother name: ')\n",
    "        self.mother_age = input('Enter Mother age: ')\n",
    "        self.mother_talents = input('Enter Mother Talent: ')\n",
    "\n",
    "    # Printing the data\n",
    "    def printChildDetails(self):\n",
    "        Father.printFatherDetails(self)\n",
    "        Mother.printMotherDetails(self)\n",
    "        print('Child name = ', self.child_name, \", \", 'Child age = ', self.child_age, \", \", 'Child gender = ',\n",
    "              self.child_gender)\n",
    "\n",
    "    def displayTalents(self):\n",
    "        if self.father_talents == self.mother_talents:\n",
    "            print('Inherited talents: ', self.father_talents)\n",
    "        else:\n",
    "            print('No common talents inherited.')\n",
    "\n",
    "\n",
    "s = Child()\n",
    "# Read details by invoking getChildDetails()\n",
    "s.getChildDetails()\n",
    "# Display the details entered using printChildDetails()\n",
    "s.printChildDetails()\n",
    "# Display inherited talents using displayTalents()\n",
    "s.displayTalents()\n"
   ]
  },
  {
   "cell_type": "markdown",
   "id": "e703be27-90e9-4542-b454-2a718cca2d4c",
   "metadata": {},
   "source": [
    "## Q.3.  Text File Input Output Create a .txt (text) file and use the pledge of India as the content of the text file.\n",
    "\n",
    "         Write a python program that reads this text file, processes it by counting the number of occurrences of each word in the file, and then writes the result back to a new text file."
   ]
  },
  {
   "cell_type": "code",
   "execution_count": 1,
   "id": "b7e0bd20-29df-494c-9764-c21b23cd99a2",
   "metadata": {},
   "outputs": [
    {
     "name": "stdout",
     "output_type": "stream",
     "text": [
      "Word counts are in the file 'word_counts.txt'.\n"
     ]
    }
   ],
   "source": [
    "pledge1 = 'India is my country, and I am proud to be an Indian.\\n'\n",
    "pledge2 = 'I shall always strive to be worthy of it and to preserve its rich heritage.\\n'\n",
    "pledge3 = 'I shall defend it with all my strength and contribute to its glory in every way I can.\\n'\n",
    "\n",
    "f = open('india_pledge.txt','w')\n",
    "f.write(pledge1)\n",
    "f.write(pledge2)\n",
    "f.write(pledge3)\n",
    "f.close()\n",
    "\n",
    "def count_words(text):\n",
    "    # Split text into words\n",
    "    words = text.split()\n",
    "    word_counts = {}\n",
    "    for i in words:\n",
    "        word_counts[i] = word_counts.get(i, 0) + 1\n",
    "\n",
    "    return word_counts\n",
    "\n",
    "# Read content from the file\n",
    "with open('india_pledge.txt', 'r') as file:\n",
    "    file_content = file.read()\n",
    "\n",
    "# Count occurrences of each word\n",
    "word_counts = count_words(file_content)\n",
    "\n",
    "# Write the results to a new text file\n",
    "with open('word_counts.txt', 'w') as output_file:\n",
    "    for word, count in word_counts.items():\n",
    "        output_file.write(f\"{word}: {count}\\n\")\n",
    "\n",
    "print(\"Word counts are in the file 'word_counts.txt'.\")\n"
   ]
  },
  {
   "cell_type": "markdown",
   "id": "7f45770f-2388-4ee6-8d7e-858e4bc92725",
   "metadata": {},
   "source": [
    "## Q.4.  For a restaurant, create a parent class ‘Bill’ which has the properties as ‘Customer  name’, ‘Table Number’ and ‘Order’ of which the name, order are strings and table  number is a positive integer. Define a method to extract the order details from the string and return a 2-D array of ordered items & their number. Create a child class ‘ 'Restaurant Bill’ which has a property called ‘Price list’ of the items and has a method to calculate the total bill amount by using the price list and order details. Also have a   method to print the complete bill for the customer including taxes and service charges.\n",
    "\n",
    "     The strings will be of the following format:\n",
    "\n",
    "     #Name: “Akshay” (Name of the customer)\n",
    "\n",
    "     #Table Number: 7 (Table Number)\n",
    "\n",
    "     #Order: “Item1x1,Item2x3,Item3x1,…” (ItemxNumber needed)\n",
    "\n",
    "     #Price List: “Item1-100,Item2-70,Item3-250,...” (Item-Price)"
   ]
  },
  {
   "cell_type": "code",
   "execution_count": 2,
   "id": "1bb06790-3693-4aa8-9f2d-c4a68ce2ff64",
   "metadata": {},
   "outputs": [
    {
     "name": "stdout",
     "output_type": "stream",
     "text": [
      "[['Item1', '1'], ['Item2', '3'], ['Item3', '1']]\n",
      "customer name:  Akshay\n",
      "table number:  7\n",
      "Total bill is = 590\n"
     ]
    }
   ],
   "source": [
    "class Bill:\n",
    "    def __init__(self, customer_name='', table_number=0, order=''):\n",
    "        if table_number > 0:\n",
    "            self.customer_name = customer_name\n",
    "            self.table_number = table_number\n",
    "            self.order = order\n",
    "        else:\n",
    "            print('Table_Number is not a positive number')\n",
    "\n",
    "    def extract_order_details(self):\n",
    "        items = self.order.split(\",\")\n",
    "        ret = []\n",
    "        for i in items:\n",
    "            iname, qty = i.split(\"x\")\n",
    "            ret.append([iname.strip(), qty])\n",
    "        return ret\n",
    "\n",
    "class Restaurant_Bill(Bill):\n",
    "    def __init__(self, customer_name='', table_number=0, order='', Price_list=''):\n",
    "        super().__init__(customer_name, table_number, order)\n",
    "        self.Price_list = dict(item.split('-') for item in Price_list.split(','))\n",
    "\n",
    "    def calculate_bill(self):\n",
    "        total_bill = 0\n",
    "        order_details = self.extract_order_details()\n",
    "        for itm, q in order_details:\n",
    "            if itm in self.Price_list:\n",
    "                total_bill = total_bill + int(self.Price_list[itm]) * int(q)\n",
    "        return total_bill\n",
    "\n",
    "    def complete_bill(self, tax=10, service=20):\n",
    "        self.tax = tax\n",
    "        self.service = service\n",
    "\n",
    "        print('customer name: ', self.customer_name)\n",
    "        print('table number: ', self.table_number)\n",
    "        total_bill = self.calculate_bill() + self.tax + self.service\n",
    "        print('Total bill is =',total_bill)\n",
    "\n",
    "obj = Restaurant_Bill('Akshay', 7, 'Item1x1, Item2x3, Item3x1', 'Item1-100,Item2-70,Item3-250')\n",
    "order_details = obj.extract_order_details()\n",
    "print(order_details)\n",
    "\n",
    "obj.complete_bill()\n"
   ]
  },
  {
   "cell_type": "markdown",
   "id": "8c6a926c-48ea-4512-8c1d-5bfb0ee098ec",
   "metadata": {},
   "source": [
    "## Q.5. For the previous question( restaurant Bill) - take name, table no, order details from a file, price list from another file and print the whole bill to the new file.\n"
   ]
  },
  {
   "cell_type": "code",
   "execution_count": 116,
   "id": "13e9da69-1099-4c81-a0c9-802540daa926",
   "metadata": {},
   "outputs": [
    {
     "name": "stdout",
     "output_type": "stream",
     "text": [
      " name : Lokendra\n",
      "  table number : 16 \n",
      " order detail : Item1x1, Item2x3, Item3x1\n"
     ]
    }
   ],
   "source": [
    "msg2= ' name : Lokendra'\n",
    "msg3 = '\\n  table number : 16 '\n",
    "msg4 = '\\n order detail : Item1x1, Item2x3, Item3x1'\n",
    "\n",
    "f=open('customerdetails.txt','w')\n",
    "f.write(msg2)\n",
    "f.write(msg3)\n",
    "f.write(msg4)\n",
    "f.close()\n",
    "\n",
    "f=open('customerdetails.txt','r')\n",
    "data=f.read()\n",
    "print(data)\n",
    "\n"
   ]
  },
  {
   "cell_type": "code",
   "execution_count": 117,
   "id": "9a473843-289c-49e2-86b7-24c04d9995a6",
   "metadata": {},
   "outputs": [
    {
     "name": "stdout",
     "output_type": "stream",
     "text": [
      "{\"dal\": 150, \"roti\": 100, \"veg\": 250}\n"
     ]
    }
   ],
   "source": [
    "msg6= '{\"dal\": 150, \"roti\": 100, \"veg\": 250}'\n",
    "\n",
    "f=open('pricelist.txt','w')\n",
    "f.write(msg6)\n",
    "\n",
    "\n",
    "f.close()\n",
    "\n",
    "f=open('pricelist.txt','r')\n",
    "data=f.read()\n",
    "print(data)\n"
   ]
  },
  {
   "cell_type": "code",
   "execution_count": 3,
   "id": "f620ae57-596e-49ca-98d6-874f738e7995",
   "metadata": {},
   "outputs": [
    {
     "name": "stdout",
     "output_type": "stream",
     "text": [
      "Customer name: Lokendra\n",
      "Table number: 16\n",
      "Order details:\n",
      "- Item1: 1\n",
      "- Item2: 3\n",
      "- Item3: 1\n",
      "Bill amount: 0\n",
      "Tax charge: 0.0\n",
      "Service charge: 0.0\n",
      "Grand total: 0.0\n",
      "\n"
     ]
    }
   ],
   "source": [
    "class Bill:\n",
    "    def __init__(self, cname, table_no, order):\n",
    "        self.cname = cname\n",
    "        self.table_no = table_no\n",
    "        self.order = order\n",
    "\n",
    "    def getdetails(self):\n",
    "        ord = []\n",
    "        sd = self.order.split(',')\n",
    "        for df in sd:\n",
    "            item, quantity = df.split('x')\n",
    "            ord.append([item.strip(), int(quantity)])\n",
    "\n",
    "        return ord\n",
    "\n",
    "class Restaurant_bill(Bill):\n",
    "    def __init__(self, cname, table_no, order, price_list):\n",
    "        super().__init__(cname, table_no, order)\n",
    "        self.price_list = price_list\n",
    "\n",
    "    def calculate_bill(self):\n",
    "        total_bill = 0\n",
    "        order_details = self.getdetails()\n",
    "        for item, quantity in order_details:\n",
    "            if item in self.price_list:\n",
    "                total_bill += self.price_list[item] * quantity\n",
    "\n",
    "        return total_bill\n",
    "\n",
    "    def complete_bill(self, tax=0.1, service=0.05):\n",
    "        self.tax = tax\n",
    "        self.service = service\n",
    "\n",
    "        with open('complete_bill.txt', 'w') as file:\n",
    "            file.write(\"Customer name: {}\\n\".format(self.cname))\n",
    "            file.write(\"Table number: {}\\n\".format(self.table_no))\n",
    "            file.write(\"Order details:\\n\")\n",
    "            order_details = self.getdetails()\n",
    "            for item, quantity in order_details:\n",
    "                file.write(\"- {}: {}\\n\".format(item, quantity))\n",
    "            bill_amount = self.calculate_bill()\n",
    "            file.write(\"Bill amount: {}\\n\".format(bill_amount))\n",
    "            file.write(\"Tax charge: {}\\n\".format(bill_amount * tax))\n",
    "            file.write(\"Service charge: {}\\n\".format(bill_amount * service))\n",
    "            grand_total = bill_amount + bill_amount * tax + bill_amount * service\n",
    "            file.write(\"Grand total: {}\\n\".format(grand_total))\n",
    "\n",
    "\n",
    "# Read customer details from file\n",
    "with open('customerdetails.txt', 'r') as file:\n",
    "    customer_data = file.read().splitlines()\n",
    "cname = customer_data[0].split(': ')[1].strip()\n",
    "table_no = int(customer_data[1].split(': ')[1].strip())\n",
    "order = customer_data[2].split(': ')[1].strip()\n",
    "\n",
    "# Read price list from file\n",
    "with open('pricelist.txt', 'r') as file:\n",
    "    price_list_str = file.read()\n",
    "price_list = eval(price_list_str)\n",
    "\n",
    "# Create RestaurantBill object\n",
    "bill = Restaurant_bill(cname, table_no, order, price_list)\n",
    "\n",
    "# Print complete bill to new file\n",
    "bill.complete_bill()\n",
    "\n",
    "f=open('complete_bill.txt','r')\n",
    "data=f.read()\n",
    "print(data)"
   ]
  },
  {
   "cell_type": "code",
   "execution_count": null,
   "id": "0ed763f1-c5fd-407f-a14c-49846fe7cd93",
   "metadata": {},
   "outputs": [],
   "source": []
  }
 ],
 "metadata": {
  "kernelspec": {
   "display_name": "Python 3 (ipykernel)",
   "language": "python",
   "name": "python3"
  },
  "language_info": {
   "codemirror_mode": {
    "name": "ipython",
    "version": 3
   },
   "file_extension": ".py",
   "mimetype": "text/x-python",
   "name": "python",
   "nbconvert_exporter": "python",
   "pygments_lexer": "ipython3",
   "version": "3.11.4"
  }
 },
 "nbformat": 4,
 "nbformat_minor": 5
}
