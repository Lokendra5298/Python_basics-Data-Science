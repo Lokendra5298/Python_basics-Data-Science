{
 "cells": [
  {
   "cell_type": "code",
   "execution_count": 3,
   "id": "0f740dd3-79f0-4847-82a7-3c612f6a477e",
   "metadata": {},
   "outputs": [
    {
     "name": "stdout",
     "output_type": "stream",
     "text": [
      "The number 7 is Odd.\n",
      "Even/Odd status of each element in the list: ['Odd', 'Even', 'Odd', 'Even', 'Odd', 'Even']\n"
     ]
    }
   ],
   "source": [
    "# Function to check if a number is even or odd\n",
    "def is_even_or_odd(number):\n",
    "    if number % 2 == 0:\n",
    "        return \"Even\"\n",
    "    else:\n",
    "        return \"Odd\"\n",
    "\n",
    "# Example usage\n",
    "number_to_check = 7\n",
    "result = is_even_or_odd(number_to_check)\n",
    "print(f\"The number {number_to_check} is {result}.\")\n",
    "\n",
    "list_of_integers = [1, 2, 3, 4, 5, 6]\n",
    "result_list = [is_even_or_odd(num) for num in list_of_integers]\n",
    "print(f\"Even/Odd status of each element in the list: {result_list}\")\n"
   ]
  },
  {
   "cell_type": "code",
   "execution_count": 2,
   "id": "edda6f60-5f38-4017-8a4c-3485f450ed01",
   "metadata": {},
   "outputs": [
    {
     "name": "stdout",
     "output_type": "stream",
     "text": [
      "720\n"
     ]
    }
   ],
   "source": [
    "# Recursion function\n",
    "def factorial(n):\n",
    "    f= 1\n",
    "    if n==0:\n",
    "        return 1\n",
    "    else:\n",
    "        f=n*factorial(n-1)\n",
    "    return f\n",
    "\n",
    "a= factorial(6)\n",
    "print(a)"
   ]
  },
  {
   "cell_type": "code",
   "execution_count": 9,
   "id": "72a2e974-8799-4ba3-acda-044c519329a5",
   "metadata": {},
   "outputs": [
    {
     "ename": "IndentationError",
     "evalue": "unexpected indent (2971640450.py, line 9)",
     "output_type": "error",
     "traceback": [
      "\u001b[1;36m  Cell \u001b[1;32mIn[9], line 9\u001b[1;36m\u001b[0m\n\u001b[1;33m    else:\u001b[0m\n\u001b[1;37m    ^\u001b[0m\n\u001b[1;31mIndentationError\u001b[0m\u001b[1;31m:\u001b[0m unexpected indent\n"
     ]
    }
   ],
   "source": [
    "def odd_even_factorial(n):\n",
    "    f = 1\n",
    "    if n == 0:\n",
    "        return \"Factorial is 1\"\n",
    "    else:\n",
    "        if n % 2:\n",
    "            f = n * odd_even_factorial(n - 1)\n",
    "    return f\"Odd factorial of {n} is {f}\"\n",
    "        else:\n",
    "            f = n * odd_even_factorial(n - 1)\n",
    "    return f\"Even factorial of {n} is {f}\"\n",
    "\n",
    "print(odd_even_factorial(6))\n"
   ]
  },
  {
   "cell_type": "code",
   "execution_count": null,
   "id": "48e2d257-30f7-43dd-ab0f-aa701c17053f",
   "metadata": {},
   "outputs": [],
   "source": []
  }
 ],
 "metadata": {
  "kernelspec": {
   "display_name": "Python 3 (ipykernel)",
   "language": "python",
   "name": "python3"
  },
  "language_info": {
   "codemirror_mode": {
    "name": "ipython",
    "version": 3
   },
   "file_extension": ".py",
   "mimetype": "text/x-python",
   "name": "python",
   "nbconvert_exporter": "python",
   "pygments_lexer": "ipython3",
   "version": "3.11.4"
  }
 },
 "nbformat": 4,
 "nbformat_minor": 5
}
