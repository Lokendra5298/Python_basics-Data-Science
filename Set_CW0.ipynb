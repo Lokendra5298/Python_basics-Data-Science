{
 "cells": [
  {
   "cell_type": "code",
   "execution_count": 5,
   "id": "256b0606-b6da-46d8-ba8d-486fc19ed929",
   "metadata": {},
   "outputs": [
    {
     "name": "stdout",
     "output_type": "stream",
     "text": [
      "Set S: {1, 2, 3, 5, 6}\n",
      "Set S after removing 2: {1, 3, 5, 6}\n",
      "Set S after discarding 3: {1, 5, 6}\n",
      "Set S after clearing: set()\n"
     ]
    }
   ],
   "source": [
    "S = {5, 6}\n",
    "\n",
    "# Add elements to the set using the add() method\n",
    "S.add(1)\n",
    "S.add(2)\n",
    "S.add(3)\n",
    "print(\"Set S:\", S)\n",
    "\n",
    "# Remove \n",
    "S.remove(2)\n",
    "print(\"Set S after removing 2:\", S)\n",
    "\n",
    "# Discard\n",
    "S.discard(3)\n",
    "print(\"Set S after discarding 3:\", S)\n",
    "\n",
    "# Clear\n",
    "S.clear()\n",
    "print(\"Set S after clearing:\", S)\n"
   ]
  },
  {
   "cell_type": "code",
   "execution_count": 7,
   "id": "4eb5ec8f-8fe5-4e06-b500-6c6efad1f154",
   "metadata": {},
   "outputs": [
    {
     "name": "stdout",
     "output_type": "stream",
     "text": [
      "Set of squares: {64, 1, 4, 36, 9, 16, 49, 81, 25}\n"
     ]
    }
   ],
   "source": [
    "# Set comprehension to create a set of squares\n",
    "squares_set = {x**2 for x in range(1, 10)}\n",
    "\n",
    "print(\"Set of squares:\", squares_set)\n"
   ]
  }
 ],
 "metadata": {
  "kernelspec": {
   "display_name": "Python 3 (ipykernel)",
   "language": "python",
   "name": "python3"
  },
  "language_info": {
   "codemirror_mode": {
    "name": "ipython",
    "version": 3
   },
   "file_extension": ".py",
   "mimetype": "text/x-python",
   "name": "python",
   "nbconvert_exporter": "python",
   "pygments_lexer": "ipython3",
   "version": "3.11.4"
  }
 },
 "nbformat": 4,
 "nbformat_minor": 5
}
