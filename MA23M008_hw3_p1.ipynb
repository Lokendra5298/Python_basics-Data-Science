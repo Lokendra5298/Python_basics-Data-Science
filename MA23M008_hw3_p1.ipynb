{
 "cells": [
  {
   "cell_type": "markdown",
   "id": "6ba591cf-b379-419f-bbfa-ce00f105c31a",
   "metadata": {},
   "source": [
    "## Q.1 Write a program (WAP) to implement the following operations on a collection of library books"
   ]
  },
  {
   "cell_type": "markdown",
   "id": "8f596082-4736-4fe7-8b7b-5359584ecd23",
   "metadata": {},
   "source": [
    "**(a)**  Construct a catalog of books, with each book having an author's name, book title, ISBN number, publication year, and number of pages."
   ]
  },
  {
   "cell_type": "code",
   "execution_count": 1,
   "id": "6cc8a3dc-c32d-43c5-b62e-d768d6079820",
   "metadata": {},
   "outputs": [
    {
     "name": "stdout",
     "output_type": "stream",
     "text": [
      "{'author': 'Harper Lee', 'title': 'To Kill a Mockingbird', 'ISBN': '978-0-06-112008-4', 'year': 1960, 'pages': 324}\n",
      "{'author': 'William Shakespeare', 'title': 'Macbeth', 'ISBN': '919811-2565-5', 'year': 2004, 'pages': 164}\n",
      "{'author': 'Bram Stoker', 'title': 'Dracula', 'ISBN': '5151613-1514-32', 'year': 2008, 'pages': 625}\n",
      "{'author': 'Elie Wiesel', 'title': 'Night', 'ISBN': '1666561351-54', 'year': 2013, 'pages': 952}\n"
     ]
    }
   ],
   "source": [
    "# Define a catalog of books\n",
    "catalog = [{ 'author': 'Harper Lee', 'title': 'To Kill a Mockingbird', 'ISBN': '978-0-06-112008-4', 'year': 1960, 'pages': 324},\n",
    "           {'author': 'William Shakespeare', 'title': 'Macbeth', 'ISBN': '919811-2565-5', 'year': 2004, 'pages': 164},\n",
    "           {'author': 'Bram Stoker', 'title': 'Dracula', 'ISBN': '5151613-1514-32', 'year': 2008, 'pages': 625},\n",
    "           {'author': 'Elie Wiesel', 'title': 'Night', 'ISBN': '1666561351-54', 'year': 2013, 'pages': 952}]\n",
    "\n",
    "# Display the catalog\n",
    "for i in catalog:\n",
    "  print(i)"
   ]
  },
  {
   "cell_type": "markdown",
   "id": "c58432a3-f386-4951-a354-58fded2844fe",
   "metadata": {},
   "source": [
    "**(b)**  Add a new book to the catalog, ensuring that the books are kept in ascending order based on the publication year."
   ]
  },
  {
   "cell_type": "code",
   "execution_count": 2,
   "id": "44794651-4874-4414-a70e-102f0ab7d2b4",
   "metadata": {},
   "outputs": [
    {
     "name": "stdout",
     "output_type": "stream",
     "text": [
      "{'author': 'Harper Lee', 'title': 'To Kill a Mockingbird', 'ISBN': '978-0-06-112008-4', 'year': 1960, 'pages': 324}\n",
      "{'author': 'Yashwant K.', 'title': 'Let us c', 'ISBN': '86146-84174-54', 'year': 2003, 'pages': 646}\n",
      "{'author': 'William Shakespeare', 'title': 'Macbeth', 'ISBN': '919811-2565-5', 'year': 2004, 'pages': 164}\n",
      "{'author': 'Bram Stoker', 'title': 'Dracula', 'ISBN': '5151613-1514-32', 'year': 2008, 'pages': 625}\n",
      "{'author': 'Elie Wiesel', 'title': 'Night', 'ISBN': '1666561351-54', 'year': 2013, 'pages': 952}\n"
     ]
    }
   ],
   "source": [
    "# New book to add\n",
    "def add_book(catalog, n_book):\n",
    "    catalog.append(n_book)\n",
    "    catalog.sort(key=lambda x:x['year'])\n",
    "    \n",
    "new_book = {'author': 'Yashwant K.', 'title': 'Let us c', 'ISBN': '86146-84174-54', 'year': 2003, 'pages': 646}\n",
    "add_book(catalog, new_book)\n",
    "for i in catalog:\n",
    "  print(i)"
   ]
  },
  {
   "cell_type": "markdown",
   "id": "bfc02307-e8a6-43e4-87a9-1640287c22bd",
   "metadata": {},
   "source": [
    "**(c)** Locate a book by its ISBN number and delete the book's entry from the catalog."
   ]
  },
  {
   "cell_type": "code",
   "execution_count": 4,
   "id": "9768bb31-a396-464a-9fb3-f5382b347871",
   "metadata": {},
   "outputs": [
    {
     "name": "stdout",
     "output_type": "stream",
     "text": [
      "Book with ISBN 86146-84174-54 has been deleted.\n",
      "{'author': 'Harper Lee', 'title': 'To Kill a Mockingbird', 'ISBN': '978-0-06-112008-4', 'year': 1960, 'pages': 324}\n",
      "{'author': 'William Shakespeare', 'title': 'Macbeth', 'ISBN': '919811-2565-5', 'year': 2004, 'pages': 164}\n",
      "{'author': 'Bram Stoker', 'title': 'Dracula', 'ISBN': '5151613-1514-32', 'year': 2008, 'pages': 625}\n",
      "{'author': 'Elie Wiesel', 'title': 'Night', 'ISBN': '1666561351-54', 'year': 2013, 'pages': 952}\n"
     ]
    }
   ],
   "source": [
    "isbn1 = '86146-84174-54' # ISBN to delete the book\n",
    "for i, book in enumerate(catalog):\n",
    "    if book['ISBN']== isbn1:\n",
    "        del catalog[i]\n",
    "        print(f\"Book with ISBN {isbn1} has been deleted.\")\n",
    "        break\n",
    "else:\n",
    "    print(f\"Book with ISBN {isbn1} not found in the catalog.\")\n",
    "\n",
    "for i in catalog:\n",
    "  print(i)"
   ]
  },
  {
   "cell_type": "markdown",
   "id": "da65f724-3e0c-4bea-8917-3fe0dec9f561",
   "metadata": {},
   "source": [
    "**(d)**  Insert a new book entry at the end of the catalog using the provided book information."
   ]
  },
  {
   "cell_type": "code",
   "execution_count": 44,
   "id": "0fddef4c-f9b9-4c45-ba75-8caf8a6fcfa9",
   "metadata": {},
   "outputs": [
    {
     "name": "stdout",
     "output_type": "stream",
     "text": [
      "{'author': 'Harper Lee', 'title': 'To Kill a Mockingbird', 'ISBN': '978-0-06-112008-4', 'year': 1960, 'pages': 324}\n",
      "{'author': 'William Shakespeare', 'title': 'Macbeth', 'ISBN': '919811-2565-5', 'year': 2004, 'pages': 164}\n",
      "{'author': 'Bram Stoker', 'title': 'Dracula', 'ISBN': '5151613-1514-32', 'year': 2008, 'pages': 625}\n",
      "{'author': 'Elie Wiesel', 'title': 'Night', 'ISBN': '1666561351-54', 'year': 2013, 'pages': 952}\n",
      "{'author': 'Murphy.', 'title': 'Data Analysis', 'ISBN': '864-7416-5', 'year': 2017, 'pages': 452}\n"
     ]
    }
   ],
   "source": [
    "new_book1 = {'author': 'Murphy.', 'title': 'Data Analysis', 'ISBN': '864-7416-5', 'year': 2017, 'pages': 452}\n",
    "catalog.append(new_book1)\n",
    "for i in catalog:\n",
    "  print(i)"
   ]
  },
  {
   "cell_type": "markdown",
   "id": "3956d3fa-5a02-4b0c-9c50-2a85131cee53",
   "metadata": {},
   "source": [
    "**(e)** Identify and remove any duplicate entries in the catalog, preserving only one copy of each book based on its ISBN number."
   ]
  },
  {
   "cell_type": "code",
   "execution_count": 5,
   "id": "426e5893-5dc8-4853-b867-842a470032d8",
   "metadata": {},
   "outputs": [
    {
     "name": "stdout",
     "output_type": "stream",
     "text": [
      "{'author': 'Harper Lee', 'title': 'To Kill a Mockingbird', 'ISBN': '978-0-06-112008-4', 'year': 1960, 'pages': 324}\n",
      "{'author': 'William Shakespeare', 'title': 'Macbeth', 'ISBN': '919811-2565-5', 'year': 2004, 'pages': 164}\n",
      "{'author': 'Bram Stoker', 'title': 'Dracula', 'ISBN': '5151613-1514-32', 'year': 2008, 'pages': 625}\n",
      "{'author': 'Elie Wiesel', 'title': 'Night', 'ISBN': '1666561351-54', 'year': 2013, 'pages': 952}\n"
     ]
    }
   ],
   "source": [
    "catalog1= []\n",
    "isbn2= set()\n",
    "\n",
    "for book in catalog:\n",
    "    isbn = book['ISBN']\n",
    "    if isbn not in isbn2:\n",
    "        catalog1.append(book)\n",
    "        isbn2.add(isbn)\n",
    "\n",
    "for i in catalog1:\n",
    "  print(i)"
   ]
  },
  {
   "cell_type": "markdown",
   "id": "28b2a6f4-4ed8-4d44-95cf-bf70e27671a2",
   "metadata": {},
   "source": [
    "**(f)** Reorganize the entire catalog so that the books are sorted in descending order by the number of pages."
   ]
  },
  {
   "cell_type": "code",
   "execution_count": 6,
   "id": "505afec2-b02f-4a5b-b597-1b6e93f79306",
   "metadata": {},
   "outputs": [
    {
     "name": "stdout",
     "output_type": "stream",
     "text": [
      "{'author': 'Elie Wiesel', 'title': 'Night', 'ISBN': '1666561351-54', 'year': 2013, 'pages': 952}\n",
      "{'author': 'Bram Stoker', 'title': 'Dracula', 'ISBN': '5151613-1514-32', 'year': 2008, 'pages': 625}\n",
      "{'author': 'Harper Lee', 'title': 'To Kill a Mockingbird', 'ISBN': '978-0-06-112008-4', 'year': 1960, 'pages': 324}\n",
      "{'author': 'William Shakespeare', 'title': 'Macbeth', 'ISBN': '919811-2565-5', 'year': 2004, 'pages': 164}\n"
     ]
    }
   ],
   "source": [
    "def sort_pages(catalog):\n",
    "    catalog.sort(key=lambda y:y['pages'], reverse=True)\n",
    "    \n",
    "sort_pages(catalog)\n",
    "for i in catalog:\n",
    "  print(i)"
   ]
  },
  {
   "cell_type": "markdown",
   "id": "6bd26f6b-7506-4100-9c88-30a7a8d80ace",
   "metadata": {},
   "source": [
    "## Q.2 Write a program using list comprehension"
   ]
  },
  {
   "cell_type": "markdown",
   "id": "cebeb8c9-01d2-4f31-96b5-54ccf4618a89",
   "metadata": {},
   "source": [
    "**(a)** To add the corresponding elements of two lists and print the new list."
   ]
  },
  {
   "cell_type": "code",
   "execution_count": 7,
   "id": "2cec09f3-18e3-4f31-abf1-0016fc67deb5",
   "metadata": {},
   "outputs": [
    {
     "name": "stdout",
     "output_type": "stream",
     "text": [
      "Addition= [27, 43, 340, 456, 91, 36]\n"
     ]
    }
   ],
   "source": [
    "lst1= [10, 20, 300, 400, 50, 19]\n",
    "lst2= [17, 23, 40, 56, 41, 17]\n",
    "if len(lst1)==len(lst2):\n",
    "    lst3=[lst1[i]+lst2[i] for i in range(len(lst1))]\n",
    "    print('Addition=',lst3)\n",
    "else:\n",
    "    print('Addition is not possible')"
   ]
  },
  {
   "cell_type": "markdown",
   "id": "2e9e1f55-9f91-48b6-a703-85f3e17dd173",
   "metadata": {},
   "source": [
    "**(b)** To perform element wise multiplication of two lists and print the new list."
   ]
  },
  {
   "cell_type": "code",
   "execution_count": 8,
   "id": "f51f63ee-4ce0-493a-9926-e896995bab84",
   "metadata": {},
   "outputs": [
    {
     "name": "stdout",
     "output_type": "stream",
     "text": [
      "Addition= [170, 460, 12000, 22400, 2050, 323]\n"
     ]
    }
   ],
   "source": [
    "lst1= [10, 20, 300, 400, 50, 19]\n",
    "lst2= [17, 23, 40, 56, 41, 17]\n",
    "if len(lst1)==len(lst2):\n",
    "    lst3=[lst1[i]*lst2[i] for i in range(len(lst1))]\n",
    "    print('Addition=',lst3)\n",
    "else:\n",
    "    print('Addition is not possible')"
   ]
  },
  {
   "cell_type": "markdown",
   "id": "d3b7603a-69e8-465d-b9ea-d6100c8b8049",
   "metadata": {},
   "source": [
    "**(c)** To create a list of the unique characters of a given string. "
   ]
  },
  {
   "cell_type": "code",
   "execution_count": 9,
   "id": "a32f2d64-eb9c-40e8-bb4b-e60c9e508a4d",
   "metadata": {},
   "outputs": [
    {
     "name": "stdout",
     "output_type": "stream",
     "text": [
      "['a', 'l', 'n', 't', 'o', 'e', 'S', 'H']\n"
     ]
    }
   ],
   "source": [
    "str='HelloSanta'\n",
    "str.split()\n",
    "s= set(str)\n",
    "t= list(s)\n",
    "print(t)"
   ]
  },
  {
   "cell_type": "markdown",
   "id": "9d78f6ca-9f2c-49dd-9735-af05d7f02788",
   "metadata": {},
   "source": [
    "## Q.3. Using the zip function, WAP"
   ]
  },
  {
   "cell_type": "markdown",
   "id": "38fbe5ea-a89a-4719-884b-7ff6c5dcc85a",
   "metadata": {},
   "source": [
    "**(a)** To add the elements of 2 matrices (Define matrices as per your wish)."
   ]
  },
  {
   "cell_type": "code",
   "execution_count": 10,
   "id": "503037cd-51c2-4a66-acef-62276a3caa1e",
   "metadata": {},
   "outputs": [
    {
     "name": "stdout",
     "output_type": "stream",
     "text": [
      "[[10, 12], [16, 18]]\n"
     ]
    }
   ],
   "source": [
    "A1= [[1, 2],\n",
    "      [5, 6]]\n",
    "A2= [[9, 10],\n",
    "      [11, 12]]\n",
    "A3= [[a1 + a2 for a1, a2 in zip(row1, row2)] for row1, row2 in zip(A1, A2)]\n",
    "print(list(A3))"
   ]
  },
  {
   "cell_type": "markdown",
   "id": "3b87e007-9cb0-4f03-8814-80b3b1638215",
   "metadata": {},
   "source": [
    "**(b)** To perform element wise multiplication on 2 matrices."
   ]
  },
  {
   "cell_type": "code",
   "execution_count": 77,
   "id": "3f86070c-1d5a-4546-aec6-6e2555a7eba3",
   "metadata": {},
   "outputs": [
    {
     "name": "stdout",
     "output_type": "stream",
     "text": [
      "[[9, 20], [55, 72]]\n"
     ]
    }
   ],
   "source": [
    "A1= [[1, 2],\n",
    "      [5, 6]]\n",
    "A2= [[9, 10],\n",
    "      [11, 12]]\n",
    "A3= [[a1*a2 for a1, a2 in zip(row1, row2)] for row1, row2 in zip(A1, A2)]\n",
    "print(list(A3))"
   ]
  },
  {
   "cell_type": "markdown",
   "id": "8204717e-9462-48c5-9f7f-5dffcfa93bc5",
   "metadata": {},
   "source": [
    "## Q.4. List of List : Given a square matrix represented as a list of lists, "
   ]
  },
  {
   "cell_type": "markdown",
   "id": "3ea57549-3995-4f51-921a-28b53c673ace",
   "metadata": {},
   "source": [
    "**(a)** WAP to print the row sum, column sum and trace of the matrix "
   ]
  },
  {
   "cell_type": "code",
   "execution_count": 13,
   "id": "98871a84-bcd0-4b09-a42e-48803ec55391",
   "metadata": {},
   "outputs": [
    {
     "name": "stdout",
     "output_type": "stream",
     "text": [
      "[22, 105]\n",
      "Column Sums: [55, 72]\n",
      "Trace: 70\n"
     ]
    }
   ],
   "source": [
    "A1= [[10, 12],\n",
    "      [45, 60]]\n",
    "# row_sum\n",
    "row_sum=[]\n",
    "for i in A1:\n",
    "    j=sum(i)\n",
    "    row_sum.append(j)\n",
    "print(row_sum)\n",
    "\n",
    "# column_sums\n",
    "column_sums = [sum(col) for col in zip(*A1)]\n",
    "print(\"Column Sums:\", column_sums)\n",
    "\n",
    "# trace\n",
    "t= min(len(A1), len(A1[0]))\n",
    "trace = sum(A1[i][i] for i in range(t))\n",
    "print(\"Trace:\", trace)"
   ]
  },
  {
   "cell_type": "markdown",
   "id": "ca050f38-2e49-45f6-8af1-100321261d0f",
   "metadata": {},
   "source": [
    "**(b)** WAP to print the transpose of the matrix."
   ]
  },
  {
   "cell_type": "code",
   "execution_count": 6,
   "id": "fb048be1-4514-4f9c-8b40-c5227f42dc95",
   "metadata": {},
   "outputs": [
    {
     "name": "stdout",
     "output_type": "stream",
     "text": [
      "[[11, 45], [32, 16]]\n"
     ]
    }
   ],
   "source": [
    "A= [[11, 32],\n",
    "      [45, 16]]\n",
    "transpose_A = [[row[i] for row in A] for i in range(len(A[0]))]\n",
    "print(transpose_A)"
   ]
  },
  {
   "cell_type": "markdown",
   "id": "a79c302d-575a-428f-b706-ad8f755cd55b",
   "metadata": {},
   "source": [
    "**(c)** WAP to check whether the given matrix is symmetric or not."
   ]
  },
  {
   "cell_type": "code",
   "execution_count": 8,
   "id": "e7e0d11b-ea21-493d-854e-bf1f92c30d85",
   "metadata": {},
   "outputs": [
    {
     "name": "stdout",
     "output_type": "stream",
     "text": [
      "Given matrix is not symmetric\n"
     ]
    }
   ],
   "source": [
    "if A==transpose_A:\n",
    "   print('Given matrix is symmetric')\n",
    "else:\n",
    "    print('Given matrix is not symmetric')"
   ]
  },
  {
   "cell_type": "markdown",
   "id": "680d5395-b305-4f0b-814d-942bb696522f",
   "metadata": {},
   "source": [
    "**(d)** WAP to check whether the Identity matrix (I) is positive definite or not by using Quadratic form method (x^T*I*x > 0), where x is any non zero vector."
   ]
  },
  {
   "cell_type": "code",
   "execution_count": 16,
   "id": "a1c13163-1ca6-4767-8c0a-654f6d038e4c",
   "metadata": {},
   "outputs": [
    {
     "name": "stdout",
     "output_type": "stream",
     "text": [
      "Identity matrix (I) is positive definite\n"
     ]
    }
   ],
   "source": [
    "def dot_prod(v1, v2):\n",
    "    s= sum(x*y for x, y in zip(v1, v2))\n",
    "    return s\n",
    "\n",
    "def mat_vec_prod(mat, vec):\n",
    "    m= [dot_product(row, vec) for row in mat]\n",
    "    return m\n",
    "\n",
    "def Quadratic_form(A, x):\n",
    "    a = dot_prod(mat_vec_prod(A, x), x)\n",
    "    if a > 0:\n",
    "        print('Identity matrix (I) is positive definite')\n",
    "    else:\n",
    "        print('Identity matrix (I) is not positive definite')\n",
    "\n",
    "I = [[1, 0],\n",
    "     [0, 1]]\n",
    "y = [5, -3]\n",
    "Quadratic_form(I, y)"
   ]
  },
  {
   "cell_type": "markdown",
   "id": "c1610343-5ad3-452a-a57b-4c641b96d8b6",
   "metadata": {},
   "source": [
    "## Q.5.  List of Lists : WAP to remove sub lists from a given list of lists that contain an element outside a given range."
   ]
  },
  {
   "cell_type": "code",
   "execution_count": 26,
   "id": "ad22e692-39c8-4668-8c66-ec7014369105",
   "metadata": {},
   "outputs": [
    {
     "name": "stdout",
     "output_type": "stream",
     "text": [
      "[[3], [1, 3, 2]]\n"
     ]
    }
   ],
   "source": [
    "def remove_sublist(lst, rng):\n",
    "    return [sublst for sublst in lst if all(i in rng for i in sublst)]\n",
    "\n",
    "Input = [[3], [1, 3, 2], [0, 1, 9, 3, 5, 7], [9, 10], [13, 14, 16, 17]]\n",
    "rng= range(1, 5)\n",
    "\n",
    "lst1= remove_sublist(Input, rng)\n",
    "print(lst1)\n"
   ]
  },
  {
   "cell_type": "code",
   "execution_count": null,
   "id": "922e648f-65b8-4aa9-a361-b1085ceb8fc6",
   "metadata": {},
   "outputs": [],
   "source": []
  }
 ],
 "metadata": {
  "kernelspec": {
   "display_name": "Python 3 (ipykernel)",
   "language": "python",
   "name": "python3"
  },
  "language_info": {
   "codemirror_mode": {
    "name": "ipython",
    "version": 3
   },
   "file_extension": ".py",
   "mimetype": "text/x-python",
   "name": "python",
   "nbconvert_exporter": "python",
   "pygments_lexer": "ipython3",
   "version": "3.11.4"
  }
 },
 "nbformat": 4,
 "nbformat_minor": 5
}
