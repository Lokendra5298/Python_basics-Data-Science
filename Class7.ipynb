{
 "cells": [
  {
   "cell_type": "code",
   "execution_count": 4,
   "id": "aad4f1a8-54cd-4143-bed9-bfdc104c090b",
   "metadata": {},
   "outputs": [
    {
     "name": "stdout",
     "output_type": "stream",
     "text": [
      "1\n",
      "abc\n",
      "1 2 3 abc 3.14\n",
      "(10,)\n"
     ]
    }
   ],
   "source": [
    "# Tuple representation\n",
    "tuple = (1, 2, 3, 'abc', 3.14)\n",
    "# Accessing elements\n",
    "print(tuple[0])   \n",
    "print(tuple[3])   \n",
    "\n",
    "# Tuple unpacking\n",
    "a, b, c, d, e = tuple\n",
    "print(a, b, c, d, e)  \n",
    "\n",
    "tup1 = (10, ) # Note that you need a comm\n",
    "print(tup1)"
   ]
  },
  {
   "cell_type": "code",
   "execution_count": 8,
   "id": "ded6995d-7735-4756-bd9a-83d2f6b74543",
   "metadata": {},
   "outputs": [
    {
     "name": "stdout",
     "output_type": "stream",
     "text": [
      "11\n",
      "32\n",
      "3\n",
      "897\n",
      "[3, 3.14, 11, 32, 897]\n"
     ]
    }
   ],
   "source": [
    "# Elements in the tuple can be repeated.\n",
    "# Define a tuple of different datatypes and print them using iterator.\n",
    "tup = (11, 32, 3, 897, 3.14)\n",
    "for i in range(4):\n",
    "    print(tup[i])\n",
    "\n",
    "tup1=sorted(tup)\n",
    "print(tup1)"
   ]
  },
  {
   "cell_type": "code",
   "execution_count": 10,
   "id": "04341a5d-3e31-4da3-9bb9-2426fbdef847",
   "metadata": {},
   "outputs": [
    {
     "name": "stdout",
     "output_type": "stream",
     "text": [
      "TypeError: 'tuple' object does not support item assignment\n",
      "(11, 32, 3, 897, 3.14, 42)\n"
     ]
    }
   ],
   "source": [
    "# Tuple operations\n",
    "tup = (11, 32, 3, 897, 3.14)\n",
    "try:\n",
    "    tup[1] = 42\n",
    "except TypeError as e:\n",
    "    print(f\"TypeError: {e}\")\n",
    "\n",
    "modified_tuple = tup + (42,)  # Concatenate with a new element\n",
    "print(modified_tuple)"
   ]
  },
  {
   "cell_type": "code",
   "execution_count": 17,
   "id": "6805edce-d851-4230-ad58-22772a5896d1",
   "metadata": {},
   "outputs": [
    {
     "name": "stdout",
     "output_type": "stream",
     "text": [
      "True\n",
      "False\n",
      "9 1\n",
      "24\n"
     ]
    }
   ],
   "source": [
    "# Containment\n",
    "tuple = (10, 12, 23, 'abc', 3.14)\n",
    "print(23 in tuple)  \n",
    "print('xyz' in tuple)  \n",
    "\n",
    "# Conversion from string to tuple\n",
    "#str1 = \"hello\"\n",
    "#tup1 = tuple(str1)\n",
    "#print(tup)  \n",
    "\n",
    "# Length of tuple\n",
    "#lenth = len(tup1)\n",
    "# print(lenth)  \n",
    "\n",
    "# Maximum and minimum values in a tuple\n",
    "tup2 = (4, 7, 1, 9, 3)\n",
    "max_val = max(tup2)\n",
    "min_val = min(tup2)\n",
    "print(max_val, min_val)  \n",
    "\n",
    "# Sum of elements in a tuple\n",
    "sum_of_elements = sum(tup2)\n",
    "print(sum_of_elements)\n"
   ]
  },
  {
   "cell_type": "code",
   "execution_count": 15,
   "id": "1e9f7d2f-18c2-4828-97bd-6e283297f005",
   "metadata": {},
   "outputs": [
    {
     "name": "stdout",
     "output_type": "stream",
     "text": [
      "True\n",
      "False\n",
      "True\n"
     ]
    }
   ],
   "source": [
    "# Comparing tuples\n",
    "tuple1 = (1,2,3)\n",
    "tuple2 = (1,2,3)\n",
    "tuple3 = (1,2,4)\n",
    "\n",
    "print(tuple1 == tuple2)  \n",
    "print(tuple1 == tuple3)  \n",
    "print(tuple1 < tuple3) \n"
   ]
  },
  {
   "cell_type": "code",
   "execution_count": 1,
   "id": "072e9c20-6180-457e-aa96-aa5d55ff5dae",
   "metadata": {},
   "outputs": [
    {
     "data": {
      "text/plain": [
       "(0, 1, 2, 3, 4)"
      ]
     },
     "execution_count": 1,
     "metadata": {},
     "output_type": "execute_result"
    }
   ],
   "source": [
    "# Tuples in Python are immutable, which means you cannot append or modify elements once the tuple is created.\n",
    "# append will not work in tuple\n",
    "# Using list comprehension and converting to tuple\n",
    "lst=[x for x in range(5)]\n",
    "tup = tuple(lst)\n",
    "tup"
   ]
  },
  {
   "cell_type": "code",
   "execution_count": 3,
   "id": "4d58d56e-a717-4ec6-bfc2-34ef991d1676",
   "metadata": {},
   "outputs": [
    {
     "name": "stdout",
     "output_type": "stream",
     "text": [
      "(7, 8, 1, 2, 3, 5, 7, 4)\n"
     ]
    }
   ],
   "source": [
    "# Tuple Varieties\n",
    "# Tuple of Tuples\n",
    "tup1=(1, 2, 3, 5, 7)\n",
    "tup2=(7, 8, *tup1,4)\n",
    "print(tup2)"
   ]
  },
  {
   "cell_type": "code",
   "execution_count": 1,
   "id": "79ea6db3-a1cc-4a53-8418-5edf14ada64c",
   "metadata": {},
   "outputs": [
    {
     "name": "stdout",
     "output_type": "stream",
     "text": [
      "[('Ram', 'male'), ('Raja', 'male'), ('Geetha', 'female'), ('Ramya', 'female')]\n",
      "('apples', 2, 150) ('oranges', 5, 80) ('grapes', 3, 200) ('guava', 6, 170)\n"
     ]
    }
   ],
   "source": [
    "# Grouping Tuples\n",
    "names = ('Ram', 'Raja', 'Geetha', 'Ramya')\n",
    "gender = ('male', 'male', 'female', 'female')\n",
    "group= list(zip(names, gender))\n",
    "print(group)\n",
    "\n",
    "\n",
    "fruits = ('apples', 'oranges', 'grapes', 'guava')\n",
    "num_kg = (2, 5, 3, 6)\n",
    "cost_kg = (150, 80, 200, 170)\n",
    "group1= list(zip(fruits, num_kg, cost_kg))\n",
    "print(*group1)"
   ]
  },
  {
   "cell_type": "code",
   "execution_count": 16,
   "id": "d87153f3-193c-4817-aa27-a92d24579039",
   "metadata": {},
   "outputs": [
    {
     "name": "stdout",
     "output_type": "stream",
     "text": [
      "<zip object at 0x000002C1460C1640>\n",
      "('Ram', 'male') ('Raja', 'male') ('Geetha', 'female') ('Ramya', 'female')\n",
      "Ram male\n",
      "Raja male\n",
      "Geetha female\n",
      "Ramya female\n"
     ]
    }
   ],
   "source": [
    "names = ('Ram', 'Raja', 'Geetha', 'Ramya')\n",
    "gender = ('male', 'male', 'female', 'female')\n",
    "#Sevaral ways in which zip( ) can be used\n",
    "ite = zip(names, gender) \n",
    "print(ite) #zip returns an iterator of tuples\n",
    "print(*ite) #Remember that ite is like a pointer and hence * is needed to unpack\n",
    "\n",
    "for i in zip(names, gender):\n",
    "    print(*i)"
   ]
  },
  {
   "cell_type": "code",
   "execution_count": null,
   "id": "77a77d8f-c4f0-4017-9238-15fce5e2843d",
   "metadata": {},
   "outputs": [],
   "source": []
  }
 ],
 "metadata": {
  "kernelspec": {
   "display_name": "Python 3 (ipykernel)",
   "language": "python",
   "name": "python3"
  },
  "language_info": {
   "codemirror_mode": {
    "name": "ipython",
    "version": 3
   },
   "file_extension": ".py",
   "mimetype": "text/x-python",
   "name": "python",
   "nbconvert_exporter": "python",
   "pygments_lexer": "ipython3",
   "version": "3.11.4"
  }
 },
 "nbformat": 4,
 "nbformat_minor": 5
}
