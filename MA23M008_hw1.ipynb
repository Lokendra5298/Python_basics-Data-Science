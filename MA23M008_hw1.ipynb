{
 "cells": [
  {
   "cell_type": "code",
   "execution_count": 4,
   "id": "e805f174-5e2e-4510-acaa-4ea215c94695",
   "metadata": {},
   "outputs": [
    {
     "name": "stdout",
     "output_type": "stream",
     "text": [
      "Value is 35.44789594116947\n",
      "12.566370614359172\n"
     ]
    }
   ],
   "source": [
    "# 7*ln(3)*[ln(5)+ln(e^3)]\n",
    "import math as m\n",
    "a=7*m.log(3)\n",
    "b=m.log(5)+m.log(m.exp(3))\n",
    "c=a*b\n",
    "print(\"Value is\", c)\n",
    "\n",
    "#Difference in area between two concentric circles of diameter 5m and 3m.\n",
    "def area(d):\n",
    "   r=d*0.5\n",
    "   area= m.pi*(r**2)\n",
    "   return area\n",
    "area_diff= area(5) - area(3)\n",
    "print(area_diff)"
   ]
  },
  {
   "cell_type": "code",
   "execution_count": 5,
   "id": "d29c528f-c413-41b2-8ff0-fd4022ef9850",
   "metadata": {},
   "outputs": [
    {
     "name": "stdout",
     "output_type": "stream",
     "text": [
      "Count of odd numbers: 38, Count of even numbers: 36\n"
     ]
    }
   ],
   "source": [
    "# WAP to return the count of odd numbers and even numbers between 7 and 80 (both inclusive) using arithmetic operators (without using loops) and print it using ‘format strings’ in a single line.\n",
    "def count_odd_even(a, b):\n",
    "    total_numbers = b-a+1\n",
    "    count_odd= (b//2+1)-(a//2)\n",
    "    count_even= total_numbers-count_odd\n",
    "    return count_odd, count_even\n",
    "\n",
    "result = count_odd_even(7, 80)\n",
    "print(\"Count of odd numbers: {}, Count of even numbers: {}\".format(result[0], result[1]))\n"
   ]
  },
  {
   "cell_type": "code",
   "execution_count": 6,
   "id": "3aed8803-2cf2-41ad-9823-aab5b35e4a39",
   "metadata": {},
   "outputs": [
    {
     "name": "stdout",
     "output_type": "stream",
     "text": [
      "The type of data is <class 'int'>\n",
      "The size of data is 28\n",
      "The type of data is <class 'float'>\n",
      "The size of data is 24\n",
      "The type of data is <class 'complex'>\n",
      "The size of data is 32\n",
      "The type of data is <class 'bool'>\n",
      "The size of data is 28\n",
      "The type of data is <class 'str'>\n",
      "The size of data is 57\n",
      "The type of data is <class 'bytes'>\n",
      "The size of data is 38\n"
     ]
    }
   ],
   "source": [
    "# What are the different kinds of data types in Python? Name them and explain their significance.WAP to demonstrate them in Python and print the size and type of each of them in ascending order.\n",
    "# Datatypes in Python \n",
    "# int\n",
    "# float\n",
    "# complex\n",
    "# bool\n",
    "# string\n",
    "# bytes\n",
    "# int is of arbitrary precision (as you type, it will allocate memory!)\n",
    "# floats are 64-bit double precision values - fractional or exponential form \n",
    "# Only strings and no chars\n",
    "# complex contains real and imagionary. \n",
    "# bool takes only true or false\n",
    "# bytes, containers, and user-defined ones (classes) - we will see later\n",
    "#int \n",
    "import sys\n",
    "\n",
    "a = 5\n",
    "print(\"The type of data is\", type(a))\n",
    "print(\"The size of data is\", sys.getsizeof(a))\n",
    "\n",
    "b = 4.55\n",
    "print(\"The type of data is\", type(b))\n",
    "print(\"The size of data is\", sys.getsizeof(b))\n",
    "\n",
    "real = 3\n",
    "imaginary = 5\n",
    "c = complex(real, imaginary)\n",
    "print(\"The type of data is\", type(c))\n",
    "print(\"The size of data is\", sys.getsizeof(c))\n",
    "\n",
    "d = 'L' in 'Lokendra'\n",
    "print(\"The type of data is\", type(d))\n",
    "print(\"The size of data is\", sys.getsizeof(d))\n",
    "\n",
    "e = 'Lokendra'\n",
    "print(\"The type of data is\", type(e))\n",
    "print(\"The size of data is\", sys.getsizeof(e))\n",
    "\n",
    "num = [2, 4, 6, 8, 10]\n",
    "f = bytes(num)\n",
    "print(\"The type of data is\", type(f))\n",
    "print(\"The size of data is\", sys.getsizeof(f))\n"
   ]
  },
  {
   "cell_type": "code",
   "execution_count": 7,
   "id": "b7a6f39c-0154-4ccf-b659-1b1a83656249",
   "metadata": {},
   "outputs": [
    {
     "name": "stdin",
     "output_type": "stream",
     "text": [
      "Enter the seed value  10\n"
     ]
    },
    {
     "name": "stdout",
     "output_type": "stream",
     "text": [
      "Surface area of the cuboid 14740\n"
     ]
    }
   ],
   "source": [
    "# WAP to find the surface area of a cuboid with sides a,b,c. The values of a, b, c  should be random numbers generated between 10 and 100. Take the seed value as user input. (use ‘random’ module).\n",
    "import random as rd\n",
    "def surface_area_of_cuboid(a, b, c):\n",
    "    surface_area = 2*(a*b + b*c + c*a)\n",
    "    return surface_area\n",
    "\n",
    "# Set seed value\n",
    "seed_value = int(input(\"Enter the seed value \"))\n",
    "rd.seed(seed_value)\n",
    "\n",
    "# Generate random values for sides a, b, and c\n",
    "a=rd.randint(10,100)\n",
    "b=rd.randint(10,100)\n",
    "c=rd.randint(10,100)\n",
    "\n",
    "# Calculate surface area\n",
    "area = surface_area_of_cuboid(a,b,c)\n",
    "print(\"Surface area of the cuboid\",area)"
   ]
  },
  {
   "cell_type": "code",
   "execution_count": 8,
   "id": "18c7fe76-99c4-4600-8279-141a73818da3",
   "metadata": {},
   "outputs": [
    {
     "name": "stdin",
     "output_type": "stream",
     "text": [
      "Give a nonzero value of a  1\n",
      "Give a value of b  1\n",
      "Give a value of c  1\n"
     ]
    },
    {
     "name": "stdout",
     "output_type": "stream",
     "text": [
      "Roots are: (-0.5+0.8660254037844386j) (-0.5-0.8660254037844386j)\n"
     ]
    }
   ],
   "source": [
    "# WAP to solve the quadratic equation of the form ax^2+bx+c=0, where a, b and c are real numbers and a ≠ 0 (Take a, b and c as user input).\n",
    "import math\n",
    "import numpy as np\n",
    "a = float(input('Give a nonzero value of a '))\n",
    "b = float(input('Give a value of b '))\n",
    "c = float(input('Give a value of c '))\n",
    "# discriminant\n",
    "d = b**2 - 4*a*c\n",
    "if d < 0:\n",
    "    real = (-b)/(2*a)\n",
    "    d=-d\n",
    "    imaginary = math.sqrt(d)/(2*a)\n",
    "    root1 = complex(real, imaginary)\n",
    "    root2 = np.conj(root1)\n",
    "    print(\"Roots are:\", root1, root2)\n",
    "else:\n",
    "    # Calculate roots\n",
    "    root1 = (-b+math.sqrt(d))/(2*a)\n",
    "    root2 = (-b-math.sqrt(d))/(2*a)\n",
    "    print(\"Roots are:\", root1, root2)"
   ]
  },
  {
   "cell_type": "code",
   "execution_count": 9,
   "id": "97a89b13-9c24-4851-9703-0029ef6eeba9",
   "metadata": {},
   "outputs": [
    {
     "name": "stdout",
     "output_type": "stream",
     "text": [
      "Unary Negation of a -5\n",
      "Bitwise NOT of a -6\n",
      "Logical NOT of a False\n",
      "Binary addition 20\n",
      "Binary multiplication 75\n",
      "Binary division 0.3333333333333333\n",
      "Binary Modulo 5\n",
      "5\n",
      "15\n"
     ]
    }
   ],
   "source": [
    "#  WAP to demonstrate various arithmetic operations by taking the two input numbers in a single line as space-separated values (Use split function).\n",
    "# Arithmetic Operators\n",
    "# Unary operators (+, -)\n",
    "# Binary operators (+, - , *, / , //, **, %)\n",
    "# Ternary operator\n",
    "\n",
    "a=5\n",
    "# Unary negation\n",
    "negation_a = -a\n",
    "# Bitwise NOT\n",
    "bitwise_not_a = ~a\n",
    "# Logical NOT\n",
    "logical_not_a = not a\n",
    "print(\"Unary Negation of a\",negation_a)\n",
    "print(\"Bitwise NOT of a\",bitwise_not_a)\n",
    "print(\"Logical NOT of a\",logical_not_a)\n",
    "\n",
    "# Binary operators (+, - , *, / , //, **, %)\n",
    "\n",
    "b=15\n",
    "# Binary addition\n",
    "c=a+b\n",
    "# Binary multiplication\n",
    "d=a*b\n",
    "# Binary division\n",
    "e=a/b\n",
    "# Modulo\n",
    "f=a%b\n",
    "print(\"Binary addition\",c)\n",
    "print(\"Binary multiplication\",d)\n",
    "print(\"Binary division\",e)\n",
    "print(\"Binary Modulo\",f)\n",
    "\n",
    "# Ternary operator\n",
    "#In this example, we are comparing and finding the minimum number by using the ternary operator.\n",
    "min = a if a<b else b\n",
    "print(min)\n",
    "\n",
    "max = a if a>b else b\n",
    "print(max)"
   ]
  },
  {
   "cell_type": "code",
   "execution_count": 10,
   "id": "321398ac-3b99-4a23-a95f-3c6df0462762",
   "metadata": {},
   "outputs": [
    {
     "name": "stdout",
     "output_type": "stream",
     "text": [
      "Learning Python is fun\n",
      "Learning datascience is fun\n",
      "LEARNING PYTHON IS FUN\n",
      "fun is Python Learning\n",
      "gninrael nohtyP si nuf\n"
     ]
    }
   ],
   "source": [
    "# 7. Given the words ‘Learning’, ‘python’, ‘is’, ‘fun’. Accomplish the following tasks:\n",
    "\n",
    "# a.Create a sentence by combining these words: “Learning Python is fun.” use(‘.join’)\n",
    "list = ['Learning', 'Python', 'is', 'fun']\n",
    "str1=' '.join(list)\n",
    "print(str1)\n",
    "\n",
    "# b.Print the sentence “Learning datascience is fun.” (use ‘.replace’)\n",
    "x = str1.replace(\"Python\", \"datascience\")\n",
    "print(x)\n",
    "\n",
    "# c.Generate an uppercase version of the sentence: “LEARNING PYTHON IS FUN.”\n",
    "str2=str1.upper()\n",
    "print(str2)\n",
    "\n",
    "# d.Rearrange the words to form a new sentence: “fun is python learning.”\n",
    "str3 = sorted(str1)\n",
    "words = str1.split()\n",
    "words.reverse()\n",
    "str3 = \" \".join(words)\n",
    "print(str3)\n",
    "\n",
    "# e.Reverse each word in the sentence and print the result: “nuf si nohtyp gninrael.”\n",
    "sentence='learning Python is fun'\n",
    "words = sentence.split() # split the sentence into a list of words\n",
    "reversed_words = [i[::-1] for i in words] # reverse each word using list comprehension\n",
    "re= \" \".join(reversed_words)\n",
    "print(re)\n",
    "\n",
    "# 8. How object oriented programming in Python is different from other object-oriented languages?\n",
    "\n",
    "# Ans- Object-oriented programming in Python is different from other languages in its syntax, multiple inheritance, duck typing, and attribute. \n",
    "# These features make Python more flexible, dynamic, and expressive, but also less efficient and consistent.\n"
   ]
  },
  {
   "cell_type": "code",
   "execution_count": 2,
   "id": "48c1fd06-8798-4d52-ae8a-3a4b06a8194d",
   "metadata": {},
   "outputs": [
    {
     "name": "stdout",
     "output_type": "stream",
     "text": [
      "5.5\n",
      "9\n",
      "5\n",
      "74\n",
      "<class 'int'>\n"
     ]
    }
   ],
   "source": [
    "# What are ‘built-in-functions’ in Python? Explain any five.\n",
    "# Built-in functions in Python are functions that are defined by the Python interpreter and can be used without importing any modules.\n",
    "# abs(x) \n",
    "x=-5.5\n",
    "print(abs(x))\n",
    "\n",
    "# pow(x,y)\n",
    "y=pow(3,2)\n",
    "print(y)\n",
    "\n",
    "# len(str)\n",
    "a=len(\"hello\")\n",
    "print(a)\n",
    "\n",
    "#max function\n",
    "b=max([4,52,41,74,12])\n",
    "print(b)\n",
    "\n",
    "# type(object)\n",
    "c=type(45)\n",
    "print(c)"
   ]
  },
  {
   "cell_type": "code",
   "execution_count": 11,
   "id": "c9d6a5fd-fb89-49e4-974a-b58486d263b3",
   "metadata": {},
   "outputs": [
    {
     "name": "stdout",
     "output_type": "stream",
     "text": [
      "3\n",
      "ardnekoL\n",
      "given string is not palindrome\n"
     ]
    }
   ],
   "source": [
    "# Count the number of vowels in a given string.\n",
    "def count_vowels(str):\n",
    "    i = 0\n",
    "    for char in str:\n",
    "        if char.lower() in \"aeiou\":\n",
    "            i += 1\n",
    "    return i\n",
    "    \n",
    "x=count_vowels(\"Lokendra\")\n",
    "print(x)\n",
    "\n",
    "# Check if a given string is palindrome.\n",
    "str1=\"Lokendra\"\n",
    "str2=str1[::-1]\n",
    "print(str2)\n",
    "if str1==str2 :\n",
    "       print(\"Given string is palindrome\")\n",
    "else :\n",
    "    print(\"given string is not palindrome\")\n",
    "    "
   ]
  },
  {
   "cell_type": "code",
   "execution_count": null,
   "id": "3fac1393-3949-44f2-8483-4de6310376c1",
   "metadata": {},
   "outputs": [],
   "source": []
  },
  {
   "cell_type": "code",
   "execution_count": null,
   "id": "06ec490b-413f-405e-b98e-71886202e78a",
   "metadata": {},
   "outputs": [],
   "source": []
  }
 ],
 "metadata": {
  "kernelspec": {
   "display_name": "Python 3 (ipykernel)",
   "language": "python",
   "name": "python3"
  },
  "language_info": {
   "codemirror_mode": {
    "name": "ipython",
    "version": 3
   },
   "file_extension": ".py",
   "mimetype": "text/x-python",
   "name": "python",
   "nbconvert_exporter": "python",
   "pygments_lexer": "ipython3",
   "version": "3.11.4"
  }
 },
 "nbformat": 4,
 "nbformat_minor": 5
}
