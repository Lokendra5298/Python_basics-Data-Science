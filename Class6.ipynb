{
 "cells": [
  {
   "cell_type": "code",
   "execution_count": 11,
   "id": "dcc08068-323f-4898-b128-2d1796f2e772",
   "metadata": {},
   "outputs": [
    {
     "name": "stdout",
     "output_type": "stream",
     "text": [
      "[12, 11, 12, 13, 14, 15, 16, 17, 18, 4, 100]\n"
     ]
    }
   ],
   "source": [
    "lst = [12, 11, 12, 13, 14, 15, 16, 17, 18, 1, 4, 3, 2, 100]\n",
    "\n",
    "for i in list(lst):\n",
    "    if (i>=1 and i<=3 ):\n",
    "        lst.remove(i)\n",
    "\n",
    "print(lst)"
   ]
  },
  {
   "cell_type": "code",
   "execution_count": 16,
   "id": "1502c9ba-26a3-44c1-bbfb-8e69fed708c2",
   "metadata": {},
   "outputs": [
    {
     "name": "stdout",
     "output_type": "stream",
     "text": [
      "12 , 4\n",
      "[12, 11, 12, 13, 14, 15]\n",
      "[[12, 11, 12, 13, 14, 15], [1, 4, 3, 2, 10]]\n"
     ]
    }
   ],
   "source": [
    "# List of list\n",
    "a= [12, 11, 12, 13, 14, 15]\n",
    "b= [1, 4, 3, 2, 10]\n",
    "c= [a, b]\n",
    "print(c[0][0],',',c[1][1])\n",
    "print(c[0])\n",
    "print(c)"
   ]
  },
  {
   "cell_type": "code",
   "execution_count": 1,
   "id": "19b4be80-1b97-4604-85f5-670f8c66c454",
   "metadata": {},
   "outputs": [
    {
     "name": "stdout",
     "output_type": "stream",
     "text": [
      "Embedded list: [10, 7, [1, 4, 3, 2, 10], 12, 1] <class 'list'>\n",
      "Unpacked list: [10, 7, 1, 4, 3, 2, 10, 12, 1] <class 'list'>\n",
      "10\n",
      "7 1 4 3 2 10 12 1\n"
     ]
    }
   ],
   "source": [
    "# List embedding\n",
    "a= [1, 4, 3, 2, 10]\n",
    "b= [10, 7, a, 12, 1]\n",
    "print('Embedded list:',b,type(b))\n",
    "\n",
    "# List unpacking\n",
    "a= [1, 4, 3, 2, 10]\n",
    "b= [10, 7, *a, 12, 1] # * is called base adderess\n",
    "print('Unpacked list:',b,type(b))\n",
    "print(b[0])\n",
    "print(*b[1:])"
   ]
  },
  {
   "cell_type": "code",
   "execution_count": 34,
   "id": "c0232e73-eba1-44b7-a622-587c39adead0",
   "metadata": {},
   "outputs": [
    {
     "name": "stdout",
     "output_type": "stream",
     "text": [
      "[0, 1, 2, 3, 4, 5, 6, 7]\n",
      "[0, 1, 2, 3, 4, 5, 6, 7]\n",
      "[2, 2, 5, [80, 81, 82, 83, 84, 85, 86, 87, 88, 89, 90, 91, 92, 93, 94, 95, 96, 97, 98, 99], 52]\n"
     ]
    }
   ],
   "source": [
    "# Create a list of numbers from 0 to 9\n",
    "\n",
    "lst1=[]\n",
    "for i in range(8):\n",
    "    lst1.append(i)\n",
    "print(lst1)\n",
    "\n",
    "# Using List Comprehension\n",
    "list = [x for x in range(8)]\n",
    "print(list)\n",
    "\n",
    "# List of list Using List Comprehension\n",
    "lst=[2,2,5,[x for x in range(80,100)],52]\n",
    "print(lst)"
   ]
  },
  {
   "cell_type": "code",
   "execution_count": 36,
   "id": "92e316cd-1169-42a9-9e79-ceabb7eeaf31",
   "metadata": {},
   "outputs": [
    {
     "name": "stdout",
     "output_type": "stream",
     "text": [
      "arr= [[12, 11, 12, 13, 15], [1, 4, 3, 10]] ,*arr [12, 11, 12, 13, 15] [1, 4, 3, 10]\n",
      "[0, 1, 2, 3, 4, 5, 6, 7]\n"
     ]
    }
   ],
   "source": [
    "# Comprehension\n",
    "arr=[[12, 11, 12, 13, 15], [1, 4, 3, 10]]\n",
    "print('arr=',arr,',*arr',*arr)\n",
    "\n",
    "arr1=[0, 1, 2, 3, 4, 5, 6, 7]\n",
    "lst1=[]\n",
    "for i in arr1:\n",
    "    lst1.append(i)\n",
    "print(lst1)"
   ]
  },
  {
   "cell_type": "code",
   "execution_count": 42,
   "id": "973f12e7-6f47-495d-a081-9fc78e41a074",
   "metadata": {},
   "outputs": [
    {
     "name": "stdout",
     "output_type": "stream",
     "text": [
      "1\n",
      "2\n",
      "3\n",
      "4\n",
      "5\n",
      "6\n",
      "7\n",
      "8\n",
      "9\n",
      "10\n",
      "11\n",
      "12\n",
      "[1, 2, 3, 4]\n",
      "[5, 6, 7, 8]\n"
     ]
    }
   ],
   "source": [
    "# Some nuances on list and list of lists\n",
    "arr = [ [1, 2, 3, 4], [5, 6, 7, 8], [9, 10, 11, 12]]\n",
    "for ele in arr:\n",
    "   for num in ele:\n",
    "      print(num)\n",
    "\n",
    "print(arr[0])\n",
    "print(arr[1])"
   ]
  },
  {
   "cell_type": "code",
   "execution_count": null,
   "id": "829cfde7-2970-4226-9776-780ab2b3a764",
   "metadata": {},
   "outputs": [],
   "source": []
  }
 ],
 "metadata": {
  "kernelspec": {
   "display_name": "Python 3 (ipykernel)",
   "language": "python",
   "name": "python3"
  },
  "language_info": {
   "codemirror_mode": {
    "name": "ipython",
    "version": 3
   },
   "file_extension": ".py",
   "mimetype": "text/x-python",
   "name": "python",
   "nbconvert_exporter": "python",
   "pygments_lexer": "ipython3",
   "version": "3.11.4"
  }
 },
 "nbformat": 4,
 "nbformat_minor": 5
}
