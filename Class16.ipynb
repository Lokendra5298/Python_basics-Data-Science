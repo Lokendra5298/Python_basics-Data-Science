{
 "cells": [
  {
   "cell_type": "markdown",
   "id": "3f88f026-e664-4a48-98a4-64eafde5d377",
   "metadata": {},
   "source": [
    "## File Input and Output"
   ]
  },
  {
   "cell_type": "code",
   "execution_count": 1,
   "id": "2b49ee29-b323-43c7-8636-de8fa52c352d",
   "metadata": {},
   "outputs": [],
   "source": [
    "msg1 = 'This is message 1 \\n'\n",
    "msg2 = 'This is the subject data science \\n'\n",
    "msg3 = 'Course no of the subject data science is ED5340 \\n'\n",
    "\n",
    "f = open('messages.txt','w')\n",
    "f.write(msg1)\n",
    "f.write(msg2)\n",
    "f.write(msg3)\n",
    "f.close()"
   ]
  },
  {
   "cell_type": "code",
   "execution_count": 2,
   "id": "495051fc-2eca-46e5-837b-e5097f48c831",
   "metadata": {},
   "outputs": [
    {
     "name": "stdout",
     "output_type": "stream",
     "text": [
      "This is message 1 \n",
      "This is the subject data science \n",
      "Course no of the subject data science is ED5340 \n",
      "\n",
      "T\n",
      "type['This is message 1 \\nThis is the subject data science \\nCourse no of the subject data science is ED5340 \\n']\n"
     ]
    }
   ],
   "source": [
    "f = open('messages.txt','r')\n",
    "data = f.read()\n",
    "print(data)\n",
    "print(data[0])\n",
    "print(type[data])\n",
    "f.close()"
   ]
  },
  {
   "cell_type": "code",
   "execution_count": 6,
   "id": "bd24d4a7-97ae-4027-9192-06bb420237eb",
   "metadata": {},
   "outputs": [
    {
     "name": "stdout",
     "output_type": "stream",
     "text": [
      "i\n"
     ]
    }
   ],
   "source": [
    "print(data[2])\n"
   ]
  },
  {
   "cell_type": "code",
   "execution_count": 15,
   "id": "9ce289db-ce98-4c32-9771-9361e7ecf729",
   "metadata": {},
   "outputs": [
    {
     "name": "stdout",
     "output_type": "stream",
     "text": [
      "This is message 1 \n",
      "This is the subject data science \n",
      "Course no of the subject data science is ED5340 \n",
      "\n"
     ]
    }
   ],
   "source": [
    "#with closes the file automatically\n",
    "with open('messages.txt', 'r') as f:\n",
    "    data1 = f.read()\n",
    "    print(data1)"
   ]
  },
  {
   "cell_type": "code",
   "execution_count": 1,
   "id": "b3f18f3c-f185-428a-bb05-447d7cf5a629",
   "metadata": {},
   "outputs": [
    {
     "name": "stdout",
     "output_type": "stream",
     "text": [
      "nt\n",
      "\n",
      "<built-in function getcwd>\n",
      "\n",
      "['.ipynb_checkpoints', 'Class1.ipynb', 'Class10.ipynb', 'Class11.ipynb', 'Class12.ipynb', 'Class13.ipynb', 'Class14.ipynb', 'Class15.ipynb', 'Class16.ipynb', 'Class2.ipynb', 'Class3.ipynb', 'Class4.ipynb', 'Class5.ipynb', 'Class6.ipynb', 'Class7.ipynb', 'Class8.ipynb', 'Class9.ipynb', 'Complex_class.ipynb', 'Dict_CW0.ipynb', 'Dict_CW1.ipynb', 'Function_cw0.ipynb', 'LAB4_PART_1.ipynb', 'LAB5_p1.ipynb', 'LAB5_p2.ipynb', 'MA23M008_hw1.ipynb', 'MA23M008_hw2.ipynb', 'MA23M008_hw3_p1.ipynb', 'MA23M008_hw3_p2.ipynb', 'MA23M008_hw4_p2.ipynb', 'messages.txt', 'Set_CW0.ipynb', 'Set_CW1.ipynb', 'test_csv.txt']\n",
      "\n",
      "['.ipynb_checkpoints', 'compo_trape.ipynb', 'data', 'Data Science', 'data.txt', 'DSA_Questions.ipynb', 'iris_test.xlsx', 'Linear_regression.ipynb', 'medical.csv', 'ML_Scikit_learn.ipynb', 'Neural_Network.ipynb', 'Pandas_3_4.ipynb', 'Pandas_demo2.ipynb', 'Pandas_demo_1.ipynb', 'Pandas_demo_5.ipynb', 'Pandas_demo_6.ipynb', 'Pandas_demo_7.ipynb', 'Python codes', 'Q4.ipynb', 'Q_1_code.ipynb', 'Rough_work.ipynb', 'survey_results_schema.csv', 'Untitled.ipynb', 'Untitled1.ipynb']\n"
     ]
    }
   ],
   "source": [
    "import os\n",
    "import shutil\n",
    "\n",
    "print(os.name)\n",
    "print()\n",
    "print(os.getcwd) #cwd: current working dicrectory\n",
    "print()\n",
    "print(os.listdir('.')) \n",
    "print()\n",
    "print(os.listdir('..'))"
   ]
  },
  {
   "cell_type": "code",
   "execution_count": 20,
   "id": "c5846f2c-d508-41b0-b8a2-722701283dec",
   "metadata": {},
   "outputs": [
    {
     "name": "stdout",
     "output_type": "stream",
     "text": [
      "new_example.txt does not exist.\n"
     ]
    }
   ],
   "source": [
    "# Check if a file or directory exists\n",
    "file_path = 'example.txt'\n",
    "if os.path.exists(file_path):\n",
    "    print(f\"{file_path} exists.\")\n",
    "\n",
    "# Rename a file\n",
    "new_file_name = 'new_example.txt'\n",
    "if os.path.exists(file_path):\n",
    "    os.rename(file_path, new_file_name)\n",
    "    print(f\"{file_path} has been renamed to {new_file_name}\")\n",
    "\n",
    "# Print the contents of the renamed file\n",
    "if os.path.exists(new_file_name):\n",
    "    with open(new_file_name, 'r') as f:\n",
    "        data = f.read()\n",
    "        print(f\"\\nContents of {new_file_name}:\\n{data}\")\n",
    "else:\n",
    "    print(f\"{new_file_name} does not exist.\")"
   ]
  },
  {
   "cell_type": "code",
   "execution_count": 21,
   "id": "6194c2ed-fb5f-47c5-8946-ad46030a8999",
   "metadata": {},
   "outputs": [
    {
     "name": "stdout",
     "output_type": "stream",
     "text": [
      "['databases']\n",
      "['Lokendra', ' Mathematics', ' MA23M008']\n",
      "['Hrithik', ' Electrical', ' EE23M010']\n",
      "['Teja', ' Electrical', ' EE23M015']\n",
      "<_csv.reader object at 0x000001D6C8457400>\n"
     ]
    }
   ],
   "source": [
    "# Comma-separated values (csv)\n",
    "# Format is the most common import and export format for spreadsheets and \n",
    "import csv\n",
    "\n",
    "with open('test_csv.txt', 'r') as csv_file:\n",
    "    csv_reader = csv.reader(csv_file)\n",
    "    for row in csv_reader:\n",
    "        print(row)\n",
    "\n",
    "print(csv_reader)"
   ]
  },
  {
   "cell_type": "code",
   "execution_count": 2,
   "id": "1497f0a7-3014-44ce-8507-a749b644ebaa",
   "metadata": {},
   "outputs": [
    {
     "name": "stdout",
     "output_type": "stream",
     "text": [
      "{'name': 'Ram', 'languages': ['Python', 'C++']}\n"
     ]
    }
   ],
   "source": [
    "# JSON Format(Python string in JSON format)\n",
    "import json\n",
    "\n",
    "per = '{\"name\": \"Ram\", \"languages\": [\"Python\", \"C++\"]}'\n",
    "per_dct = json.loads(per)\n",
    "\n",
    "print(per_dct)"
   ]
  },
  {
   "cell_type": "code",
   "execution_count": 3,
   "id": "8125d014-13b7-4eeb-a185-fb2b9a1d04f1",
   "metadata": {},
   "outputs": [
    {
     "name": "stdout",
     "output_type": "stream",
     "text": [
      "{\"name\": \"Ram\", \"languages\": [\"Python\", \"C++\"]}\n"
     ]
    }
   ],
   "source": [
    "# Reverse - Python object to JSON format \n",
    "\n",
    "dct = {'name': 'Ram', 'languages': ['Python', 'C++']}\n",
    "str1 = json.dumps(dct) #This function returns a string\n",
    "print(str1)\n"
   ]
  },
  {
   "cell_type": "code",
   "execution_count": null,
   "id": "455e7853-82e2-4e9e-ad74-dcb20efd9829",
   "metadata": {},
   "outputs": [],
   "source": []
  }
 ],
 "metadata": {
  "kernelspec": {
   "display_name": "Python 3 (ipykernel)",
   "language": "python",
   "name": "python3"
  },
  "language_info": {
   "codemirror_mode": {
    "name": "ipython",
    "version": 3
   },
   "file_extension": ".py",
   "mimetype": "text/x-python",
   "name": "python",
   "nbconvert_exporter": "python",
   "pygments_lexer": "ipython3",
   "version": "3.11.4"
  }
 },
 "nbformat": 4,
 "nbformat_minor": 5
}
