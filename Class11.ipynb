{
 "cells": [
  {
   "cell_type": "code",
   "execution_count": 4,
   "id": "4432e64e-7e17-4568-a037-907926d69634",
   "metadata": {},
   "outputs": [
    {
     "name": "stdout",
     "output_type": "stream",
     "text": [
      "Sum is= 90\n"
     ]
    }
   ],
   "source": [
    "# Function\n",
    "# def function_name(arg1, arg2…….): #Function definition\n",
    "# Formal argument we gave in function\n",
    "# actual argument we use to call function\n",
    "def cal_sum(x,y):\n",
    "    s= x+y\n",
    "    return s\n",
    "a= 10\n",
    "b= 80\n",
    "c= cal_sum(a,b)\n",
    "print('Sum is=',c)"
   ]
  },
  {
   "cell_type": "code",
   "execution_count": 6,
   "id": "8638b844-5d20-4c38-9a36-badb071f2d00",
   "metadata": {},
   "outputs": [
    {
     "name": "stdout",
     "output_type": "stream",
     "text": [
      "Addition and substraction of 2 numbers is= (90, -70)\n"
     ]
    }
   ],
   "source": [
    "# To return multiple argument we use pointer or array\n",
    "def add_substract(x,y):\n",
    "    add= x+y\n",
    "    sub= x-y\n",
    "    return add, sub\n",
    "\n",
    "d= add_substract(a,b)\n",
    "print('Addition and substraction of 2 numbers is=',d)"
   ]
  },
  {
   "cell_type": "code",
   "execution_count": 3,
   "id": "9f2b1354-26f8-42cd-936f-95a2cd82702c",
   "metadata": {},
   "outputs": [
    {
     "name": "stdout",
     "output_type": "stream",
     "text": [
      "Hi, I am Prince\n",
      "My age is 20\n",
      "Hi, I am Prince\n",
      "My age is 20\n"
     ]
    }
   ],
   "source": [
    "# Keyword arguments\n",
    "def nameAge(name, age):\n",
    "    print(\"Hi, I am\", name)\n",
    "    print(\"My age is\", age)\n",
    "\n",
    "# Calling the function using keyword-only arguments\n",
    "nameAge(name=\"Prince\", age=20)\n",
    "nameAge(age=20, name=\"Prince\")"
   ]
  },
  {
   "cell_type": "code",
   "execution_count": 6,
   "id": "e8770beb-0144-485f-aa2c-7e3e79b20a7f",
   "metadata": {},
   "outputs": [
    {
     "name": "stdout",
     "output_type": "stream",
     "text": [
      "Output1= 11.34 , Output2= RAM\n",
      "Output: (11.34, 'RAM')\n"
     ]
    }
   ],
   "source": [
    "# Positional arguments\n",
    "def pos_fun(i, f, st):\n",
    "    su1= i+f\n",
    "    str1= st.upper()\n",
    "    return su1, str1\n",
    "i1, f1, st1= 5, 6.34, 'Ram'\n",
    "out1, out2= pos_fun(i1, f1, st1)\n",
    "print('Output1=',out1,', Output2=', out2)\n",
    "\n",
    "# i1, st1, f1= 5, 6.34, 'Ram' # Changing position it will show error\n",
    "# out1, out2= pos_fun(i1, f1, st1)\n",
    "# print('Output1=',out1,', Output2=', out2)\n",
    "\n",
    "# i1, st1, f1= 5,'Ram', 6.34\n",
    "# out1, out2= pos_fun(i1, st1, f1) # Changing position inside will show error\n",
    "# print('Output1=',out1,', Output2=', out2)\n",
    "\n",
    "out_lst= pos_fun(i1, f1, st1)\n",
    "print('Output:',out_lst) # Tuple output"
   ]
  },
  {
   "cell_type": "code",
   "execution_count": 19,
   "id": "a54d1cc6-2412-4222-924f-31e76c30ff0e",
   "metadata": {},
   "outputs": [
    {
     "name": "stdout",
     "output_type": "stream",
     "text": [
      "Output_1: (30.6, 'RAM')\n",
      "Output_1: (30.6, 'RAM')\n",
      "\n"
     ]
    }
   ],
   "source": [
    "# Keyword arguments\n",
    "out_lst1 = pos_fun(i=10, f=20.6, st='Ram')\n",
    "print('Output_1:',out_lst1) # Tuple output\n",
    "\n",
    "out_lst2 = pos_fun(i=10, st='Ram', f=20.6) # We can change the order\n",
    "print('Output_1:',out_lst2) # Tuple output\n",
    "\n",
    "print()"
   ]
  },
  {
   "cell_type": "code",
   "execution_count": 25,
   "id": "0540b693-b47d-4f81-9e34-db70e25113ec",
   "metadata": {},
   "outputs": [
    {
     "name": "stdout",
     "output_type": "stream",
     "text": [
      "(30.6, 'RAM')\n",
      "(30.6, 'RAM')\n"
     ]
    }
   ],
   "source": [
    "# Positional and Keyword arguments\n",
    "def pos_kw(i, j, k):\n",
    "    s= i+j\n",
    "    str= k.upper()\n",
    "    return s, str\n",
    "\n",
    "out_lst3= pos_kw(i=10, k='Ram', j=20.6)\n",
    "print(out_lst3)\n",
    "\n",
    "out_lst4= pos_kw(i=10, j=20.6, k='Ram') \n",
    "print(out_lst4)\n",
    "\n",
    "# out_lst4= pos_kw(10, 20.6,'Ram') # We will get error\n",
    "# print(out_lst4)"
   ]
  },
  {
   "cell_type": "code",
   "execution_count": null,
   "id": "793e3c28-00fc-420f-8228-3b2fd8c89f7b",
   "metadata": {},
   "outputs": [],
   "source": [
    "# Variable length positional arguments"
   ]
  }
 ],
 "metadata": {
  "kernelspec": {
   "display_name": "Python 3 (ipykernel)",
   "language": "python",
   "name": "python3"
  },
  "language_info": {
   "codemirror_mode": {
    "name": "ipython",
    "version": 3
   },
   "file_extension": ".py",
   "mimetype": "text/x-python",
   "name": "python",
   "nbconvert_exporter": "python",
   "pygments_lexer": "ipython3",
   "version": "3.11.4"
  }
 },
 "nbformat": 4,
 "nbformat_minor": 5
}
