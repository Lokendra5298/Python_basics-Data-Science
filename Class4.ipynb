{
 "cells": [
  {
   "cell_type": "code",
   "execution_count": 4,
   "id": "eeb818f0-41da-47cb-a8a7-32b8a34d3f9b",
   "metadata": {},
   "outputs": [
    {
     "name": "stdin",
     "output_type": "stream",
     "text": [
      "Enter value of a 12\n",
      "Enter value of b 45\n",
      "Enter value of c 89\n"
     ]
    },
    {
     "name": "stdout",
     "output_type": "stream",
     "text": [
      "a is less than b\n",
      "a is less than c\n"
     ]
    }
   ],
   "source": [
    "# Decision control (if - elif - else)\n",
    "a=float(input(\"Enter value of a\"))\n",
    "b=float(input(\"Enter value of b\"))\n",
    "c=float(input(\"Enter value of c\"))\n",
    "\n",
    "if a<b:\n",
    "    print(\"a is less than b\")\n",
    "else:\n",
    "    print(\"a is greater than b\")\n",
    "\n",
    "if a<c:\n",
    "    print(\"a is less than c\")\n",
    "else:\n",
    "    print(\"a is greater than c\")\n"
   ]
  },
  {
   "cell_type": "code",
   "execution_count": 7,
   "id": "11fc6d50-6912-48ba-a5bf-5aef5a0a3b7f",
   "metadata": {},
   "outputs": [
    {
     "name": "stdin",
     "output_type": "stream",
     "text": [
      "Enter value of x 45\n"
     ]
    },
    {
     "name": "stdout",
     "output_type": "stream",
     "text": [
      "x is out of range\n"
     ]
    }
   ],
   "source": [
    "# Some nuances than what C offers\n",
    "x=float(input(\"Enter value of x\"))\n",
    "if 1 < x < 10:\n",
    "    print(\"x is in range\")\n",
    "else:\n",
    "    print(\"x is out of range\")\n",
    "#if x > 1 and x < 10:\n",
    "#    print(\"x is in range\")\n"
   ]
  },
  {
   "cell_type": "code",
   "execution_count": 11,
   "id": "0be3867e-15a0-4b70-8bf2-be23294b222c",
   "metadata": {},
   "outputs": [
    {
     "name": "stdout",
     "output_type": "stream",
     "text": [
      "All three variables are equal.\n",
      "true\n"
     ]
    }
   ],
   "source": [
    "# The expression a == b == c is used to check if all three variables have the same value. For example,\n",
    "a = 5\n",
    "b = 5\n",
    "c = 5\n",
    "\n",
    "if a == b == c:\n",
    "    print(\"All three variables are equal.\")\n",
    "else:\n",
    "    print(\"Not all three variables are equal.\")\n",
    "    \n",
    "# a!=b!=c\n",
    "a = 5\n",
    "b = 3\n",
    "\n",
    "if a != b and b != a:\n",
    "    print('true')\n",
    "else:\n",
    "    print('false')\n"
   ]
  },
  {
   "cell_type": "code",
   "execution_count": 12,
   "id": "aac78c6e-e3f5-4708-8ec2-5c85de374b8a",
   "metadata": {},
   "outputs": [
    {
     "name": "stdout",
     "output_type": "stream",
     "text": [
      "The largest value is: 8\n"
     ]
    }
   ],
   "source": [
    "# argest one including logical operators.\n",
    "a = 5\n",
    "b = 8\n",
    "c = 3\n",
    "if a >= b and a >= c:\n",
    "    largest = a\n",
    "elif b >= a and b >= c:\n",
    "    largest = b\n",
    "else:\n",
    "    largest = c\n",
    "print(\"The largest value is:\", largest)\n"
   ]
  },
  {
   "cell_type": "code",
   "execution_count": 15,
   "id": "dfc52b89-b2ca-4f6f-b58f-a5906cc66e10",
   "metadata": {},
   "outputs": [
    {
     "name": "stdout",
     "output_type": "stream",
     "text": [
      "At least one number is greater than 5.\n",
      "All numbers are positive.\n"
     ]
    }
   ],
   "source": [
    "# functions any( ) and all( )\n",
    "numbers = [3, 7, 1, 4]\n",
    "if any(num > 5 for num in numbers):\n",
    "    print(\"At least one number is greater than 5.\")\n",
    "\n",
    "# Checking all( )\n",
    "positive_numbers = [1, 3, 7, 4]\n",
    "if all(num > 0 for num in positive_numbers):\n",
    "    print(\"All numbers are positive.\")\n",
    "else:\n",
    "    print(\"Not all numbers are positive.\")"
   ]
  },
  {
   "cell_type": "code",
   "execution_count": 17,
   "id": "78b6635b-dce8-4ea3-bf12-9b415acc0e33",
   "metadata": {},
   "outputs": [
    {
     "name": "stdout",
     "output_type": "stream",
     "text": [
      "L\n",
      "o\n",
      "k\n",
      "e\n",
      "n\n",
      "d\n",
      "r\n",
      "a\n"
     ]
    }
   ],
   "source": [
    "# Key differences between for and while\n",
    "str1='Lokendra'\n",
    "for end in str1:\n",
    "    print(end)\n",
    "    "
   ]
  },
  {
   "cell_type": "code",
   "execution_count": 21,
   "id": "32ed2b3a-4082-4ff9-84c3-361b704b78c7",
   "metadata": {},
   "outputs": [
    {
     "name": "stdout",
     "output_type": "stream",
     "text": [
      "[0, 2, 4, 6, 8]\n",
      "[0, 1, 2, 3, 4, 5, 6, 7, 8, 9]\n"
     ]
    }
   ],
   "source": [
    "#range( ) function\n",
    "print(list(range(0, 10, 2)))\n",
    "print(list(range(0, 10)))"
   ]
  },
  {
   "cell_type": "code",
   "execution_count": null,
   "id": "cde1bffc-0d69-482c-9d69-91ea5d1322b1",
   "metadata": {},
   "outputs": [],
   "source": []
  }
 ],
 "metadata": {
  "kernelspec": {
   "display_name": "Python 3 (ipykernel)",
   "language": "python",
   "name": "python3"
  },
  "language_info": {
   "codemirror_mode": {
    "name": "ipython",
    "version": 3
   },
   "file_extension": ".py",
   "mimetype": "text/x-python",
   "name": "python",
   "nbconvert_exporter": "python",
   "pygments_lexer": "ipython3",
   "version": "3.11.4"
  }
 },
 "nbformat": 4,
 "nbformat_minor": 5
}
